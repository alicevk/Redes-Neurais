{
 "cells": [
  {
   "cell_type": "markdown",
   "source": [
    "O caixeiro com gasolina infinita (e sem consciência ambiental)\r\n",
    "========================================\r\n",
    "\r\n"
   ],
   "metadata": {}
  },
  {
   "cell_type": "markdown",
   "source": [
    "## Introdução\n",
    "\n"
   ],
   "metadata": {}
  },
  {
   "cell_type": "markdown",
   "source": [
    "Este experimento é muito semelhante ao experimento A.06, do caixeiro viajante. A diferença, no entanto, é que ao invés de ser um problema de *minimização*, o consideramos um problema de *maximização* - isso significa que queremos encontrar agora o **maior** caminho que percorre $n$ cidades, e não o **menor**.\r\n"
   ],
   "metadata": {}
  },
  {
   "cell_type": "markdown",
   "source": [
    "## Objetivo\n",
    "\n"
   ],
   "metadata": {}
  },
  {
   "cell_type": "markdown",
   "source": [
    "**Objetivo**: Encontre o caminho de *maior* distância no problema do caixeiro viajante e mostre ele de forma gráfica.\r\n",
    "\r\n",
    "**Considerações do experimento**: Considere um número $n\\geq 7$ de coordenadas $(x,y)$ de cidades e que o caixeiro tenha combustível infinito. Você pode gerar as coordenadas de forma aleatória ou simplesmente usar as coordenadas que desejar. O caixeiro só anda em linha reta e apenas entre duas cidades. O caixeiro começa e termina seu trajeto na mesma cidade e, fora a cidade inicial, ele não visita nenhuma outra cidade mais de uma vez."
   ],
   "metadata": {}
  },
  {
   "cell_type": "markdown",
   "source": [
    "## Importações\n",
    "\n"
   ],
   "metadata": {}
  },
  {
   "cell_type": "markdown",
   "source": [
    "Todos os comandos de `import` devem estar dentro desta seção.\n",
    "\n"
   ],
   "metadata": {}
  },
  {
   "cell_type": "code",
   "execution_count": 1,
   "source": [
    "import random\r\n",
    "from funcoes import criaCidades \r\n",
    "from funcoes import população_cv as criaPopulaçãoInicial\r\n",
    "from funcoes import funçãoObjetivoPopulação_cv  as funçãoObjetivoPopulação\r\n",
    "from funcoes import seleçãoTorneioMax as funçãoSeleção\r\n",
    "from funcoes import cruzamentoOrdenado as funçãoCruzamento\r\n",
    "from funcoes import mutaçãoDeTroca as funçãoMutação\r\n",
    "import matplotlib.pyplot as plt"
   ],
   "outputs": [],
   "metadata": {}
  },
  {
   "cell_type": "markdown",
   "source": [
    "## Códigos e discussão\n",
    "\n"
   ],
   "metadata": {}
  },
  {
   "cell_type": "markdown",
   "source": [
    "Antes de dar início à edição do código do código original do caixeiro viajante, vale a pena considerar o que deverá ser modificado e o que deve continuar igual para adaptar o problema;\r\n",
    "\r\n",
    "* **Continua igual:**\r\n",
    "    * A função de criação das cidades e maneira de medir a distância deve continuar a mesma, pois não afeta o problema;\r\n",
    "    * As funções de criação de indivíduo e população também devem permanecer iguais;\r\n",
    "    * A função de cruzamento pode continuar igual;\r\n",
    "    * A função de mutação também pode ser a mesma;\r\n",
    "    * OBS: Pensei inicialmente que a função objetivo também teria que ser modificada, mas, em realidade, ela apenas computa a distância, portanto também deve permanecer igual.\r\n",
    "\r\n",
    "<br>\r\n",
    "\r\n",
    "* **Deve ser mudado:**\r\n",
    "    * A constante do número de cidades $n$ deve agora ser maior ou igual a 7; $\\checkmark$\r\n",
    "    * A função de seleção deve ser modificada de modo a beneficiar os indivíduos com **maior** distância; $\\checkmark$\r\n",
    "    * A implementação do hall da fama também precisa considerar essa inversão; $\\checkmark$\r\n",
    "    * A solução agora deve ser representada graficamente. $\\checkmark$"
   ],
   "metadata": {}
  },
  {
   "cell_type": "code",
   "execution_count": 2,
   "source": [
    "# Constantes:\r\n",
    "\r\n",
    "TAMANHO_POP = 10\r\n",
    "CHANCE_CRUZAMENTO = 0.5\r\n",
    "CHANCE_MUTAÇÃO = 0.05\r\n",
    "NUM_COMBATENTES_NO_TORNEIO = 3\r\n",
    "\r\n",
    "NUM_GERAÇÕES = 15\r\n",
    "NUM_CIDADES = 8\r\n",
    "CIDADES = criaCidades(NUM_CIDADES)\r\n",
    "POSIÇÕES_CIDADES_LISTA = list(CIDADES.values())\r\n"
   ],
   "outputs": [],
   "metadata": {}
  },
  {
   "cell_type": "code",
   "execution_count": 3,
   "source": [
    "# Busca por algoritmo genético:\r\n",
    "\r\n",
    "população = criaPopulaçãoInicial(TAMANHO_POP, CIDADES)\r\n",
    "\r\n",
    "melhor_fitness_já_visto = float(\"-inf\")\r\n",
    "\r\n",
    "for n in range(NUM_GERAÇÕES):\r\n",
    "    \r\n",
    "    # Seleção\r\n",
    "    fitness = funçãoObjetivoPopulação(população,CIDADES)\r\n",
    "    população = funçãoSeleção(população, fitness)\r\n",
    "    \r\n",
    "    # Cruzamento\r\n",
    "    pais = população[0::2]\r\n",
    "    mães = população[1::2]\r\n",
    "    \r\n",
    "    contador = 0\r\n",
    "    \r\n",
    "    for pai, mãe in zip(pais, mães):\r\n",
    "        if random.random() <= CHANCE_CRUZAMENTO:\r\n",
    "            filho1, filho2 = funçãoCruzamento(pai, mãe)\r\n",
    "            população[contador] = filho1\r\n",
    "            população[contador + 1] = filho2\r\n",
    "        \r\n",
    "        contador = contador + 2   \r\n",
    "        \r\n",
    "    # Mutação\r\n",
    "    for n in range(len(população)):\r\n",
    "        if random.random() <= CHANCE_MUTAÇÃO:\r\n",
    "            indivíduo = população[n]\r\n",
    "            população[n] = funçãoMutação(indivíduo)            \r\n",
    "            \r\n",
    "    # melhor individuo já visto até agora\r\n",
    "    fitness = funçãoObjetivoPopulação(população, CIDADES)\r\n",
    "    maior_fitness = max(fitness)\r\n",
    "    if maior_fitness > melhor_fitness_já_visto:        \r\n",
    "        posição = fitness.index(maior_fitness)\r\n",
    "        melhor_indivíduo_já_visto = população[posição]\r\n",
    "        melhor_fitness_já_visto = maior_fitness"
   ],
   "outputs": [],
   "metadata": {}
  },
  {
   "cell_type": "code",
   "execution_count": 4,
   "source": [
    "# Checando os resultados:\r\n",
    "\r\n",
    "print()\r\n",
    "print(\"Melhor individuo obtido por algoritmos genéticos:\")\r\n",
    "print(melhor_indivíduo_já_visto, \"com distância:\", melhor_fitness_já_visto)"
   ],
   "outputs": [
    {
     "output_type": "stream",
     "name": "stdout",
     "text": [
      "\n",
      "Melhor individuo obtido por algoritmos genéticos:\n",
      "['Cidade 6', 'Cidade 5', 'Cidade 1', 'Cidade 4', 'Cidade 3', 'Cidade 2', 'Cidade 7', 'Cidade 0'] com distância: 4.976293143858393\n"
     ]
    }
   ],
   "metadata": {}
  },
  {
   "cell_type": "code",
   "execution_count": 5,
   "source": [
    "# Visualização gráfica:\r\n",
    "\r\n",
    "# ----- Dados:\r\n",
    "x, y = zip(*[CIDADES[i] for i in melhor_indivíduo_já_visto])\r\n",
    "\r\n",
    "# ----- Gráfico\r\n",
    "fig, ax = plt.subplots(figsize=(8,8))\r\n",
    "ax.set_ylim(-0.1, 1.1)\r\n",
    "ax.set_xlim(-0.1, 1.1)\r\n",
    "ax.set_box_aspect(1)\r\n",
    "plt.grid()\r\n",
    "\r\n",
    "plt.plot(x, y, 'k--', alpha=.75) # CAMINHO\r\n",
    "plt.scatter(x, y, marker='X', s=175, color='r') # CIDADES\r\n",
    "\r\n",
    "for X, Y in zip(x, y):\r\n",
    "    ax.text(X-0.05, Y+0.03, melhor_indivíduo_já_visto[x.index(X)], fontsize=10, color='r') # LABEL DAS CIDADES\r\n",
    "\r\n",
    "plt.show()"
   ],
   "outputs": [
    {
     "output_type": "display_data",
     "data": {
      "image/png": "[encoded data removed]",
      "text/plain": [
       "<Figure size 576x576 with 1 Axes>"
      ]
     },
     "metadata": {
      "needs_background": "light"
     }
    }
   ],
   "metadata": {}
  },
  {
   "cell_type": "markdown",
   "source": [
    "OBS: optei por não plotar no gráfico o caminho \"fechado\", como um ciclo infinito, por me preocupar com o meio ambiente e a emissão de gás carbônico - mas entendo que o problema original não funciona desta maneira. ☃"
   ],
   "metadata": {}
  },
  {
   "cell_type": "markdown",
   "source": [
    "## Conclusão\n",
    "\n"
   ],
   "metadata": {}
  },
  {
   "cell_type": "markdown",
   "source": [
    "Apesar de o código ser muito semelhante ao utilizado para o problema original de minimização, é impressionante a maneira como a modificação de apenas alguns sinais (trocas de $\\le$ para $\\ge$ e de $\\infty$ pra $-\\infty$, por exemplo) pode mudar tão drasticamente os resultados. A aplicação de algoritmos genéticos para solucionar o problema do caixeiro viajante com gasolina infinita (com o objetivo de maximizar o percurso) é uma abordagem interessante, e, embora a maioria dos estudos se concentre na minimização do caminho, a maximização pode ser útil em algumas aplicações práticas."
   ],
   "metadata": {}
  },
  {
   "cell_type": "markdown",
   "source": [
    "## Playground\n",
    "\n"
   ],
   "metadata": {}
  },
  {
   "cell_type": "code",
   "execution_count": null,
   "source": [],
   "outputs": [],
   "metadata": {}
  }
 ],
 "metadata": {
  "kernelspec": {
   "name": "python3",
   "display_name": "Python 3.9.7 64-bit ('ilumpy': venv)"
  },
  "language_info": {
   "codemirror_mode": {
    "name": "ipython",
    "version": 3
   },
   "file_extension": ".py",
   "mimetype": "text/x-python",
   "name": "python",
   "nbconvert_exporter": "python",
   "pygments_lexer": "ipython3",
   "version": "3.9.7"
  },
  "org": null,
  "interpreter": {
   "hash": "b3e6b8674b6565fbc2ba6932dd725c7d9cea502db282270049ae80a8cf38102d"
  }
 },
 "nbformat": 4,
 "nbformat_minor": 4
}