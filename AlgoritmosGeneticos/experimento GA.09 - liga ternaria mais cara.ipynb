{
 "cells": [
  {
   "cell_type": "markdown",
   "source": [
    "A liga ternária mais cara do mundo\r\n",
    "========================================\r\n",
    "\r\n"
   ],
   "metadata": {}
  },
  {
   "cell_type": "markdown",
   "source": [
    "## Introdução\r\n",
    "\r\n"
   ],
   "metadata": {}
  },
  {
   "cell_type": "markdown",
   "source": [
    "O experimento GA.09 se trata de um problema de maximização (encontrar a liga ternaria de **maior** custo). Para resolvê-lo, a ideia é utilizar uma estrutra de algoritmo genético, como realizado durante as aulas.\r\n"
   ],
   "metadata": {}
  },
  {
   "cell_type": "markdown",
   "source": [
    "## Objetivo\n",
    "\n"
   ],
   "metadata": {}
  },
  {
   "cell_type": "markdown",
   "source": [
    "**Objetivo**: Encontre uma liga de três elementos que tenha o maior custo possível. A liga ternária deve ser da forma $x$ A. $y$ B. $z$ C sendo que $x+y+z = 100\\,\\mathrm{g}$, $x>5\\,\\mathrm{g}$, $y>5\\,\\mathrm{g}$, $z>5\\,\\mathrm{g}$ e &ldquo;A&rdquo;, &ldquo;B&rdquo; e &ldquo;C&rdquo; são elementos químicos. Utilize o preço [1] dado abaixo. Considere que qualquer composto com 3 elementos químicos é chamado de liga.Delete este texto e escreva seu objetivo.\r\n",
    "\r\n"
   ],
   "metadata": {}
  },
  {
   "cell_type": "markdown",
   "source": [
    "## Importações\n",
    "\n"
   ],
   "metadata": {}
  },
  {
   "cell_type": "markdown",
   "source": [
    "Todos os comandos de `import` devem estar dentro desta seção.\n",
    "\n"
   ],
   "metadata": {}
  },
  {
   "cell_type": "code",
   "execution_count": 1,
   "source": [
    "import random\r\n",
    "from funcoes import população_liga as criaPopulaçãoInicial\r\n",
    "from funcoes import seleçãoRoletaMax as funçãoSeleção\r\n",
    "from funcoes import funçãoObjetivoPopulação_ligaCara as funçãoObjetivoPopulação\r\n",
    "from funcoes import cruzamentoPontoSimples as funçãoCruzamento\r\n",
    "from funcoes import mutação_liga as funçãoMutação"
   ],
   "outputs": [],
   "metadata": {}
  },
  {
   "cell_type": "markdown",
   "source": [
    "## Códigos e discussão\n",
    "\n"
   ],
   "metadata": {}
  },
  {
   "cell_type": "code",
   "execution_count": 2,
   "source": [
    "# Lista de preço dos elementos (muito longa!): \r\n",
    "\r\n",
    "# preço em dólares por kilograma\r\n",
    "preco = {\r\n",
    "    \"H\": 1.39,\r\n",
    "    \"He\": 24,\r\n",
    "    \"Li\": 85.6,\r\n",
    "    \"Be\": 857,\r\n",
    "    \"B\": 3.68,\r\n",
    "    \"C\": 0.122,\r\n",
    "    \"N\": 0.14,\r\n",
    "    \"O\": 0.154,\r\n",
    "    \"F\": 2.16,\r\n",
    "    \"Ne\": 240,\r\n",
    "    \"Na\": 3.43,\r\n",
    "    \"Mg\": 2.32,\r\n",
    "    \"Al\": 1.79,\r\n",
    "    \"Si\": 1.7,\r\n",
    "    \"P\": 2.69,\r\n",
    "    \"S\": 0.0926,\r\n",
    "    \"Cl\": 0.082,\r\n",
    "    \"Ar\": 0.931,\r\n",
    "    \"K\": 13.6,\r\n",
    "    \"Ca\": 2.35,\r\n",
    "    \"Sc\": 3460,\r\n",
    "    \"Ti\": 11.7,\r\n",
    "    \"V\": 385,\r\n",
    "    \"Cr\": 9.4,\r\n",
    "    \"Mn\": 1.82,\r\n",
    "    \"Fe\": 0.424,\r\n",
    "    \"Co\": 32.8,\r\n",
    "    \"Ni\": 13.9,\r\n",
    "    \"Cu\": 6,\r\n",
    "    \"Zn\": 2.55,\r\n",
    "    \"Ga\": 148,\r\n",
    "    \"Ge\": 1010,\r\n",
    "    \"As\": 1.31,\r\n",
    "    \"Se\": 21.4,\r\n",
    "    \"Br\": 4.39,\r\n",
    "    \"Kr\": 290,\r\n",
    "    \"Rb\": 15500,\r\n",
    "    \"Sr\": 6.68,\r\n",
    "    \"Y\": 31,\r\n",
    "    \"Nb\": 85.6,\r\n",
    "    \"Mo\": 40.1,\r\n",
    "    \"Tc\": 100000,\r\n",
    "    \"Ru\": 10600,\r\n",
    "    \"Rh\": 147000,\r\n",
    "    \"Pd\": 49500,\r\n",
    "    \"Ag\": 521,\r\n",
    "    \"Cd\": 2.73,\r\n",
    "    \"In\": 167,\r\n",
    "    \"Sn\": 18.7,\r\n",
    "    \"Sb\": 5.79,\r\n",
    "    \"Te\": 63.5,\r\n",
    "    \"I\": 35,\r\n",
    "    \"Xe\": 1800,\r\n",
    "    \"Cs\": 61800,\r\n",
    "    \"Ba\": 0.275,\r\n",
    "    \"La\": 4.92,\r\n",
    "    \"Ce\": 4.71,\r\n",
    "    \"Pr\": 103,\r\n",
    "    \"Nd\": 57.5,\r\n",
    "    \"Pm\": 460000,\r\n",
    "    \"Sm\": 13.9,\r\n",
    "    \"Eu\": 31.4,\r\n",
    "    \"Gd\": 28.6,\r\n",
    "    \"Tb\": 658,\r\n",
    "    \"Dy\": 307,\r\n",
    "    \"Ho\": 57.1,\r\n",
    "    \"Er\": 26.4,\r\n",
    "    \"Tm\": 3000,\r\n",
    "    \"Yb\": 17.1,\r\n",
    "    \"Lu\": 643,\r\n",
    "    \"Hf\": 900,\r\n",
    "    \"Ta\": 312,\r\n",
    "    \"W\": 35.3,\r\n",
    "    \"Re\": 4150,\r\n",
    "    \"Os\": 12000,\r\n",
    "    \"Ir\": 56200,\r\n",
    "    \"Pt\": 27800,\r\n",
    "    \"Hg\": 30.2,\r\n",
    "    \"Tl\": 4200,\r\n",
    "    \"Pb\": 2,\r\n",
    "    \"Bi\": 6.36,\r\n",
    "    \"Po\": 49200000000000,\r\n",
    "    \"Ac\": 29000000000000,\r\n",
    "    \"Th\": 287,\r\n",
    "    \"Pa\": 280000,\r\n",
    "    \"U\": 101,\r\n",
    "    \"Np\": 660000,\r\n",
    "    \"Pu\": 6490000,\r\n",
    "    \"Am\": 750000,\r\n",
    "    \"Cm\": 160000000000,\r\n",
    "    \"Bk\": 185000000000,\r\n",
    "    \"Cf\": 185000000000,\r\n",
    "}"
   ],
   "outputs": [],
   "metadata": {}
  },
  {
   "cell_type": "code",
   "execution_count": 3,
   "source": [
    "# Constantes:\r\n",
    "\r\n",
    "TAMANHO_POP = 50\r\n",
    "CHANCE_CRUZAMENTO = 0.5\r\n",
    "CHANCE_MUTAÇÃO = 0.05\r\n",
    "NUM_GERAÇÕES = 1000\r\n",
    "\r\n",
    "PREÇOS_KG = preco.copy()\r\n",
    "ELEMENTOS = list(PREÇOS_KG.keys())"
   ],
   "outputs": [],
   "metadata": {}
  },
  {
   "cell_type": "code",
   "execution_count": 4,
   "source": [
    "# Script:\r\n",
    "\r\n",
    "população = criaPopulaçãoInicial(TAMANHO_POP, ELEMENTOS)\r\n",
    "\r\n",
    "melhor_fitness_já_visto = float(\"-inf\")\r\n",
    "\r\n",
    "print(\"Progresso da liga ternária mais cara já vista:\")\r\n",
    "\r\n",
    "for _ in range(NUM_GERAÇÕES):\r\n",
    "\r\n",
    "    # --- SELEÇÃO:\r\n",
    "    fitness = funçãoObjetivoPopulação(população, PREÇOS_KG)\r\n",
    "    população = funçãoSeleção(população, fitness)\r\n",
    "\r\n",
    "    # --- CRUZAMENTO:\r\n",
    "    pais = população[0::2]\r\n",
    "    mães = população[1::2]\r\n",
    "    contador = 0\r\n",
    "    \r\n",
    "    for pai, mãe in zip(pais, mães):\r\n",
    "        if random.random() <= CHANCE_CRUZAMENTO:\r\n",
    "            filho1, filho2 = funçãoCruzamento(pai, mãe)\r\n",
    "            população[contador] = filho1\r\n",
    "            população[contador+1] = filho2\r\n",
    "        contador += 2\r\n",
    "\r\n",
    "    # --- MUTAÇÃO:\r\n",
    "    for indivíduo in população:\r\n",
    "        if random.random() <= CHANCE_MUTAÇÃO:\r\n",
    "            #print('Mutação!')\r\n",
    "            #print(\"\".join(indivíduo))\r\n",
    "\r\n",
    "            indivíduo = funçãoMutação(indivíduo, ELEMENTOS)\r\n",
    "\r\n",
    "            #print(\"\".join(indivíduo))\r\n",
    "            #print()\r\n",
    "\r\n",
    "    # --- HALL DA FAMA\r\n",
    "    fitness = funçãoObjetivoPopulação(população, PREÇOS_KG)\r\n",
    "    maior_fitness = max(fitness)\r\n",
    "    if maior_fitness > melhor_fitness_já_visto:\r\n",
    "        posição = fitness.index(maior_fitness)\r\n",
    "        melhor_indivíduo_já_visto = população[posição]\r\n",
    "        melhor_fitness_já_visto = maior_fitness\r\n",
    "        print(melhor_indivíduo_já_visto, \"- fitness:\", melhor_fitness_já_visto)\r\n",
    "\r\n",
    "print()\r\n",
    "print(\"Liga ternária mais cara do mundo encontrada:\")\r\n",
    "print(melhor_indivíduo_já_visto)"
   ],
   "outputs": [
    {
     "output_type": "stream",
     "name": "stdout",
     "text": [
      "Progresso da liga ternária mais cara já vista:\n",
      "[[70, 'Ba'], [14, 'Ac'], [53, 'Ac']] - fitness: 1943000000000.0193\n",
      "[[10, 'Ir'], [14, 'Ac'], [53, 'Ac']] - fitness: 1943000000562.0\n",
      "[[10, 'Ir'], [28, 'Po'], [53, 'Ac']] - fitness: 2914600000562.0\n",
      "[[10, 'Np'], [28, 'Po'], [53, 'Ac']] - fitness: 2914600006600.0\n",
      "[[10, 'Bk'], [28, 'Po'], [53, 'Ac']] - fitness: 2916450000000.0\n",
      "[[10, 'Ta'], [28, 'Po'], [53, 'Po']] - fitness: 3985200000003.12\n",
      "[[10, 'Cs'], [28, 'Po'], [53, 'Po']] - fitness: 3985200000618.0\n",
      "[[10, 'Am'], [28, 'Po'], [53, 'Po']] - fitness: 3985200007500.0\n",
      "[[10, 'Po'], [28, 'Po'], [53, 'Po']] - fitness: 4477200000000.0\n",
      "\n",
      "Liga ternária mais cara do mundo encontrada:\n",
      "[[10, 'Po'], [28, 'Po'], [53, 'Po']]\n"
     ]
    }
   ],
   "metadata": {}
  },
  {
   "cell_type": "markdown",
   "source": [
    "OBS: A resolução que tive quanto ao desafio de realizar uma mutação em indivíduos com diferentes tipos de dados (int e string - ou o número e o elemento) foi alterar apenas o elemento no caso de mutação, afinal os três números $x$, $y$ e $z$ possuem uma relação um com o outro ($x+y+z=100$), e por isso a alteração em apenas um deles não é possível.\r\n",
    "\r\n",
    "OBS 2: Outro grande problema foi o fato de os elementos não poderem se repetir e os números terem que continuar sempre somando 100; na primeira vez que rodei o código o resultado foi `[[80, 'Po'], [61, 'Po'], [30, 'Po']]` - uma \"liga ternária\" somando 171 gramas só de polônio... :,)"
   ],
   "metadata": {}
  },
  {
   "cell_type": "markdown",
   "source": [
    "## Conclusão\n",
    "\n"
   ],
   "metadata": {}
  },
  {
   "cell_type": "markdown",
   "source": [
    "Delete este texto e escreva sua conclusão.\n",
    "\n"
   ],
   "metadata": {}
  },
  {
   "cell_type": "markdown",
   "source": [
    "## Playground\n",
    "\n"
   ],
   "metadata": {}
  },
  {
   "cell_type": "markdown",
   "source": [
    "Todo código de teste que não faz parte do seu experimento deve vir aqui. Este código não será considerado na avaliação.\n",
    "\n"
   ],
   "metadata": {}
  },
  {
   "cell_type": "code",
   "execution_count": null,
   "source": [],
   "outputs": [],
   "metadata": {}
  }
 ],
 "metadata": {
  "kernelspec": {
   "name": "python3",
   "display_name": "Python 3.9.7 64-bit ('ilumpy': venv)"
  },
  "language_info": {
   "codemirror_mode": {
    "name": "ipython",
    "version": 3
   },
   "file_extension": ".py",
   "mimetype": "text/x-python",
   "name": "python",
   "nbconvert_exporter": "python",
   "pygments_lexer": "ipython3",
   "version": "3.9.7"
  },
  "org": null,
  "interpreter": {
   "hash": "b3e6b8674b6565fbc2ba6932dd725c7d9cea502db282270049ae80a8cf38102d"
  }
 },
 "nbformat": 4,
 "nbformat_minor": 4
}