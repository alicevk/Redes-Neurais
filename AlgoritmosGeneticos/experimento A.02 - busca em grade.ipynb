{
 "cells": [
  {
   "cell_type": "markdown",
   "source": [
    "Busca em grade\n",
    "==============\n",
    "\n"
   ],
   "metadata": {}
  },
  {
   "cell_type": "markdown",
   "source": [
    "## Introdução\n",
    "\n"
   ],
   "metadata": {}
  },
  {
   "cell_type": "markdown",
   "source": [
    "Uma forma de se encontrar uma solução para um problema de otimização é realizando uma `busca em grade`. Uma busca em grade nada mais é do que testar exaustivamente todas as combinações possíveis entre um ou mais conjunto de parâmetros.\r\n",
    "\r\n",
    "Vamos supor que você queira testar dois parâmetros em um problema de otimização, $p$ e $q$. Os valores possíveis para $p$ e $q$ estão exibidos abaixo:\r\n",
    "\r\n",
    "$p = \\{0, 1, 2\\}$\r\n",
    "\r\n",
    "$q = \\{a, b, c\\}$\r\n",
    "\r\n",
    "Em uma busca em grade, nós iremos testar todas as combinações entre $p$ e $q$, sendo elas: $(0, a)$, $(0, b)$, $(0,c)$, $(1, a)$, $(1, b)$, $(1,c)$, $(2, a)$, $(2, b)$ e $(2,c)$.\r\n",
    "\r\n",
    "Um algoritmo de busca em grade segue os seguintes passos:\r\n",
    "\r\n",
    "1.  Definir quais são os parâmetros e quais são os valores possíveis para cada parâmetro\r\n",
    "\r\n",
    "2.  Computar e armazenar o resultado da função objetivo para todas as combinações possíveis dos parâmetros definidos no passo 1\r\n",
    "\r\n",
    "3.  Retornar ao usuário a combinação de parâmetros que teve o melhor resultado durante a busca.\r\n",
    "\r\n"
   ],
   "metadata": {}
  },
  {
   "cell_type": "markdown",
   "source": [
    "## Reflexões\n",
    "\n"
   ],
   "metadata": {}
  },
  {
   "cell_type": "markdown",
   "source": [
    "Você diria que o algoritmo de busca em grade é determinístico ou probabilístico?\r\n",
    "\r\n",
    "Será que a busca em grade é capaz de encontrar mínimos (ou máximos) da função objetivo?\r\n",
    "\r\n",
    "O que você espera da performance do algoritmo de busca em grade? Como a performance varia com o número de parâmetros e o número de itens nos conjuntos de valores de cada parâmetro?\r\n",
    "\r\n"
   ],
   "metadata": {}
  },
  {
   "cell_type": "markdown",
   "source": [
    "## Objetivo\n",
    "\n"
   ],
   "metadata": {}
  },
  {
   "cell_type": "markdown",
   "source": [
    "Encontrar uma solução para o problema das caixas binárias usando o algoritmo de busca em grade. Considere 4 caixas.\n",
    "\n"
   ],
   "metadata": {}
  },
  {
   "cell_type": "markdown",
   "source": [
    "## Descrição do problema\n",
    "\n"
   ],
   "metadata": {}
  },
  {
   "cell_type": "markdown",
   "source": [
    "O problema das caixas binárias é simples: nós temos um certo número de caixas e cada uma pode conter um valor do conjunto $\\{0, 1\\}$. O objetivo é encontrar uma combinação de caixas onde a soma dos valores contidos dentro delas é máximo.\n",
    "\n"
   ],
   "metadata": {}
  },
  {
   "cell_type": "markdown",
   "source": [
    "## Importações\n",
    "\n"
   ],
   "metadata": {}
  },
  {
   "cell_type": "code",
   "execution_count": 1,
   "source": [
    "from funcoes import funçãoObjetivo_cb\r\n",
    "import itertools"
   ],
   "outputs": [],
   "metadata": {}
  },
  {
   "cell_type": "markdown",
   "source": [
    "## Códigos e discussão\n",
    "\n"
   ],
   "metadata": {}
  },
  {
   "cell_type": "code",
   "execution_count": 2,
   "source": [
    "# Constantes:\r\n",
    "\r\n",
    "NUM_GENES = 4"
   ],
   "outputs": [],
   "metadata": {}
  },
  {
   "cell_type": "code",
   "execution_count": 3,
   "source": [
    "# Script:\r\n",
    "\r\n",
    "valoresPossíveis = [0, 1]\r\n",
    "dicionário = {}\r\n",
    "\r\n",
    "for indivíduo in itertools.product(valoresPossíveis, repeat = 4):\r\n",
    "    candidato = indivíduo\r\n",
    "    fobj = funçãoObjetivo_cb(candidato)\r\n",
    "    nomeDoCandidato = ''.join(str(candidato[i]) for i in range(len(candidato)))\r\n",
    "    dicionário[nomeDoCandidato] = fobj\r\n",
    "\r\n",
    "resultado = max(dicionário.items())\r\n",
    "\r\n",
    "print('Os candidatos e suas métricas obtidas foram:')\r\n",
    "print(dicionário)\r\n",
    "print()\r\n",
    "print('O melhor candidato e sua métrica foi:')\r\n",
    "print(resultado)"
   ],
   "outputs": [
    {
     "output_type": "stream",
     "name": "stdout",
     "text": [
      "Os candidatos e suas métricas obtidas foram:\n",
      "{'0000': 0, '0001': 1, '0010': 1, '0011': 2, '0100': 1, '0101': 2, '0110': 2, '0111': 3, '1000': 1, '1001': 2, '1010': 2, '1011': 3, '1100': 2, '1101': 3, '1110': 3, '1111': 4}\n",
      "\n",
      "O melhor candidato e sua métrica foi:\n",
      "('1111', 4)\n"
     ]
    }
   ],
   "metadata": {}
  },
  {
   "cell_type": "markdown",
   "source": [
    "## Conclusão\r\n",
    "\r\n",
    "O problema das caixas binárias foi resolvido neste notebook a partir da implementação de um `algoritmo de busca em grade`.\r\n",
    "\r\n",
    "O algoritmo foi implementado com uso da biblioteca `itertools`, e pode ser caracterizado como determinístico, nesse caso - afinal todos os indivíduos possíveis foram analisados.\r\n",
    "\r\n",
    "A busca em grade é interessante por ser capaz de encontrar mínimos ou máximos *globais* da função objetivo. Como mencionado acima, todas as possibilidades são consideradas; isso, naturalmente, garante que o resultado sempre será global.\r\n",
    "\r\n",
    "Sendo assim, essa busca é muito boa para problemas de otimização com um número não muito absurdo de possibilidades de candidatos, pois todas elas serão levadas em conta antes de se concluir um resultado definitivo. O problema das caixas binárias acima é um bom exemplo, afinal todos os 16 indivíduos possíveis foram comparados - o que garante uma solução garantida e global.\r\n",
    "\r\n",
    "Por outro lado, a performance de um algoritmo como esse não é tão rápida e simples como o algoritmo de busca aleatória, realizando muito mais operações (incluindo o cálculo de $2^n$ indivíduos, para $n$ igual ao número de genes, ou \"caixas\" para esse problema)."
   ],
   "metadata": {}
  },
  {
   "cell_type": "markdown",
   "source": [
    "## Playground\n",
    "\n"
   ],
   "metadata": {}
  },
  {
   "cell_type": "code",
   "execution_count": null,
   "source": [],
   "outputs": [],
   "metadata": {}
  }
 ],
 "metadata": {
  "kernelspec": {
   "name": "python3",
   "display_name": "Python 3.9.7 64-bit ('ilumpy': venv)"
  },
  "language_info": {
   "codemirror_mode": {
    "name": "ipython",
    "version": 3
   },
   "file_extension": ".py",
   "mimetype": "text/x-python",
   "name": "python",
   "nbconvert_exporter": "python",
   "pygments_lexer": "ipython3",
   "version": "3.9.7"
  },
  "org": null,
  "interpreter": {
   "hash": "b3e6b8674b6565fbc2ba6932dd725c7d9cea502db282270049ae80a8cf38102d"
  }
 },
 "nbformat": 4,
 "nbformat_minor": 4
}