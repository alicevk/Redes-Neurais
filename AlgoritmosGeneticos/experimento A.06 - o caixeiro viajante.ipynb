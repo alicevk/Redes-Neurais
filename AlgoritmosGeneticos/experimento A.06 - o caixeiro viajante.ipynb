{
 "cells": [
  {
   "cell_type": "markdown",
   "source": [
    "Caixeiro viajante\n",
    "=================\n",
    "\n"
   ],
   "metadata": {}
  },
  {
   "cell_type": "markdown",
   "source": [
    "## Introdução\n",
    "\n"
   ],
   "metadata": {}
  },
  {
   "cell_type": "markdown",
   "source": [
    "Até agora, sempre que nós aplicamos os operadores de `cruzamento` ou de `mutação` nós não nos preocupamos se o indivíduo gerado por estes processo era um `indivíduo válido`. Um indivíduo válido é aquele que representa uma solução possível e bem formulada para o problema em questão.\n",
    "\n",
    "Por exemplo, no problema das caixas binárias, [1, 0, 0, 1] é um indivíduo válido para o caso de termos 4 caixas. Um exemplo de `indivíduo inválido` para este mesmo problema seria [1, 0, 0, a], pois um dos genes está assumindo um valor fora do domínio. Outro exemplo de indivíduo inválido poderia ser [1, 1, 0], pois é um indivíduo com apenas 3 genes, sendo que o esperado eram 4 genes.\n",
    "\n",
    "Neste experimento nós veremos estratégias para evitar que indivíduos inválidos sejam obtidos quando usamos os operadores de cruzamento e de mutação. No notebook seguinte veremos como aplicar uma penalidade para indivíduos inválidos que forem gerados durante uma busca genética com restrições.\n",
    "\n"
   ],
   "metadata": {}
  },
  {
   "cell_type": "markdown",
   "source": [
    "## Objetivo\n",
    "\n"
   ],
   "metadata": {}
  },
  {
   "cell_type": "markdown",
   "source": [
    "Encontrar uma solução para o problema do caixeiro viajante. Considere que ele irá visitar 5 cidades, pode iniciar sua viagem por qualquer uma destas cidades e deve retornar à cidade de início. Durante seu trajeto, não pode visitar a mesma cidade duas vezes (única exceção é a cidade inicial).\n",
    "\n"
   ],
   "metadata": {}
  },
  {
   "cell_type": "markdown",
   "source": [
    "## Descrição do problema\n",
    "\n"
   ],
   "metadata": {}
  },
  {
   "cell_type": "markdown",
   "source": [
    "O problema consiste em descobrir a rota de menor distância entre $n$ pontos no plano cartesiano (ou seja, $n$ pontos com coordenadas $(x,y)$). A rota pode se iniciar em qualquer um dos pontos disponíveis e deve terminar no ponto inicial, visitando todos os demais pontos apenas uma vez. Considere que a rota entre um ponto e outro é a linha reta que liga os dois pontos."
   ],
   "metadata": {}
  },
  {
   "cell_type": "markdown",
   "source": [
    "## Importações\n",
    "\n"
   ],
   "metadata": {}
  },
  {
   "cell_type": "code",
   "execution_count": 1,
   "source": [
    "import random\r\n",
    "from itertools import permutations\r\n",
    "from funcoes import criaCidades \r\n",
    "from funcoes import população_cv as criaPopulaçãoInicial\r\n",
    "from funcoes import funçãoObjetivo_cv as funçãoObjetivoIndivíduo\r\n",
    "from funcoes import funçãoObjetivoPopulação_cv  as funçãoObjetivoPopulação\r\n",
    "from funcoes import seleçãoTorneioMin as funçãoSeleção\r\n",
    "from funcoes import cruzamentoOrdenado as funçãoCruzamento\r\n",
    "from funcoes import mutaçãoDeTroca as funçãoMutação"
   ],
   "outputs": [],
   "metadata": {}
  },
  {
   "cell_type": "markdown",
   "source": [
    "## Códigos e discussão\n",
    "\n"
   ],
   "metadata": {}
  },
  {
   "cell_type": "code",
   "execution_count": 2,
   "source": [
    "# Constantes:\r\n",
    "\r\n",
    "TAMANHO_POP = 10\r\n",
    "CHANCE_CRUZAMENTO = 0.5\r\n",
    "CHANCE_MUTAÇÃO = 0.05\r\n",
    "NUM_COMBATENTES_NO_TORNEIO = 3\r\n",
    "\r\n",
    "NUM_GERAÇÕES = 15\r\n",
    "NUM_CIDADES = 5\r\n",
    "CIDADES = criaCidades(NUM_CIDADES)"
   ],
   "outputs": [],
   "metadata": {}
  },
  {
   "cell_type": "code",
   "execution_count": 3,
   "source": [
    "# Busca por algoritmo genético:\r\n",
    "\r\n",
    "população = criaPopulaçãoInicial(TAMANHO_POP, CIDADES)\r\n",
    "\r\n",
    "melhor_fitness_já_visto = float(\"inf\")\r\n",
    "\r\n",
    "for n in range(NUM_GERAÇÕES):\r\n",
    "    \r\n",
    "    # Seleção\r\n",
    "    fitness = funçãoObjetivoPopulação(população,CIDADES)\r\n",
    "    população = funçãoSeleção(população, fitness)\r\n",
    "    \r\n",
    "    # Cruzamento\r\n",
    "    pais = população[0::2]\r\n",
    "    mães = população[1::2]\r\n",
    "    \r\n",
    "    contador = 0\r\n",
    "    \r\n",
    "    for pai, mãe in zip(pais, mães):\r\n",
    "        if random.random() <= CHANCE_CRUZAMENTO:\r\n",
    "            filho1, filho2 = funçãoCruzamento(pai, mãe)\r\n",
    "            população[contador] = filho1\r\n",
    "            população[contador + 1] = filho2\r\n",
    "        \r\n",
    "        contador = contador + 2   \r\n",
    "        \r\n",
    "    # Mutação\r\n",
    "    for n in range(len(população)):\r\n",
    "        if random.random() <= CHANCE_MUTAÇÃO:\r\n",
    "            indivíduo = população[n]\r\n",
    "            população[n] = funçãoMutação(indivíduo)            \r\n",
    "            \r\n",
    "    # melhor individuo já visto até agora\r\n",
    "    fitness = funçãoObjetivoPopulação(população, CIDADES)\r\n",
    "    menor_fitness = min(fitness)\r\n",
    "    if menor_fitness < melhor_fitness_já_visto:        \r\n",
    "        posição = fitness.index(menor_fitness)\r\n",
    "        melhor_indivíduo_já_visto = população[posição]\r\n",
    "        melhor_fitness_já_visto = menor_fitness"
   ],
   "outputs": [],
   "metadata": {}
  },
  {
   "cell_type": "code",
   "execution_count": 4,
   "source": [
    "# Busca testando todas as permutações:\r\n",
    "\r\n",
    "melhor_fitness_ever = float(\"inf\")\r\n",
    "\r\n",
    "# testando todas as permutações possíveis\r\n",
    "for caminho in permutations(list(CIDADES.keys())):\r\n",
    "    distancia = funçãoObjetivoIndivíduo(caminho,CIDADES)\r\n",
    "    if distancia < melhor_fitness_ever:\r\n",
    "        melhor_fitness_ever = distancia\r\n",
    "        melhor_resposta_ever = caminho"
   ],
   "outputs": [],
   "metadata": {}
  },
  {
   "cell_type": "code",
   "execution_count": 5,
   "source": [
    "# Checando os resultados:\r\n",
    "\r\n",
    "print()\r\n",
    "print(\"Melhor individuo obtido por algoritmos genéticos:\")\r\n",
    "print(melhor_indivíduo_já_visto, \"com distância:\", melhor_fitness_já_visto)\r\n",
    "\r\n",
    "print()\r\n",
    "print(\"Melhor individuo obtido por busca exaustiva:\")\r\n",
    "print(melhor_resposta_ever, \"com distância:\", melhor_fitness_ever)"
   ],
   "outputs": [
    {
     "output_type": "stream",
     "name": "stdout",
     "text": [
      "\n",
      "Melhor individuo obtido por algoritmos genéticos:\n",
      "['Cidade 0', 'Cidade 2', 'Cidade 4', 'Cidade 1', 'Cidade 3'] com distância: 2.2458022280511787\n",
      "\n",
      "Melhor individuo obtido por busca exaustiva:\n",
      "('Cidade 0', 'Cidade 2', 'Cidade 4', 'Cidade 1', 'Cidade 3') com distância: 2.2458022280511787\n"
     ]
    }
   ],
   "metadata": {}
  },
  {
   "cell_type": "markdown",
   "source": [
    "## Conclusão\r\n",
    "\r\n",
    "Neste notebook foi implementado um algoritmo genético para resolver o problema do caixeiro viajante. Este é um clássico problema de otimização no qual o objetivo é encontrar a menor rota possível para um caixeiro viajante visitar todas as cidades em um conjunto de cidades dado.\r\n",
    "\r\n",
    "Apesar do algoritmo genético ter funcionado extremamente bem, a única maneira de realmente saber *com certeza* qual rota é a melhor é testar todas as rotas possíveis e comparar a distância. No entanto, fazer essa verificação é obviamente inviável quando o conjunto de cidades a serem visitadas aumenta.\r\n",
    "\r\n",
    "Por isso, a resolução feita - apesar de nem sempre alcançar a melhor rota - é extremamente relevante, e consegue chegar muito perto da solução \"oficial\""
   ],
   "metadata": {}
  },
  {
   "cell_type": "markdown",
   "source": [
    "## Playground\n",
    "\n"
   ],
   "metadata": {}
  },
  {
   "cell_type": "code",
   "execution_count": null,
   "source": [],
   "outputs": [],
   "metadata": {}
  }
 ],
 "metadata": {
  "kernelspec": {
   "name": "python3",
   "display_name": "Python 3.9.7 64-bit ('ilumpy': venv)"
  },
  "language_info": {
   "codemirror_mode": {
    "name": "ipython",
    "version": 3
   },
   "file_extension": ".py",
   "mimetype": "text/x-python",
   "name": "python",
   "nbconvert_exporter": "python",
   "pygments_lexer": "ipython3",
   "version": "3.9.7"
  },
  "org": null,
  "interpreter": {
   "hash": "b3e6b8674b6565fbc2ba6932dd725c7d9cea502db282270049ae80a8cf38102d"
  }
 },
 "nbformat": 4,
 "nbformat_minor": 4
}