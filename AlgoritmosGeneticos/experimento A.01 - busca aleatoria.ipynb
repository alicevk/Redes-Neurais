{
 "cells": [
  {
   "cell_type": "markdown",
   "source": [
    "Busca aleatória\n",
    "===============\n",
    "\n"
   ],
   "metadata": {}
  },
  {
   "cell_type": "markdown",
   "source": [
    "## Introdução\n",
    "\n"
   ],
   "metadata": {}
  },
  {
   "cell_type": "markdown",
   "source": [
    "Uma forma simples de se encontrar uma solução para um `problema de otimização` é realizando uma `busca aleatória`. A busca aleatória, como o próprio nome sugere, é um algoritmo onde um certo `espaço de busca` é definido de onde sorteamos `candidatos` de soluções para o problema.\r\n",
    "\r\n",
    "Diferentemente de outros algoritmos de otimização, a busca aleatória não requer que a `função objetivo` seja diferenciável nem contínua.\r\n",
    "\r\n",
    "Um algoritmo de busca aleatória segue os seguintes passos:\r\n",
    "\r\n",
    "1.  Um espaço de busca é definido\r\n",
    "\r\n",
    "2.  Um candidato $x$ dentro do espaço de busca é sorteado aleatoriamente\r\n",
    "\r\n",
    "3.  Calculamos o resultado da função objetivo para o candidato $x$\r\n",
    "\r\n",
    "4.  Se o critério de parada for atingido, encerrar o algoritmo e retornar ao usuário o candidato que teve melhor resultado durante a busca. Do contrário, retorne ao passo 2\r\n",
    "\r\n"
   ],
   "metadata": {}
  },
  {
   "cell_type": "markdown",
   "source": [
    "## Reflexões\n",
    "\n"
   ],
   "metadata": {}
  },
  {
   "cell_type": "markdown",
   "source": [
    "Você diria que o algoritmo de busca aleatória é determinístico ou probabilístico?\r\n",
    "\r\n",
    "Em quais problemas de otimização você acredita que este algoritmo seja uma boa escolha?\r\n",
    "\r\n",
    "Em quais problemas de otimização você acredita que este algoritmo seja uma má escolha?\r\n",
    "\r\n"
   ],
   "metadata": {}
  },
  {
   "cell_type": "markdown",
   "source": [
    "## Objetivo\n",
    "\n"
   ],
   "metadata": {}
  },
  {
   "cell_type": "markdown",
   "source": [
    "Encontrar uma solução para o problema das caixas binárias usando o algoritmo de busca aleatória. Considere 4 caixas.\n",
    "\n"
   ],
   "metadata": {}
  },
  {
   "cell_type": "markdown",
   "source": [
    "## Descrição do problema\n",
    "\n"
   ],
   "metadata": {}
  },
  {
   "cell_type": "markdown",
   "source": [
    "O problema das caixas binárias é simples: nós temos um certo número de caixas e cada uma pode conter um valor do conjunto $\\{0, 1\\}$. O objetivo é encontrar uma combinação de caixas onde a soma dos valores contidos dentro delas é máximo.\n",
    "\n",
    "Como todo problema computacional, um dos desafios é &ldquo;traduzir&rdquo; o problema dado em estruturas computacionais.\n",
    "\n"
   ],
   "metadata": {}
  },
  {
   "cell_type": "markdown",
   "source": [
    "## Importações\n",
    "\n"
   ],
   "metadata": {}
  },
  {
   "cell_type": "code",
   "execution_count": 1,
   "source": [
    "from funcoes import gene_cb, indivíduo_cb, funçãoObjetivo_cb"
   ],
   "outputs": [],
   "metadata": {}
  },
  {
   "cell_type": "markdown",
   "source": [
    "## Códigos e discussão\n",
    "\n"
   ],
   "metadata": {}
  },
  {
   "cell_type": "code",
   "execution_count": 2,
   "source": [
    "# Constantes:\r\n",
    "\r\n",
    "NUM_GENES = 4\r\n",
    "NUM_SORTEIOS = 2 ** NUM_GENES"
   ],
   "outputs": [],
   "metadata": {}
  },
  {
   "cell_type": "code",
   "execution_count": 3,
   "source": [
    "# Script:\r\n",
    "\r\n",
    "dicionário = {}\r\n",
    "\r\n",
    "for i in range(NUM_SORTEIOS):\r\n",
    "    candidato = indivíduo_cb(NUM_GENES)\r\n",
    "    fobj = funçãoObjetivo_cb(candidato)\r\n",
    "    nomeDoCandidato = ''.join(str(candidato[i]) for i in range(len(candidato)))\r\n",
    "    dicionário[nomeDoCandidato] = fobj\r\n",
    "\r\n",
    "resultado = max(dicionário.items())\r\n",
    "\r\n",
    "print('Os candidatos e suas métricas obtidas foram:')\r\n",
    "print(dicionário)\r\n",
    "print()\r\n",
    "print('O melhor candidato e sua métrica foi:')\r\n",
    "print(resultado)"
   ],
   "outputs": [
    {
     "output_type": "stream",
     "name": "stdout",
     "text": [
      "Os candidatos e suas métricas obtidas foram:\n",
      "{'1010': 2, '0001': 1, '0011': 2, '1011': 3, '1110': 3, '1001': 2, '1101': 3, '1111': 4, '0110': 2, '1000': 1, '0111': 3}\n",
      "\n",
      "O melhor candidato e sua métrica foi:\n",
      "('1111', 4)\n"
     ]
    }
   ],
   "metadata": {}
  },
  {
   "cell_type": "markdown",
   "source": [
    "## Conclusão\r\n",
    "\r\n",
    "O problema das caixas binárias foi resolvido neste notebook a partir da implementação de um `algoritmo de busca aleatória`.\r\n",
    "\r\n",
    "O algoritmo foi implementado com uso da biblioteca `random`, podendo ser caracterizado como probabilístico - afinal o resultado depende de escolhas aleatórias realizadas por esta biblioteca.\r\n",
    "\r\n",
    "A busca aleatória talvez seja uma boa escolha para problemas de otimização com muitas possibilidades de candidatos que não podem ser completamente exploradas, mas sempre mantendo em mente que talvez a resposta obtida seja apenas uma aproximação ou solução local.\r\n",
    "\r\n",
    "Dessa maneira, esse algoritmo não é a melhor escolha para problemas como o definido acima, que possui um número relativamente baixo de possibilidades totais de indivíduos (nesse caso, um total de $16$, ou $2^n$ para $n=4$ opções).\r\n",
    "\r\n",
    "Mesmo assim, com um espaço de busca suficientemente grande, o resultado global pode ser muito provavelmente encontrado - apesar de não ser garantido."
   ],
   "metadata": {}
  },
  {
   "cell_type": "markdown",
   "source": [
    "## Playground\n",
    "\n"
   ],
   "metadata": {}
  },
  {
   "cell_type": "code",
   "execution_count": null,
   "source": [],
   "outputs": [],
   "metadata": {}
  }
 ],
 "metadata": {
  "kernelspec": {
   "name": "python3",
   "display_name": "Python 3.9.7 64-bit ('ilumpy': venv)"
  },
  "language_info": {
   "codemirror_mode": {
    "name": "ipython",
    "version": 3
   },
   "file_extension": ".py",
   "mimetype": "text/x-python",
   "name": "python",
   "nbconvert_exporter": "python",
   "pygments_lexer": "ipython3",
   "version": "3.9.7"
  },
  "org": null,
  "interpreter": {
   "hash": "b3e6b8674b6565fbc2ba6932dd725c7d9cea502db282270049ae80a8cf38102d"
  }
 },
 "nbformat": 4,
 "nbformat_minor": 4
}