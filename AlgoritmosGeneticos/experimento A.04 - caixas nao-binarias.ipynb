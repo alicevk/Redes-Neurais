{
 "cells": [
  {
   "cell_type": "markdown",
   "source": [
    "Problema das caixas não-binárias\n",
    "================================\n",
    "\n"
   ],
   "metadata": {}
  },
  {
   "cell_type": "markdown",
   "source": [
    "## Objetivo\n",
    "\n"
   ],
   "metadata": {}
  },
  {
   "cell_type": "markdown",
   "source": [
    "Encontrar uma solução para o problema das caixas não-binárias usando um algoritmo genético. Considere 4 caixas. Considere que cada caixa pode ter um valor inteiro dentro do conjunto [0, 100].\n",
    "\n"
   ],
   "metadata": {}
  },
  {
   "cell_type": "markdown",
   "source": [
    "## Descrição do problema\n",
    "\n"
   ],
   "metadata": {}
  },
  {
   "cell_type": "markdown",
   "source": [
    "O problema das caixas não-binárias é simples: nós temos um certo número de caixas e cada uma pode conter um número inteiro. O objetivo é encontrar uma combinação de caixas onde a soma dos valores contidos dentro delas é máximo.\n",
    "\n"
   ],
   "metadata": {}
  },
  {
   "cell_type": "markdown",
   "source": [
    "## Importações\n",
    "\n"
   ],
   "metadata": {}
  },
  {
   "cell_type": "code",
   "execution_count": 1,
   "source": [
    "import random\r\n",
    "from funcoes import população_cnb as criaPopulaçãoInicial\r\n",
    "from funcoes import seleçãoRoletaMax as funçãoSeleção\r\n",
    "from funcoes import funçãoObjetivoPopulação_cb as funçãoObjetivoPopulação\r\n",
    "# Note que acima foi importada a mesma função objetivo do experimento A.02.\r\n",
    "# Isso foi feito pois o cálculo da função fitness para ambos os\r\n",
    "# problemas das caixas binárias e não-binárias é o mesmo. :)\r\n",
    "from funcoes import cruzamentoPontoSimples as funçãoCruzamento\r\n",
    "from funcoes import mutação_cnb as funçãoMutação"
   ],
   "outputs": [],
   "metadata": {}
  },
  {
   "cell_type": "markdown",
   "source": [
    "## Códigos e discussão\n",
    "\n"
   ],
   "metadata": {}
  },
  {
   "cell_type": "code",
   "execution_count": 2,
   "source": [
    "# Constantes:\r\n",
    "TAMANHO_POP = 15\r\n",
    "NUM_GENES = 4\r\n",
    "VALOR_MAX_GENE = 101\r\n",
    "NUM_GERAÇÕES = 20\r\n",
    "CHANCE_CRUZAMENTO = 0.75\r\n",
    "CHANCE_MUTAÇÃO = 0.1"
   ],
   "outputs": [],
   "metadata": {}
  },
  {
   "cell_type": "code",
   "execution_count": 3,
   "source": [
    "# Script:\r\n",
    "\r\n",
    "população = criaPopulaçãoInicial(TAMANHO_POP, NUM_GENES, VALOR_MAX_GENE)\r\n",
    "\r\n",
    "print(\"População inicial:\")\r\n",
    "print(população)\r\n",
    "\r\n",
    "for _ in range(NUM_GERAÇÕES):\r\n",
    "    # --- SELEÇÃO:\r\n",
    "    fitness = funçãoObjetivoPopulação(população)\r\n",
    "    população = funçãoSeleção(população, fitness)\r\n",
    "\r\n",
    "    # --- CRUZAMENTO:\r\n",
    "    pais = população[0::2]\r\n",
    "    mães = população[1::2]\r\n",
    "    contador = 0\r\n",
    "    \r\n",
    "    for pai, mãe in zip(pais, mães):\r\n",
    "        if random.random() <= CHANCE_CRUZAMENTO:\r\n",
    "            filho1, filho2 = funçãoCruzamento(pai, mãe)\r\n",
    "            população[contador] = filho1\r\n",
    "            população[contador+1] = filho2\r\n",
    "        contador += 2\r\n",
    "\r\n",
    "    # --- MUTAÇÃO:\r\n",
    "    for indivíduo in população:\r\n",
    "        if random.random() <= CHANCE_MUTAÇÃO:\r\n",
    "            print()\r\n",
    "            print('Mutação!')\r\n",
    "            print(indivíduo)\r\n",
    "\r\n",
    "            indivíduo = funçãoMutação(indivíduo, VALOR_MAX_GENE)\r\n",
    "\r\n",
    "            print(indivíduo)\r\n",
    "\r\n",
    "print()\r\n",
    "print(\"População final:\")\r\n",
    "print(população)"
   ],
   "outputs": [
    {
     "output_type": "stream",
     "name": "stdout",
     "text": [
      "População inicial:\n",
      "[[97, 20, 29, 99], [2, 37, 59, 87], [49, 76, 88, 20], [34, 70, 87, 17], [56, 97, 32, 47], [66, 80, 92, 73], [25, 36, 78, 74], [17, 7, 86, 3], [46, 19, 89, 14], [29, 83, 43, 41], [95, 8, 77, 86], [100, 56, 8, 97], [12, 2, 44, 100], [61, 53, 79, 5], [76, 76, 63, 68]]\n",
      "\n",
      "Mutação!\n",
      "[49, 76, 87, 17]\n",
      "[49, 29, 87, 17]\n",
      "\n",
      "Mutação!\n",
      "[49, 76, 89, 14]\n",
      "[49, 76, 89, 64]\n",
      "\n",
      "Mutação!\n",
      "[56, 97, 77, 86]\n",
      "[56, 97, 91, 86]\n",
      "\n",
      "Mutação!\n",
      "[56, 97, 77, 100]\n",
      "[56, 88, 77, 100]\n",
      "\n",
      "Mutação!\n",
      "[95, 8, 77, 47]\n",
      "[95, 8, 77, 19]\n",
      "\n",
      "Mutação!\n",
      "[56, 8, 77, 47]\n",
      "[56, 8, 77, 42]\n",
      "\n",
      "Mutação!\n",
      "[56, 97, 91, 86]\n",
      "[56, 97, 12, 86]\n",
      "\n",
      "Mutação!\n",
      "[56, 97, 88, 20]\n",
      "[56, 79, 88, 20]\n",
      "\n",
      "Mutação!\n",
      "[56, 97, 88, 20]\n",
      "[43, 97, 88, 20]\n",
      "\n",
      "Mutação!\n",
      "[56, 8, 77, 47]\n",
      "[56, 8, 77, 98]\n",
      "\n",
      "Mutação!\n",
      "[56, 97, 87, 17]\n",
      "[56, 97, 85, 17]\n",
      "\n",
      "Mutação!\n",
      "[56, 97, 88, 100]\n",
      "[56, 71, 88, 100]\n",
      "\n",
      "Mutação!\n",
      "[100, 8, 77, 98]\n",
      "[100, 18, 77, 98]\n",
      "\n",
      "Mutação!\n",
      "[56, 71, 88, 100]\n",
      "[56, 71, 88, 57]\n",
      "\n",
      "Mutação!\n",
      "[100, 97, 77, 100]\n",
      "[100, 97, 98, 100]\n",
      "\n",
      "Mutação!\n",
      "[56, 97, 77, 20]\n",
      "[56, 97, 99, 20]\n",
      "\n",
      "Mutação!\n",
      "[56, 97, 77, 100]\n",
      "[30, 97, 77, 100]\n",
      "\n",
      "Mutação!\n",
      "[56, 97, 85, 20]\n",
      "[56, 21, 85, 20]\n",
      "\n",
      "Mutação!\n",
      "[56, 97, 98, 100]\n",
      "[56, 97, 28, 100]\n",
      "\n",
      "Mutação!\n",
      "[43, 97, 77, 100]\n",
      "[43, 97, 77, 23]\n",
      "\n",
      "Mutação!\n",
      "[56, 97, 99, 100]\n",
      "[71, 97, 99, 100]\n",
      "\n",
      "Mutação!\n",
      "[71, 97, 99, 100]\n",
      "[71, 97, 50, 100]\n",
      "\n",
      "Mutação!\n",
      "[71, 97, 77, 100]\n",
      "[71, 97, 49, 100]\n",
      "\n",
      "Mutação!\n",
      "[71, 97, 99, 100]\n",
      "[71, 79, 99, 100]\n",
      "\n",
      "Mutação!\n",
      "[56, 97, 99, 100]\n",
      "[34, 97, 99, 100]\n",
      "\n",
      "Mutação!\n",
      "[71, 97, 50, 100]\n",
      "[71, 97, 50, 93]\n",
      "\n",
      "Mutação!\n",
      "[71, 79, 99, 100]\n",
      "[71, 79, 39, 100]\n",
      "\n",
      "Mutação!\n",
      "[56, 97, 50, 100]\n",
      "[56, 97, 78, 100]\n",
      "\n",
      "Mutação!\n",
      "[56, 97, 99, 100]\n",
      "[56, 97, 99, 57]\n",
      "\n",
      "Mutação!\n",
      "[56, 97, 99, 100]\n",
      "[56, 97, 99, 79]\n",
      "\n",
      "População final:\n",
      "[[71, 97, 99, 100], [56, 97, 99, 57], [71, 97, 99, 100], [34, 97, 99, 100], [56, 97, 99, 100], [56, 97, 50, 100], [56, 97, 99, 79], [71, 97, 99, 100], [71, 97, 99, 100], [71, 79, 99, 100], [56, 97, 50, 100], [71, 79, 99, 100], [56, 97, 99, 100], [71, 97, 50, 100], [100, 97, 77, 100]]\n"
     ]
    }
   ],
   "metadata": {}
  },
  {
   "cell_type": "markdown",
   "source": [
    "## Conclusão\r\n",
    "\r\n",
    "O problema das caixas não-binárias é praticamente idêntico ao das caixas binárias. Por esse motivo, sua implementação foi bastante simples. A diferença mais significativa se deu nas funções geradoras de gene, indivíduo e população - apesar de, mesmo assim, ter sido muito sutil.\r\n",
    "\r\n",
    "Como esperado, foi necessária uma alteração nos parâmetros de busca para poder alcançar um melhor resultado. De qualquer maneira, é surpreendente como o algoritmo funciona perfeitamente para esse problema, mesmo sendo mais difícil devido ao número de possibilidades para cada gene."
   ],
   "metadata": {}
  },
  {
   "cell_type": "markdown",
   "source": [
    "## Playground\n",
    "\n"
   ],
   "metadata": {}
  },
  {
   "cell_type": "code",
   "execution_count": null,
   "source": [],
   "outputs": [],
   "metadata": {}
  }
 ],
 "metadata": {
  "kernelspec": {
   "name": "python3",
   "display_name": "Python 3.9.7 64-bit ('ilumpy': venv)"
  },
  "language_info": {
   "codemirror_mode": {
    "name": "ipython",
    "version": 3
   },
   "file_extension": ".py",
   "mimetype": "text/x-python",
   "name": "python",
   "nbconvert_exporter": "python",
   "pygments_lexer": "ipython3",
   "version": "3.9.7"
  },
  "org": null,
  "interpreter": {
   "hash": "b3e6b8674b6565fbc2ba6932dd725c7d9cea502db282270049ae80a8cf38102d"
  }
 },
 "nbformat": 4,
 "nbformat_minor": 4
}