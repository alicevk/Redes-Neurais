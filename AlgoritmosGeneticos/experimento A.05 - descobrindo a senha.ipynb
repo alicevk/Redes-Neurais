{
 "cells": [
  {
   "cell_type": "markdown",
   "source": [
    "Descobrindo a senha\n",
    "===================\n",
    "\n"
   ],
   "metadata": {}
  },
  {
   "cell_type": "markdown",
   "source": [
    "## Objetivo\n",
    "\n"
   ],
   "metadata": {}
  },
  {
   "cell_type": "markdown",
   "source": [
    "Usar um algoritmo genético para descobrir uma senha.\n",
    "\n"
   ],
   "metadata": {}
  },
  {
   "cell_type": "markdown",
   "source": [
    "## Descrição do problema\n",
    "\n"
   ],
   "metadata": {}
  },
  {
   "cell_type": "markdown",
   "source": [
    "Neste problema, a função objetivo deve saber a senha correta e quantificar de alguma maneira o quão perto ou longe os palpites estão da solução (veja que isso é algo que não temos no mundo real. Nenhum site irá te dizer se você está acertando ou errando seu palpite). O critério de parada deste problema é quando a senha for descoberta.\n",
    "\n"
   ],
   "metadata": {}
  },
  {
   "cell_type": "markdown",
   "source": [
    "## Importações\n",
    "\n"
   ],
   "metadata": {}
  },
  {
   "cell_type": "code",
   "execution_count": 1,
   "source": [
    "import random\r\n",
    "from funcoes import população_senha as criaPopulaçãoInicial\r\n",
    "from funcoes import seleçãoTorneioMin as funçãoSeleção\r\n",
    "from funcoes import funçãoObjetivoPopulação_senha as funçãoObjetivoPopulação\r\n",
    "from funcoes import cruzamentoPontoSimples as funçãoCruzamento\r\n",
    "from funcoes import mutação_senha as funçãoMutação"
   ],
   "outputs": [],
   "metadata": {}
  },
  {
   "cell_type": "markdown",
   "source": [
    "## Códigos e discussão\n",
    "\n"
   ],
   "metadata": {}
  },
  {
   "cell_type": "code",
   "execution_count": 2,
   "source": [
    "# Constantes:\r\n",
    "\r\n",
    "TAMANHO_POP = 50\r\n",
    "CHANCE_CRUZAMENTO = 0.5\r\n",
    "CHANCE_MUTAÇÃO = 0.05\r\n",
    "NUM_COMBATENTES_NO_TORNEIO = 3\r\n",
    "\r\n",
    "SENHA = \"thanksforallthefish\"\r\n",
    "LETRAS_POSSÍVEIS = \"abcdefghijklmnopqrstuvwxyz\"\r\n",
    "NUM_GENES = len(SENHA)"
   ],
   "outputs": [],
   "metadata": {}
  },
  {
   "cell_type": "code",
   "execution_count": 3,
   "source": [
    "# Script:\r\n",
    "\r\n",
    "população = criaPopulaçãoInicial(TAMANHO_POP, NUM_GENES, LETRAS_POSSÍVEIS)\r\n",
    "\r\n",
    "melhor_fitness_já_visto = float(\"inf\")\r\n",
    "\r\n",
    "print(\"Progresso da melhor senha já vista:\")\r\n",
    "\r\n",
    "while(melhor_fitness_já_visto != 0):\r\n",
    "\r\n",
    "    # --- SELEÇÃO:\r\n",
    "    fitness = funçãoObjetivoPopulação(população, SENHA)\r\n",
    "    população = funçãoSeleção(população, fitness, NUM_COMBATENTES_NO_TORNEIO)\r\n",
    "\r\n",
    "    # --- CRUZAMENTO:\r\n",
    "    pais = população[0::2]\r\n",
    "    mães = população[1::2]\r\n",
    "    contador = 0\r\n",
    "    \r\n",
    "    for pai, mãe in zip(pais, mães):\r\n",
    "        if random.random() <= CHANCE_CRUZAMENTO:\r\n",
    "            filho1, filho2 = funçãoCruzamento(pai, mãe)\r\n",
    "            população[contador] = filho1\r\n",
    "            população[contador+1] = filho2\r\n",
    "        contador += 2\r\n",
    "\r\n",
    "    # --- MUTAÇÃO:\r\n",
    "    for indivíduo in população:\r\n",
    "        if random.random() <= CHANCE_MUTAÇÃO:\r\n",
    "            #print('Mutação!')\r\n",
    "            #print(\"\".join(indivíduo))\r\n",
    "\r\n",
    "            indivíduo = funçãoMutação(indivíduo, LETRAS_POSSÍVEIS)\r\n",
    "\r\n",
    "            #print(\"\".join(indivíduo))\r\n",
    "            #print()\r\n",
    "\r\n",
    "    # --- HALL DA FAMA\r\n",
    "    fitness = funçãoObjetivoPopulação(população, SENHA)\r\n",
    "    menor_fitness = min(fitness)\r\n",
    "    if menor_fitness < melhor_fitness_já_visto:\r\n",
    "        posição = fitness.index(menor_fitness)\r\n",
    "        melhor_indivíduo_já_visto = população[posição]\r\n",
    "        melhor_fitness_já_visto = menor_fitness\r\n",
    "        print(\"\".join(melhor_indivíduo_já_visto), \"- fitness:\", melhor_fitness_já_visto)\r\n",
    "\r\n",
    "print()\r\n",
    "print(\"Melhor palpite da senha encontrado:\")\r\n",
    "print(\"\".join(melhor_indivíduo_já_visto))"
   ],
   "outputs": [
    {
     "output_type": "stream",
     "name": "stdout",
     "text": [
      "Progresso da melhor senha já vista:\n",
      "tmdujsqbpdsntqifxtk - fitness: 86\n",
      "tmdujshyqdsntqifxte - fitness: 73\n",
      "tmdujshyqdmnxqifxte - fitness: 71\n",
      "tmdujshyqdsntqiiooi - fitness: 68\n",
      "tmdujshyqdsntqifdtk - fitness: 63\n",
      "tmdujshyqdsntqifite - fitness: 58\n",
      "tmdujshyqdsntqifiti - fitness: 56\n",
      "thdujshyqdsntqifiti - fitness: 51\n",
      "tmdqjshyqdlntqifiti - fitness: 45\n",
      "thdqjshyqdlntqifiti - fitness: 40\n",
      "thdqjshyqdsntgifiti - fitness: 39\n",
      "thdqjshyqdlntgifiti - fitness: 32\n",
      "thdqjshyqdlntgifith - fitness: 31\n",
      "thdqjshxqdlntgifith - fitness: 30\n",
      "thdqjshxqdlnthifith - fitness: 29\n",
      "thdqjsfxqdlnthifith - fitness: 27\n",
      "thdpjsfxqdlnthifith - fitness: 26\n",
      "thdpjsfrqdlnthifith - fitness: 20\n",
      "thdpjsfqqdlnthifith - fitness: 19\n",
      "thdpksfrqdlmthifith - fitness: 18\n",
      "thapksfrqdlmthifith - fitness: 15\n",
      "thaoksfrqdlmthifith - fitness: 14\n",
      "thaoksfmqdlmthifith - fitness: 13\n",
      "thaoksfnqdlmthifith - fitness: 12\n",
      "thaoksfmrblmthifith - fitness: 10\n",
      "thaoksfmrblmthifish - fitness: 9\n",
      "thaoksfmrblmthffish - fitness: 6\n",
      "thaoksfprblmthffish - fitness: 5\n",
      "thaoksfprblmthefish - fitness: 4\n",
      "thaoksfpralmthefish - fitness: 3\n",
      "thaoksfprallthefish - fitness: 2\n",
      "thanksfprallthefish - fitness: 1\n",
      "thanksforallthefish - fitness: 0\n",
      "\n",
      "Melhor palpite da senha encontrado:\n",
      "thanksforallthefish\n"
     ]
    }
   ],
   "metadata": {}
  },
  {
   "cell_type": "markdown",
   "source": [
    "## Conclusão\r\n",
    "\r\n",
    "Primeiramente, é interessante considerar o critério de parada para esse problema; ao invés do número de gerações, foi utilizada a idealidade da solução.\r\n",
    "\r\n",
    "Em segundo lugar, outro ponto interessante desse código em relação aos outros foi a implementação do chamado _\"hall da fama\"_; uma variável que guarda o melhor indivíduo e melhor valor de fitness e checa a cada iteração se esse valor deve ser mudado.\r\n",
    "\r\n",
    "Sem essa última adição, seria infinitamente mais difícil resolver esse problema e encontrar a senha correta."
   ],
   "metadata": {}
  },
  {
   "cell_type": "markdown",
   "source": [
    "## Playground\n",
    "\n"
   ],
   "metadata": {}
  },
  {
   "cell_type": "code",
   "execution_count": null,
   "source": [],
   "outputs": [],
   "metadata": {}
  }
 ],
 "metadata": {
  "kernelspec": {
   "name": "python3",
   "display_name": "Python 3.9.7 64-bit ('ilumpy': venv)"
  },
  "language_info": {
   "codemirror_mode": {
    "name": "ipython",
    "version": 3
   },
   "file_extension": ".py",
   "mimetype": "text/x-python",
   "name": "python",
   "nbconvert_exporter": "python",
   "pygments_lexer": "ipython3",
   "version": "3.9.7"
  },
  "org": null,
  "interpreter": {
   "hash": "b3e6b8674b6565fbc2ba6932dd725c7d9cea502db282270049ae80a8cf38102d"
  }
 },
 "nbformat": 4,
 "nbformat_minor": 4
}