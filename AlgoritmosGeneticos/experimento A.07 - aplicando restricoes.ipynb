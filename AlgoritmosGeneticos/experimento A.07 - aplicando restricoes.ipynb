{
 "cells": [
  {
   "cell_type": "markdown",
   "source": [
    "Aplicando restrições na busca\n",
    "=============================\n",
    "\n"
   ],
   "metadata": {}
  },
  {
   "cell_type": "markdown",
   "source": [
    "## Introdução\n",
    "\n"
   ],
   "metadata": {}
  },
  {
   "cell_type": "markdown",
   "source": [
    "Muitos problemas de otimização com relevância científica têm uma ou mais `restrições` que devem ser levadas em consideração na hora de resolver o problema.\n",
    "\n",
    "Lembra do `problema da mochila` que vimos em Lógica Computacional? Era um problema de otimização onde queríamos maximizar o valor dos itens colocados na mochila enquanto observávamos a restrição do peso total dos itens (do contrário, a mochila rasgava).\n",
    "\n",
    "Uma forma de considerar essas restrições nos problemas é aplicando uma `penalidade` na função objetivo.\n",
    "\n",
    "Vamos pensar como seria essa penalidade no problema da mochila: a função objetivo é maximizar o valor dos itens na mochila, então é um problema de maximização. A função objetivo pode ser a soma dos itens da mochila. Se fosse só isso, teríamos\n",
    "\n",
    "$$\n",
    "f = \\sum_{i, i \\in \\mathrm{mochila}}\\mathrm{valor}(i)\n",
    "$$\n",
    "\n",
    "No entanto, apenas essa função não resolve o problema! Precisamos levar em consideração o limite de peso da mochila! Para isso, penalizamos a função objetivo levando em consideração essa restrição:\n",
    "\n",
    "$f=\\begin{cases}\n",
    "0.01 & \\textrm{se peso > limite da mochila}\\\\\n",
    "\\sum_{i,i\\in\\mathrm{mochila}}(\\mathrm{valor}(i)) & \\textrm{se peso} \\leq \\textrm{limite da mochila}\n",
    "\\end{cases}$\n",
    "\n",
    "Agora finalmente podemos seguir em frente e resolver o problema.\n",
    "\n"
   ],
   "metadata": {}
  },
  {
   "cell_type": "markdown",
   "source": [
    "## Reflexões\n",
    "\n"
   ],
   "metadata": {}
  },
  {
   "cell_type": "markdown",
   "source": [
    "Se usarmos a equação de $f$ acima, qual será o valor de $f$ caso não exista uma solução para um certo problema da mochila?\n",
    "\n",
    "Na equação de $f$ acima nós usamos um valor práximo de zero para indicar que uma restrição do problema não foi satisfeita. Você consegue pensar em outra estratégia para penalizar soluções inválidas?\n",
    "\n"
   ],
   "metadata": {}
  },
  {
   "cell_type": "markdown",
   "source": [
    "## Objetivo\n",
    "\n"
   ],
   "metadata": {}
  },
  {
   "cell_type": "markdown",
   "source": [
    "Encontrar uma solução para o problema da mochila usando algoritmos genéticos. Considere que existem 10 itens diferentes (com pesos e valores diferentes) disponíveis para serem escolhidos.\n",
    "\n"
   ],
   "metadata": {}
  },
  {
   "cell_type": "markdown",
   "source": [
    "## Descrição do problema\n",
    "\n"
   ],
   "metadata": {}
  },
  {
   "cell_type": "markdown",
   "source": [
    "No problema da mochila você tem um número $n$ de itens disponíveis, cada um com um peso e um valor associado. Sua mochila tem a capacidade de carregar um número $p$ de quilogramas, sendo que mais que isso faz com que sua mochila rasgue e todos os itens dentro dela caiam no chão e se quebrem de maneira catastrófica (indesejado). Sua tarefa é encontrar um conjunto de itens (considerando os $n$ disponíveis) que maximize o valor contido dentro da mochila, porém que tenham um peso dentro da capacidade da mesma.\n",
    "\n"
   ],
   "metadata": {}
  },
  {
   "cell_type": "markdown",
   "source": [
    "## Importações\n",
    "\n"
   ],
   "metadata": {}
  },
  {
   "cell_type": "code",
   "execution_count": 1,
   "source": [
    "import random\r\n",
    "from itertools import permutations\r\n",
    "from funcoes import computaMochila\r\n",
    "from funcoes import funçãoObjetivoPopulação_mochila as funçãoObjetivoPopulação\r\n",
    "from funcoes import população_cb as criaPopulaçãoInicial\r\n",
    "from funcoes import seleçãoRoletaMax as funçãoSeleção\r\n",
    "from funcoes import cruzamentoPontoSimples as funçãoCruzamento\r\n",
    "from funcoes import mutação_cb as funçãoMutação"
   ],
   "outputs": [],
   "metadata": {}
  },
  {
   "cell_type": "markdown",
   "source": [
    "## Códigos e discussão\n",
    "\n"
   ],
   "metadata": {}
  },
  {
   "cell_type": "code",
   "execution_count": 2,
   "source": [
    "# Constantes:\r\n",
    "\r\n",
    "TAMANHO_POP = 20\r\n",
    "NUM_GERACOES = 100\r\n",
    "CHANCE_CRUZAMENTO = 0.5\r\n",
    "CHANCE_MUTACAO = 0.05\r\n",
    "\r\n",
    "LIMITE_DE_PESO = 15\r\n",
    "OBJETOS = {\r\n",
    "    # dicionário baseado no que vocês enviaram na aula de Lógica\r\n",
    "\r\n",
    "    \"vinil falsificado da volta do One Direction\": {\r\n",
    "        \"peso\": 2,\r\n",
    "        \"valor\": 2500,\r\n",
    "    },\r\n",
    "    \"Harry Potter: ele voltou, confia!\": {\r\n",
    "        \"peso\": 3,\r\n",
    "        \"valor\": 1500,\r\n",
    "    },\r\n",
    "    \"Quadrinho super raro do Aranha-Homem da vida real\": {\r\n",
    "        \"peso\": 3,\r\n",
    "        \"valor\": 7000,\r\n",
    "    },\r\n",
    "    \"mesa dobrável para laptop\": {\r\n",
    "        \"peso\": 3,\r\n",
    "        \"valor\": 150,\r\n",
    "    },\r\n",
    "    \"tablet\": {\r\n",
    "        \"peso\": 0.6,\r\n",
    "        \"valor\": 2400,\r\n",
    "    },\r\n",
    "    \"teclado musical\": {\r\n",
    "        \"peso\": 3.5,\r\n",
    "        \"valor\": 3000,\r\n",
    "    },\r\n",
    "    \"bicicleta\": {\r\n",
    "        \"peso\": 16,\r\n",
    "        \"valor\": 1000,\r\n",
    "    },\r\n",
    "    \"lições em dia\": {\r\n",
    "        \"peso\": 8,\r\n",
    "        \"valor\": 5000,\r\n",
    "    },\r\n",
    "    \"energético\": {\r\n",
    "        \"peso\": 2,\r\n",
    "        \"valor\": 1500,\r\n",
    "    },\r\n",
    "    \"docinhos para o stress\": {\r\n",
    "        \"peso\": 5,\r\n",
    "        \"valor\": 3000,\r\n",
    "    },\r\n",
    "}\r\n",
    "NUM_OBJETOS = len(OBJETOS)\r\n",
    "ORDEM_DOS_NOMES = list(sorted(OBJETOS.keys()))"
   ],
   "outputs": [],
   "metadata": {}
  },
  {
   "cell_type": "code",
   "execution_count": 3,
   "source": [
    "# Busca por algoritmo genético\r\n",
    "\r\n",
    "população = criaPopulaçãoInicial(TAMANHO_POP, NUM_OBJETOS)\r\n",
    "\r\n",
    "# variaveis para o hall da fama\r\n",
    "melhor_fitness_já_visto = float(\"-inf\")\r\n",
    "melhor_indivíduo_já_visto = [0] * NUM_OBJETOS\r\n",
    "\r\n",
    "for n in range(NUM_GERACOES):\r\n",
    "\r\n",
    "    # Seleção:\r\n",
    "    fitness = funçãoObjetivoPopulação(população, OBJETOS, LIMITE_DE_PESO, ORDEM_DOS_NOMES)\r\n",
    "    população = funçãoSeleção(população, fitness)\r\n",
    "\r\n",
    "    # Cruzamento:\r\n",
    "    pais = população[0::2]\r\n",
    "    mães = população[1::2]\r\n",
    "\r\n",
    "    contador = 0\r\n",
    "\r\n",
    "    for pai, mãe in zip(pais, mães):\r\n",
    "        if random.random() <= CHANCE_CRUZAMENTO:\r\n",
    "            filho1, filho2 = funçãoCruzamento(pai, mãe)\r\n",
    "            população[contador] = filho1\r\n",
    "            população[contador + 1] = filho2\r\n",
    "\r\n",
    "        contador = contador + 2\r\n",
    "\r\n",
    "    # Mutação:\r\n",
    "    for n in range(len(população)):\r\n",
    "        if random.random() <= CHANCE_MUTACAO:\r\n",
    "            indivíduo = população[n]\r\n",
    "            população[n] = funçãoMutação(indivíduo)\r\n",
    "\r\n",
    "    # Hall da fama:\r\n",
    "    fitness = funçãoObjetivoPopulação(população, OBJETOS, LIMITE_DE_PESO, ORDEM_DOS_NOMES)\r\n",
    "    maior_fitness = max(fitness)\r\n",
    "    posição = fitness.index(maior_fitness)\r\n",
    "    indivíduo = população[posição].copy()\r\n",
    "    valor, peso = computaMochila(indivíduo, OBJETOS, ORDEM_DOS_NOMES)\r\n",
    "    if maior_fitness > melhor_fitness_já_visto and peso <= LIMITE_DE_PESO:\r\n",
    "        melhor_fitness_já_visto = maior_fitness\r\n",
    "        melhor_indivíduo_já_visto = indivíduo\r\n",
    "        print(f\"Maior valor: {valor} | Peso: {peso}\")\r\n",
    "\r\n",
    "\r\n",
    "# reportando o melhor indivíduo encontrado:\r\n",
    "print()\r\n",
    "print(\"Você deve pegar os seguintes itens:\")\r\n",
    "for pega_ou_não, item in zip(melhor_indivíduo_já_visto, ORDEM_DOS_NOMES):\r\n",
    "    if pega_ou_não == 1:\r\n",
    "        print(\"+\", item)\r\n",
    "print()\r\n",
    "valor_total, peso_total = computaMochila(\r\n",
    "    melhor_indivíduo_já_visto, OBJETOS, ORDEM_DOS_NOMES\r\n",
    ")\r\n",
    "print(\r\n",
    "    f\"Com isso, sua mochila terá o valor de {valor_total} dinheiros \"\r\n",
    "    f\"e peso de {peso_total} unidades de massa.\"\r\n",
    ")"
   ],
   "outputs": [
    {
     "output_type": "stream",
     "name": "stdout",
     "text": [
      "Maior valor: 15400 | Peso: 12.1\n",
      "Maior valor: 16900 | Peso: 14.1\n",
      "\n",
      "Você deve pegar os seguintes itens:\n",
      "+ Quadrinho super raro do Aranha-Homem da vida real\n",
      "+ docinhos para o stress\n",
      "+ energético\n",
      "+ tablet\n",
      "+ teclado musical\n",
      "\n",
      "Com isso, sua mochila terá o valor de 16900 dinheiros e peso de 14.1 unidades de massa.\n"
     ]
    }
   ],
   "metadata": {}
  },
  {
   "cell_type": "markdown",
   "source": [
    "**Desafio**: resolva o experimento considerando uma busca em grade para encontrar a melhor resposta.\n",
    "\n"
   ],
   "metadata": {}
  },
  {
   "cell_type": "code",
   "execution_count": null,
   "source": [],
   "outputs": [],
   "metadata": {}
  },
  {
   "cell_type": "markdown",
   "source": [
    "## Conclusão\r\n",
    "\r\n",
    "O problema da mochila apresentado e resolvido por algoritmo genético acima, assim como o problema do caixeiro viajante, é um problema de otimização - porém este agora possui uma restrição; o peso da mochila. Ele tem como objetivo encontrar o valor máximo para o conteúdo de uma mochila, que pode ser enchida de diversos objetos. O problema é que o peso total da mochila não pode ultrapassar o limite dado.\r\n",
    "\r\n",
    "Assim como o do caixeiro viajante, este experimento só pode ter seu resultado \"oficial\" a partir do cálculo de todas as possibilidades possíveis.\r\n",
    "\r\n",
    "Uma das características mais desafiadoras deste problema é a presença da restrição de peso, que exige alguma maneira de penalização para os indivíduos que extrapolarem o limite definido. A estratégia utilizada no código implementado foi a de definir o valor de fitness destes indivíduos como um valor próximo de zero. Outra estratégia que poderia ser usada, apesar de mais custosa e demorada, seria não permitir que um indivíduo ultrapasse esse valor, forçando uma redefinição de todo indivíduo que o ultrapassasse, sorteando novos objetos."
   ],
   "metadata": {}
  },
  {
   "cell_type": "markdown",
   "source": [
    "## Playground\n",
    "\n"
   ],
   "metadata": {}
  },
  {
   "cell_type": "code",
   "execution_count": null,
   "source": [],
   "outputs": [],
   "metadata": {}
  }
 ],
 "metadata": {
  "kernelspec": {
   "name": "python3",
   "display_name": "Python 3.9.7 64-bit ('ilumpy': venv)"
  },
  "language_info": {
   "codemirror_mode": {
    "name": "ipython",
    "version": 3
   },
   "file_extension": ".py",
   "mimetype": "text/x-python",
   "name": "python",
   "nbconvert_exporter": "python",
   "pygments_lexer": "ipython3",
   "version": "3.9.7"
  },
  "org": null,
  "interpreter": {
   "hash": "b3e6b8674b6565fbc2ba6932dd725c7d9cea502db282270049ae80a8cf38102d"
  }
 },
 "nbformat": 4,
 "nbformat_minor": 4
}