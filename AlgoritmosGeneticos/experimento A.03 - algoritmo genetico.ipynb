{
 "cells": [
  {
   "cell_type": "markdown",
   "source": [
    "Algoritmo genético\n",
    "==================\n",
    "\n"
   ],
   "metadata": {}
  },
  {
   "cell_type": "markdown",
   "source": [
    "## Introdução\n",
    "\n"
   ],
   "metadata": {}
  },
  {
   "cell_type": "markdown",
   "source": [
    "`Algoritmos genéticos` são algoritmos inspirados na teoria da evolução de Darwin e são ferramentas poderosas para resolver problemas de otimização. De maneira simples, a estratégia consiste em gerar uma população inicial aleatória e através de seleção, cruzamento e mutação sucessivas, gerar populações seguintes. Se feito de maneira correta, as populações seguintes tendem a ser melhores candidatos para a solução do problema do que as populações anteriores.\n",
    "\n",
    "Um algoritmo genético pode parecer um tanto complexo, porém é possível dividi-lo em partes relativamente simples:\n",
    "\n",
    "1.  Criação da população inicial (aleatória)\n",
    "\n",
    "2.  Cálculo da função objetivo para todos os membros da população inicial e atualização do hall da fama\n",
    "\n",
    "3.  Seleção dos indivíduos (quais seguem pra próxima geração)\n",
    "\n",
    "4.  Cruzamento dos indivíduos selecionados (troca de material genético)\n",
    "\n",
    "5.  Mutação dos indivíduos da população recém-criada (possibilidade de trazer informação nova ao sistema)\n",
    "\n",
    "6.  Cálculo da função objetivo para todos os membros da população recém-criada e atualização do hall da fama\n",
    "\n",
    "7.  Checar os critérios de parada. Caso os critérios não tenham sido atendidos, retornar ao passo 3\n",
    "\n",
    "8.  Retornar para o usuário o hall da fama\n",
    "\n"
   ],
   "metadata": {}
  },
  {
   "cell_type": "markdown",
   "source": [
    "## Glossário\n",
    "\n"
   ],
   "metadata": {}
  },
  {
   "cell_type": "markdown",
   "source": [
    "-   `Indivíduo`: um candidato para a solução do problema\n",
    "\n",
    "-   `População`: um conjunto de candidatos para a solução do problema\n",
    "\n",
    "-   `Gene`: um parâmetro que pertence a um indivíduo\n",
    "\n",
    "-   `Cromossomo` ou `genótipo`: um conjunto de genes\n",
    "\n",
    "-   `Geração`: cada população em uma busca genética faz parte de uma geração. A primeira geração é geralmente formada por indivíduos aleatórios (sorteados dentro do espaço de busca). As gerações seguintes são formadas por seleção, cruzamento e mutação da geração anterior. Um dos critérios de parada possíveis para um algoritmo genético é o número máximo de gerações\n",
    "\n",
    "-   `Função de aptidão` ou `função objetivo` ou `função fitness`: uma função que recebe um indivíduo e retorna o seu valor de aptidão. Em um problema de otimização, nós buscamos encontrar soluções que minimizam ou maximizam o valor de aptidão\n",
    "\n",
    "-   `Seleção`: processo onde utilizamos o valor de aptidão dos indivíduos para selecionar quais irão passar seus genes para a geração seguinte\n",
    "\n",
    "-   `Cruzamento`: processo onde o material genético de indivíduos selecionados é misturado\n",
    "\n",
    "-   `Mutação`: processo onde os genes dos indivíduos selecionados têm uma chance de alterar seu valor. A mutação é o único processo capaz de introduzir informação nova ao pool genético após o sorteio aleatório da primeira geração\n",
    "\n",
    "-   `Hall da fama`: conjunto dos $n$ indivíduos que obtiveram os melhores valores de aptidão durante o processo de busca\n",
    "\n"
   ],
   "metadata": {}
  },
  {
   "cell_type": "markdown",
   "source": [
    "## Reflexões\n",
    "\n"
   ],
   "metadata": {}
  },
  {
   "cell_type": "markdown",
   "source": [
    "Você diria que o algoritmo genético é determinístico ou probabilístico?\r\n",
    "\r\n",
    "Será que um algoritmo genético é capaz de encontrar mínimos (ou máximos) da função objetivo?\r\n",
    "\r\n",
    "O que será que acontece quando não realizamos a etapa de mutação do algoritmo genético?\r\n",
    "\r\n",
    "O que será que acontece quando usamos uma chance de mutação muito alta?\r\n",
    "\r\n"
   ],
   "metadata": {}
  },
  {
   "cell_type": "markdown",
   "source": [
    "## Objetivo\n",
    "\n"
   ],
   "metadata": {}
  },
  {
   "cell_type": "markdown",
   "source": [
    "Encontrar uma solução para o problema das caixas binárias usando o algoritmo genético. Considere 4 caixas.\n",
    "\n"
   ],
   "metadata": {}
  },
  {
   "cell_type": "markdown",
   "source": [
    "## Descrição do problema\n",
    "\n"
   ],
   "metadata": {}
  },
  {
   "cell_type": "markdown",
   "source": [
    "O problema das caixas binárias é simples: nós temos um certo número de caixas e cada uma pode conter um valor do conjunto $\\{0, 1\\}$. O objetivo é encontrar uma combinação de caixas onde a soma dos valores contidos dentro delas é máximo.\n",
    "\n"
   ],
   "metadata": {}
  },
  {
   "cell_type": "markdown",
   "source": [
    "## Importações\n",
    "\n"
   ],
   "metadata": {}
  },
  {
   "cell_type": "code",
   "execution_count": 1,
   "source": [
    "import random\r\n",
    "from funcoes import população_cb as criaPopulaçãoInicial\r\n",
    "from funcoes import seleçãoRoletaMax as funçãoSeleção\r\n",
    "from funcoes import funçãoObjetivoPopulação_cb as funçãoObjetivoPopulação\r\n",
    "from funcoes import cruzamentoPontoSimples as funçãoCruzamento\r\n",
    "from funcoes import mutação_cb as funçãoMutação"
   ],
   "outputs": [],
   "metadata": {}
  },
  {
   "cell_type": "markdown",
   "source": [
    "## Códigos e discussão\n",
    "\n"
   ],
   "metadata": {}
  },
  {
   "cell_type": "code",
   "execution_count": 2,
   "source": [
    "# Constantes:\r\n",
    "\r\n",
    "TAMANHO_POP = 6\r\n",
    "NUM_GENES = 4\r\n",
    "NUM_GERAÇÕES = 10\r\n",
    "CHANCE_CRUZAMENTO = 0.75\r\n",
    "CHANCE_MUTAÇÃO = 0.05"
   ],
   "outputs": [],
   "metadata": {}
  },
  {
   "cell_type": "code",
   "execution_count": 3,
   "source": [
    "# Script:\r\n",
    "\r\n",
    "população = criaPopulaçãoInicial(TAMANHO_POP, NUM_GENES)\r\n",
    "\r\n",
    "print(\"População inicial:\")\r\n",
    "print(população)\r\n",
    "\r\n",
    "for _ in range(NUM_GERAÇÕES):\r\n",
    "    # --- SELEÇÃO:\r\n",
    "    fitness = funçãoObjetivoPopulação(população)\r\n",
    "    população = funçãoSeleção(população, fitness)\r\n",
    "\r\n",
    "    # --- CRUZAMENTO:\r\n",
    "    pais = população[0::2]\r\n",
    "    mães = população[1::2]\r\n",
    "    contador = 0\r\n",
    "    \r\n",
    "    for pai, mãe in zip(pais, mães):\r\n",
    "        if random.random() <= CHANCE_CRUZAMENTO:\r\n",
    "            filho1, filho2 = funçãoCruzamento(pai, mãe)\r\n",
    "            população[contador] = filho1\r\n",
    "            população[contador+1] = filho2\r\n",
    "        contador += 2\r\n",
    "\r\n",
    "    # --- MUTAÇÃO:\r\n",
    "    for indivíduo in população:\r\n",
    "        if random.random() <= CHANCE_MUTAÇÃO:\r\n",
    "            print()\r\n",
    "            print('Mutação!')\r\n",
    "            print(indivíduo)\r\n",
    "\r\n",
    "            indivíduo = funçãoMutação(indivíduo)\r\n",
    "\r\n",
    "            print(indivíduo)\r\n",
    "\r\n",
    "print()\r\n",
    "print(\"População final:\")\r\n",
    "print(população)"
   ],
   "outputs": [
    {
     "output_type": "stream",
     "name": "stdout",
     "text": [
      "População inicial:\n",
      "[[0, 0, 0, 1], [0, 0, 0, 0], [0, 0, 1, 1], [0, 1, 0, 1], [1, 1, 0, 0], [0, 0, 1, 1]]\n",
      "\n",
      "Mutação!\n",
      "[0, 1, 0, 1]\n",
      "[0, 1, 1, 1]\n",
      "\n",
      "Mutação!\n",
      "[0, 1, 1, 1]\n",
      "[0, 1, 0, 1]\n",
      "\n",
      "População final:\n",
      "[[0, 1, 1, 1], [0, 1, 1, 1], [0, 1, 1, 1], [0, 1, 1, 1], [0, 1, 0, 1], [0, 1, 1, 1]]\n"
     ]
    }
   ],
   "metadata": {}
  },
  {
   "cell_type": "markdown",
   "source": [
    "## Conclusão\r\n",
    "\r\n",
    "O algoritmo genético implementado acima é probabilístico - afinal, apesar de possuir uma base concreta que não muda a cada iteração, diversos operadores dependem de números gerados aleatoriamente. Por esse motivo, como discutido em sala de aula, ele não é completamente reprodutível.\r\n",
    "\r\n",
    "Mesmo assim, um algoritmo genético é perfeitamente capaz de encontrar mínimos ou máximos da sua função objetivo atribuída - considerando a necessidade de um número maior de gerações e outros parâmetros para um resultado melhor. Vale também levar em conta a importância do fator probabilístico deste algoritmo (a \"sorte\" possui um papel essencial no resultado também: desde a população inicial até a seleção, cruzamento e mutação).\r\n",
    "\r\n",
    "Outro ponto importante é o da regulagem de cada parâmetro; a mutação, por exemplo, não pode ocorrer muito frequentemente, correndo o risco de afetar negativamente a otimização da população realizada pela seleção e pelo cruzamento. Por outro lado, sem a mutação, a população pode se encontrar estagnada em um resultado não ideal pela ausência de um determinado material genético relevante para a solução na população inicial."
   ],
   "metadata": {}
  },
  {
   "cell_type": "markdown",
   "source": [
    "## Playground\n",
    "\n"
   ],
   "metadata": {}
  },
  {
   "cell_type": "code",
   "execution_count": null,
   "source": [],
   "outputs": [],
   "metadata": {}
  }
 ],
 "metadata": {
  "kernelspec": {
   "name": "python3",
   "display_name": "Python 3.9.7 64-bit ('ilumpy': venv)"
  },
  "language_info": {
   "codemirror_mode": {
    "name": "ipython",
    "version": 3
   },
   "file_extension": ".py",
   "mimetype": "text/x-python",
   "name": "python",
   "nbconvert_exporter": "python",
   "pygments_lexer": "ipython3",
   "version": "3.9.7"
  },
  "org": null,
  "interpreter": {
   "hash": "b3e6b8674b6565fbc2ba6932dd725c7d9cea502db282270049ae80a8cf38102d"
  }
 },
 "nbformat": 4,
 "nbformat_minor": 4
}