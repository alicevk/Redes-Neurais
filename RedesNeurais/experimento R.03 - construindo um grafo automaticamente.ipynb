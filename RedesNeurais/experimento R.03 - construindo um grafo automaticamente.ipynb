{
 "cells": [
  {
   "attachments": {},
   "cell_type": "markdown",
   "metadata": {},
   "source": [
    "Construindo um grafo automaticamente\n",
    "====================================\n",
    "\n"
   ]
  },
  {
   "attachments": {},
   "cell_type": "markdown",
   "metadata": {},
   "source": [
    "## Introdução\n",
    "\n"
   ]
  },
  {
   "attachments": {},
   "cell_type": "markdown",
   "metadata": {},
   "source": [
    "Neste notebook nós vamos dar o primeiro passo para construir nossa rede neural artificial. Neste primeiro passo, nós vamos criar uma classe que gera automaticamente o nosso `grafo computacional`. O grafo computacional é o grafo que representa todas as operações matemáticas que ocorreram ao se computar um certo valor $y$. O grafo computacional é um passo necessário pois será baseado nele que iremos computar os gradientes locais necessários para realizar o `backpropagation`.\n",
    "\n"
   ]
  },
  {
   "attachments": {},
   "cell_type": "markdown",
   "metadata": {},
   "source": [
    "## Importações\n",
    "\n"
   ]
  },
  {
   "cell_type": "code",
   "execution_count": 1,
   "metadata": {},
   "outputs": [],
   "source": [
    "from funcoes import plota_grafo"
   ]
  },
  {
   "attachments": {},
   "cell_type": "markdown",
   "metadata": {},
   "source": [
    "## Código e discussão\n",
    "\n"
   ]
  },
  {
   "attachments": {},
   "cell_type": "markdown",
   "metadata": {},
   "source": [
    "### Primeiros passos\n",
    "\n"
   ]
  },
  {
   "attachments": {},
   "cell_type": "markdown",
   "metadata": {},
   "source": [
    "A base de tudo será uma classe chamada `Valor`. Vamos começar pelo básico!\n",
    "\n"
   ]
  },
  {
   "cell_type": "code",
   "execution_count": 2,
   "metadata": {},
   "outputs": [],
   "source": [
    "class Valor:\n",
    "    def __init__(self, data):\n",
    "        self.data = data\n",
    "\n",
    "    def __repr__(self):\n",
    "        return f\"Valor(data={self.data})\""
   ]
  },
  {
   "attachments": {},
   "cell_type": "markdown",
   "metadata": {},
   "source": [
    "Vamos testar nossa classe!\n",
    "\n"
   ]
  },
  {
   "cell_type": "code",
   "execution_count": 3,
   "metadata": {},
   "outputs": [
    {
     "name": "stdout",
     "output_type": "stream",
     "text": [
      "Valor(data=60)\n",
      "60\n"
     ]
    }
   ],
   "source": [
    "x1 = Valor(60)\n",
    "print(x1)\n",
    "print(x1.data)"
   ]
  },
  {
   "attachments": {},
   "cell_type": "markdown",
   "metadata": {},
   "source": [
    "### Os dunders `__add__` e `__mul__`\n",
    "\n"
   ]
  },
  {
   "attachments": {},
   "cell_type": "markdown",
   "metadata": {},
   "source": [
    "Observe que não conseguimos adicionar nem multiplicar objetos criados com a classe `Valor`.\n",
    "\n"
   ]
  },
  {
   "cell_type": "code",
   "execution_count": 4,
   "metadata": {},
   "outputs": [],
   "source": [
    "a = Valor(10)\n",
    "b = Valor(5)"
   ]
  },
  {
   "cell_type": "code",
   "execution_count": 5,
   "metadata": {},
   "outputs": [],
   "source": [
    "#print(a + b)\n",
    "\n",
    "# Não funciona :("
   ]
  },
  {
   "cell_type": "code",
   "execution_count": 6,
   "metadata": {},
   "outputs": [],
   "source": [
    "#print(a * b)\n",
    "\n",
    "# Também não funciona D:"
   ]
  },
  {
   "attachments": {},
   "cell_type": "markdown",
   "metadata": {},
   "source": [
    "Ué&#x2026; porque não conseguimos? Não conseguimos pois o Python (ainda) não é vidente. Ele lá vai saber como adicionar ou multiplicar algo que você criou? Pra você parece óbvio que valores podem ser adicionados ou multiplicados, mas para o Python ele nem sabe o que significa a palavra `Valor`&#x2026;\n",
    "\n",
    "Como sempre, temos que contar para o programa o que queremos que aconteça quando usarmos os operadores `+` e `*`. Quem faz isso são os dunders `__add__` e `__mul__`.\n",
    "\n"
   ]
  },
  {
   "cell_type": "code",
   "execution_count": 7,
   "metadata": {},
   "outputs": [],
   "source": [
    "class Valor:\n",
    "    def __init__(self, data):\n",
    "        self.data = data\n",
    "\n",
    "    def __repr__(self):\n",
    "        return f\"Valor(data={self.data})\"\n",
    "\n",
    "    def __add__(self, outro_valor):\n",
    "        saida = Valor(self.data + outro_valor.data)\n",
    "        return saida\n",
    "\n",
    "    def __mul__(self, outro_valor):\n",
    "        saida = Valor(self.data * outro_valor.data)\n",
    "        return saida"
   ]
  },
  {
   "attachments": {},
   "cell_type": "markdown",
   "metadata": {},
   "source": [
    "Vamos testar!\n",
    "\n"
   ]
  },
  {
   "cell_type": "code",
   "execution_count": 8,
   "metadata": {},
   "outputs": [
    {
     "name": "stdout",
     "output_type": "stream",
     "text": [
      "Valor(data=15)\n",
      "Valor(data=50)\n"
     ]
    }
   ],
   "source": [
    "a = Valor(10)\n",
    "b = Valor(5)\n",
    "\n",
    "print(a+b)\n",
    "\n",
    "print(a*b)"
   ]
  },
  {
   "attachments": {},
   "cell_type": "markdown",
   "metadata": {},
   "source": [
    "### Registrando os progenitores\n",
    "\n"
   ]
  },
  {
   "attachments": {},
   "cell_type": "markdown",
   "metadata": {},
   "source": [
    "Nosso objetivo é construir um grafo computacional. Em um grafo computacional, um certo vértice pode ter um ou mais vértices progenitores (são seus pais/mães). Nós não podemos perder essa informação quando formos construir um grafo, então precisamos incluir essa informação na nossa classe.\n",
    "\n"
   ]
  },
  {
   "cell_type": "code",
   "execution_count": 9,
   "metadata": {},
   "outputs": [],
   "source": [
    "class Valor:\n",
    "    def __init__(self, data, progenitor=()):\n",
    "        self.data = data\n",
    "        self.progenitor = progenitor\n",
    "\n",
    "    def __repr__(self):\n",
    "        return f\"Valor(data={self.data})\"\n",
    "\n",
    "    def __add__(self, outro_valor):\n",
    "        data = self.data + outro_valor.data\n",
    "        progenitor = (self, outro_valor)\n",
    "        saida = Valor(data, progenitor)\n",
    "        return saida\n",
    "\n",
    "    def __mul__(self, outro_valor):\n",
    "        data = self.data * outro_valor.data\n",
    "        progenitor = (self, outro_valor)\n",
    "        saida = Valor(data, progenitor)\n",
    "        return saida"
   ]
  },
  {
   "attachments": {},
   "cell_type": "markdown",
   "metadata": {},
   "source": [
    "Vamos testar!\n",
    "\n"
   ]
  },
  {
   "cell_type": "code",
   "execution_count": 10,
   "metadata": {},
   "outputs": [
    {
     "name": "stdout",
     "output_type": "stream",
     "text": [
      "()\n",
      "Valor(data=15)\n",
      "(Valor(data=10), Valor(data=5))\n"
     ]
    }
   ],
   "source": [
    "a = Valor(10)\n",
    "b = Valor(5)\n",
    "print(a.progenitor)\n",
    "\n",
    "c = a+b\n",
    "print(c)\n",
    "print(c.progenitor)"
   ]
  },
  {
   "attachments": {},
   "cell_type": "markdown",
   "metadata": {},
   "source": [
    "### Registrando o operador mãe\n",
    "\n"
   ]
  },
  {
   "attachments": {},
   "cell_type": "markdown",
   "metadata": {},
   "source": [
    "Em um grafo computacional, um vértice pode ter um operador mãe. O operador mãe é o operador que foi usado para gerar o vértice.\n",
    "\n"
   ]
  },
  {
   "cell_type": "code",
   "execution_count": 11,
   "metadata": {},
   "outputs": [],
   "source": [
    "class Valor:\n",
    "    def __init__(self, data, progenitor=(), operador_mae=\"\"):\n",
    "        self.data = data\n",
    "        self.progenitor = progenitor\n",
    "        self.operador_mae = operador_mae\n",
    "\n",
    "    def __repr__(self):\n",
    "        return f\"Valor(data={self.data})\"\n",
    "\n",
    "    def __add__(self, outro_valor):\n",
    "        data = self.data + outro_valor.data\n",
    "        progenitor = (self, outro_valor)\n",
    "        operador_mae = \"+\"\n",
    "        saida = Valor(data, progenitor, operador_mae)\n",
    "        return saida\n",
    "\n",
    "    def __mul__(self, outro_valor):\n",
    "        data = self.data * outro_valor.data\n",
    "        progenitor = (self, outro_valor)\n",
    "        operador_mae = \"*\"\n",
    "        saida = Valor(data, progenitor, operador_mae)\n",
    "        return saida"
   ]
  },
  {
   "attachments": {},
   "cell_type": "markdown",
   "metadata": {},
   "source": [
    "Vamos testar!\n",
    "\n"
   ]
  },
  {
   "cell_type": "code",
   "execution_count": 12,
   "metadata": {},
   "outputs": [
    {
     "name": "stdout",
     "output_type": "stream",
     "text": [
      "Valor(data=15)\n",
      "+\n",
      "\n",
      "Valor(data=50)\n",
      "*\n"
     ]
    }
   ],
   "source": [
    "a = Valor(10)\n",
    "b = Valor(5)\n",
    "\n",
    "c = a+b\n",
    "d = a*b\n",
    "\n",
    "print(c)\n",
    "print(c.operador_mae)\n",
    "\n",
    "print()\n",
    "\n",
    "print(d)\n",
    "print(d.operador_mae)"
   ]
  },
  {
   "attachments": {},
   "cell_type": "markdown",
   "metadata": {},
   "source": [
    "### Plotando o primeiro grafo\n",
    "\n"
   ]
  },
  {
   "attachments": {},
   "cell_type": "markdown",
   "metadata": {},
   "source": [
    "Vamos plotar nosso primeiro grafo!\n",
    "\n"
   ]
  },
  {
   "cell_type": "code",
   "execution_count": 13,
   "metadata": {},
   "outputs": [
    {
     "data": {
      "image/svg+xml": [
       "<?xml version=\"1.0\" encoding=\"UTF-8\" standalone=\"no\"?>\n",
       "<!DOCTYPE svg PUBLIC \"-//W3C//DTD SVG 1.1//EN\"\n",
       " \"http://www.w3.org/Graphics/SVG/1.1/DTD/svg11.dtd\">\n",
       "<!-- Generated by graphviz version 2.43.0 (0)\n",
       " -->\n",
       "<!-- Title: %3 Pages: 1 -->\n",
       "<svg width=\"580pt\" height=\"127pt\"\n",
       " viewBox=\"0.00 0.00 580.00 127.00\" xmlns=\"http://www.w3.org/2000/svg\" xmlns:xlink=\"http://www.w3.org/1999/xlink\">\n",
       "<g id=\"graph0\" class=\"graph\" transform=\"scale(1 1) rotate(0) translate(4 123)\">\n",
       "<title>%3</title>\n",
       "<polygon fill=\"white\" stroke=\"transparent\" points=\"-4,4 -4,-123 576,-123 576,4 -4,4\"/>\n",
       "<!-- 140609849472528 -->\n",
       "<g id=\"node1\" class=\"node\">\n",
       "<title>140609849472528</title>\n",
       "<polygon fill=\"none\" stroke=\"black\" points=\"235,-27.5 235,-63.5 342,-63.5 342,-27.5 235,-27.5\"/>\n",
       "<text text-anchor=\"middle\" x=\"288.5\" y=\"-41.8\" font-family=\"Times,serif\" font-size=\"14.00\">data &#45;6.0000</text>\n",
       "</g>\n",
       "<!-- 140609849468256+ -->\n",
       "<g id=\"node7\" class=\"node\">\n",
       "<title>140609849468256+</title>\n",
       "<ellipse fill=\"none\" stroke=\"black\" cx=\"407\" cy=\"-72.5\" rx=\"27\" ry=\"18\"/>\n",
       "<text text-anchor=\"middle\" x=\"407\" y=\"-68.8\" font-family=\"Times,serif\" font-size=\"14.00\">+</text>\n",
       "</g>\n",
       "<!-- 140609849472528&#45;&gt;140609849468256+ -->\n",
       "<g id=\"edge3\" class=\"edge\">\n",
       "<title>140609849472528&#45;&gt;140609849468256+</title>\n",
       "<path fill=\"none\" stroke=\"black\" d=\"M342.3,-57.74C352.18,-60.03 362.28,-62.37 371.43,-64.49\"/>\n",
       "<polygon fill=\"black\" stroke=\"black\" points=\"370.78,-67.93 381.31,-66.78 372.36,-61.11 370.78,-67.93\"/>\n",
       "</g>\n",
       "<!-- 140609849472528* -->\n",
       "<g id=\"node2\" class=\"node\">\n",
       "<title>140609849472528*</title>\n",
       "<ellipse fill=\"none\" stroke=\"black\" cx=\"170\" cy=\"-45.5\" rx=\"27\" ry=\"18\"/>\n",
       "<text text-anchor=\"middle\" x=\"170\" y=\"-41.8\" font-family=\"Times,serif\" font-size=\"14.00\">*</text>\n",
       "</g>\n",
       "<!-- 140609849472528*&#45;&gt;140609849472528 -->\n",
       "<g id=\"edge1\" class=\"edge\">\n",
       "<title>140609849472528*&#45;&gt;140609849472528</title>\n",
       "<path fill=\"none\" stroke=\"black\" d=\"M197.14,-45.5C205.41,-45.5 214.93,-45.5 224.62,-45.5\"/>\n",
       "<polygon fill=\"black\" stroke=\"black\" points=\"224.74,-49 234.74,-45.5 224.74,-42 224.74,-49\"/>\n",
       "</g>\n",
       "<!-- 140609849465904 -->\n",
       "<g id=\"node3\" class=\"node\">\n",
       "<title>140609849465904</title>\n",
       "<polygon fill=\"none\" stroke=\"black\" points=\"2.5,-55.5 2.5,-91.5 104.5,-91.5 104.5,-55.5 2.5,-55.5\"/>\n",
       "<text text-anchor=\"middle\" x=\"53.5\" y=\"-69.8\" font-family=\"Times,serif\" font-size=\"14.00\">data 2.0000</text>\n",
       "</g>\n",
       "<!-- 140609849465904&#45;&gt;140609849472528* -->\n",
       "<g id=\"edge4\" class=\"edge\">\n",
       "<title>140609849465904&#45;&gt;140609849472528*</title>\n",
       "<path fill=\"none\" stroke=\"black\" d=\"M104.72,-61.22C114.78,-58.76 125.14,-56.23 134.52,-53.93\"/>\n",
       "<polygon fill=\"black\" stroke=\"black\" points=\"135.37,-57.33 144.25,-51.55 133.71,-50.53 135.37,-57.33\"/>\n",
       "</g>\n",
       "<!-- 140609849472288 -->\n",
       "<g id=\"node4\" class=\"node\">\n",
       "<title>140609849472288</title>\n",
       "<polygon fill=\"none\" stroke=\"black\" points=\"233,-82.5 233,-118.5 344,-118.5 344,-82.5 233,-82.5\"/>\n",
       "<text text-anchor=\"middle\" x=\"288.5\" y=\"-96.8\" font-family=\"Times,serif\" font-size=\"14.00\">data 10.0000</text>\n",
       "</g>\n",
       "<!-- 140609849472288&#45;&gt;140609849468256+ -->\n",
       "<g id=\"edge6\" class=\"edge\">\n",
       "<title>140609849472288&#45;&gt;140609849468256+</title>\n",
       "<path fill=\"none\" stroke=\"black\" d=\"M344.34,-87.32C353.57,-85.1 362.91,-82.86 371.44,-80.81\"/>\n",
       "<polygon fill=\"black\" stroke=\"black\" points=\"372.47,-84.16 381.38,-78.42 370.84,-77.35 372.47,-84.16\"/>\n",
       "</g>\n",
       "<!-- 140609849465184 -->\n",
       "<g id=\"node5\" class=\"node\">\n",
       "<title>140609849465184</title>\n",
       "<polygon fill=\"none\" stroke=\"black\" points=\"0,-0.5 0,-36.5 107,-36.5 107,-0.5 0,-0.5\"/>\n",
       "<text text-anchor=\"middle\" x=\"53.5\" y=\"-14.8\" font-family=\"Times,serif\" font-size=\"14.00\">data &#45;3.0000</text>\n",
       "</g>\n",
       "<!-- 140609849465184&#45;&gt;140609849472528* -->\n",
       "<g id=\"edge5\" class=\"edge\">\n",
       "<title>140609849465184&#45;&gt;140609849472528*</title>\n",
       "<path fill=\"none\" stroke=\"black\" d=\"M107.06,-30.89C116.25,-33.06 125.61,-35.27 134.17,-37.29\"/>\n",
       "<polygon fill=\"black\" stroke=\"black\" points=\"133.62,-40.75 144.16,-39.64 135.23,-33.94 133.62,-40.75\"/>\n",
       "</g>\n",
       "<!-- 140609849468256 -->\n",
       "<g id=\"node6\" class=\"node\">\n",
       "<title>140609849468256</title>\n",
       "<polygon fill=\"none\" stroke=\"black\" points=\"470,-54.5 470,-90.5 572,-90.5 572,-54.5 470,-54.5\"/>\n",
       "<text text-anchor=\"middle\" x=\"521\" y=\"-68.8\" font-family=\"Times,serif\" font-size=\"14.00\">data 4.0000</text>\n",
       "</g>\n",
       "<!-- 140609849468256+&#45;&gt;140609849468256 -->\n",
       "<g id=\"edge2\" class=\"edge\">\n",
       "<title>140609849468256+&#45;&gt;140609849468256</title>\n",
       "<path fill=\"none\" stroke=\"black\" d=\"M434.26,-72.5C441.96,-72.5 450.73,-72.5 459.64,-72.5\"/>\n",
       "<polygon fill=\"black\" stroke=\"black\" points=\"459.71,-76 469.71,-72.5 459.71,-69 459.71,-76\"/>\n",
       "</g>\n",
       "</g>\n",
       "</svg>\n"
      ],
      "text/plain": [
       "<graphviz.graphs.Digraph at 0x7fe248212f20>"
      ]
     },
     "execution_count": 13,
     "metadata": {},
     "output_type": "execute_result"
    }
   ],
   "source": [
    "a = Valor(2)\n",
    "b = Valor(-3)\n",
    "c = Valor(10)\n",
    "\n",
    "d = a * b\n",
    "e = d + c\n",
    "\n",
    "plota_grafo(e)\n",
    "\n",
    "# Aeeeeeee grafo"
   ]
  },
  {
   "attachments": {},
   "cell_type": "markdown",
   "metadata": {},
   "source": [
    "### Registrando o rótulo\n",
    "\n"
   ]
  },
  {
   "attachments": {},
   "cell_type": "markdown",
   "metadata": {},
   "source": [
    "Nosso grafo seria mais legível se tivéssemos rótulos indicando o que é cada vértice. Vamos incluir essa informação na nossa classe.\n",
    "\n"
   ]
  },
  {
   "cell_type": "code",
   "execution_count": 14,
   "metadata": {},
   "outputs": [],
   "source": [
    "class Valor:\n",
    "    def __init__(self, data, progenitor=(), operador_mae=\"\", rotulo=\"\"):\n",
    "        self.data = data\n",
    "        self.progenitor = progenitor\n",
    "        self.operador_mae = operador_mae\n",
    "        self.rotulo = rotulo\n",
    "\n",
    "    def __repr__(self):\n",
    "        return f\"Valor(data={self.data})\"\n",
    "\n",
    "    def __add__(self, outro_valor):\n",
    "        data = self.data + outro_valor.data\n",
    "        progenitor = (self, outro_valor)\n",
    "        operador_mae = \"+\"\n",
    "        saida = Valor(data, progenitor, operador_mae)\n",
    "        return saida\n",
    "\n",
    "    def __mul__(self, outro_valor):\n",
    "        data = self.data * outro_valor.data\n",
    "        progenitor = (self, outro_valor)\n",
    "        operador_mae = \"*\"\n",
    "        saida = Valor(data, progenitor, operador_mae)\n",
    "        return saida"
   ]
  },
  {
   "attachments": {},
   "cell_type": "markdown",
   "metadata": {},
   "source": [
    "Vamos testar!\n",
    "\n"
   ]
  },
  {
   "cell_type": "code",
   "execution_count": 15,
   "metadata": {},
   "outputs": [
    {
     "data": {
      "image/svg+xml": [
       "<?xml version=\"1.0\" encoding=\"UTF-8\" standalone=\"no\"?>\n",
       "<!DOCTYPE svg PUBLIC \"-//W3C//DTD SVG 1.1//EN\"\n",
       " \"http://www.w3.org/Graphics/SVG/1.1/DTD/svg11.dtd\">\n",
       "<!-- Generated by graphviz version 2.43.0 (0)\n",
       " -->\n",
       "<!-- Title: %3 Pages: 1 -->\n",
       "<svg width=\"655pt\" height=\"127pt\"\n",
       " viewBox=\"0.00 0.00 655.00 127.00\" xmlns=\"http://www.w3.org/2000/svg\" xmlns:xlink=\"http://www.w3.org/1999/xlink\">\n",
       "<g id=\"graph0\" class=\"graph\" transform=\"scale(1 1) rotate(0) translate(4 123)\">\n",
       "<title>%3</title>\n",
       "<polygon fill=\"white\" stroke=\"transparent\" points=\"-4,4 -4,-123 651,-123 651,4 -4,4\"/>\n",
       "<!-- 140609849474064 -->\n",
       "<g id=\"node1\" class=\"node\">\n",
       "<title>140609849474064</title>\n",
       "<polygon fill=\"none\" stroke=\"black\" points=\"259,-82.5 259,-118.5 394,-118.5 394,-82.5 259,-82.5\"/>\n",
       "<text text-anchor=\"middle\" x=\"271\" y=\"-96.8\" font-family=\"Times,serif\" font-size=\"14.00\">c</text>\n",
       "<polyline fill=\"none\" stroke=\"black\" points=\"283,-82.5 283,-118.5 \"/>\n",
       "<text text-anchor=\"middle\" x=\"338.5\" y=\"-96.8\" font-family=\"Times,serif\" font-size=\"14.00\">data 10.0000</text>\n",
       "</g>\n",
       "<!-- 140609849463264+ -->\n",
       "<g id=\"node7\" class=\"node\">\n",
       "<title>140609849463264+</title>\n",
       "<ellipse fill=\"none\" stroke=\"black\" cx=\"457\" cy=\"-72.5\" rx=\"27\" ry=\"18\"/>\n",
       "<text text-anchor=\"middle\" x=\"457\" y=\"-68.8\" font-family=\"Times,serif\" font-size=\"14.00\">+</text>\n",
       "</g>\n",
       "<!-- 140609849474064&#45;&gt;140609849463264+ -->\n",
       "<g id=\"edge4\" class=\"edge\">\n",
       "<title>140609849474064&#45;&gt;140609849463264+</title>\n",
       "<path fill=\"none\" stroke=\"black\" d=\"M394.01,-86.01C403.41,-83.96 412.75,-81.92 421.22,-80.08\"/>\n",
       "<polygon fill=\"black\" stroke=\"black\" points=\"422.04,-83.48 431.06,-77.93 420.55,-76.64 422.04,-83.48\"/>\n",
       "</g>\n",
       "<!-- 140609849462832 -->\n",
       "<g id=\"node2\" class=\"node\">\n",
       "<title>140609849462832</title>\n",
       "<polygon fill=\"none\" stroke=\"black\" points=\"260,-27.5 260,-63.5 393,-63.5 393,-27.5 260,-27.5\"/>\n",
       "<text text-anchor=\"middle\" x=\"273\" y=\"-41.8\" font-family=\"Times,serif\" font-size=\"14.00\">d</text>\n",
       "<polyline fill=\"none\" stroke=\"black\" points=\"286,-27.5 286,-63.5 \"/>\n",
       "<text text-anchor=\"middle\" x=\"339.5\" y=\"-41.8\" font-family=\"Times,serif\" font-size=\"14.00\">data &#45;6.0000</text>\n",
       "</g>\n",
       "<!-- 140609849462832&#45;&gt;140609849463264+ -->\n",
       "<g id=\"edge5\" class=\"edge\">\n",
       "<title>140609849462832&#45;&gt;140609849463264+</title>\n",
       "<path fill=\"none\" stroke=\"black\" d=\"M393.26,-59.32C402.83,-61.33 412.35,-63.33 420.98,-65.14\"/>\n",
       "<polygon fill=\"black\" stroke=\"black\" points=\"420.5,-68.62 431.01,-67.25 421.94,-61.77 420.5,-68.62\"/>\n",
       "</g>\n",
       "<!-- 140609849462832* -->\n",
       "<g id=\"node3\" class=\"node\">\n",
       "<title>140609849462832*</title>\n",
       "<ellipse fill=\"none\" stroke=\"black\" cx=\"196\" cy=\"-45.5\" rx=\"27\" ry=\"18\"/>\n",
       "<text text-anchor=\"middle\" x=\"196\" y=\"-41.8\" font-family=\"Times,serif\" font-size=\"14.00\">*</text>\n",
       "</g>\n",
       "<!-- 140609849462832*&#45;&gt;140609849462832 -->\n",
       "<g id=\"edge1\" class=\"edge\">\n",
       "<title>140609849462832*&#45;&gt;140609849462832</title>\n",
       "<path fill=\"none\" stroke=\"black\" d=\"M223,-45.5C231,-45.5 240.25,-45.5 249.85,-45.5\"/>\n",
       "<polygon fill=\"black\" stroke=\"black\" points=\"249.94,-49 259.94,-45.5 249.94,-42 249.94,-49\"/>\n",
       "</g>\n",
       "<!-- 140609849468976 -->\n",
       "<g id=\"node4\" class=\"node\">\n",
       "<title>140609849468976</title>\n",
       "<polygon fill=\"none\" stroke=\"black\" points=\"3,-55.5 3,-91.5 130,-91.5 130,-55.5 3,-55.5\"/>\n",
       "<text text-anchor=\"middle\" x=\"15.5\" y=\"-69.8\" font-family=\"Times,serif\" font-size=\"14.00\">a</text>\n",
       "<polyline fill=\"none\" stroke=\"black\" points=\"28,-55.5 28,-91.5 \"/>\n",
       "<text text-anchor=\"middle\" x=\"79\" y=\"-69.8\" font-family=\"Times,serif\" font-size=\"14.00\">data 2.0000</text>\n",
       "</g>\n",
       "<!-- 140609849468976&#45;&gt;140609849462832* -->\n",
       "<g id=\"edge3\" class=\"edge\">\n",
       "<title>140609849468976&#45;&gt;140609849462832*</title>\n",
       "<path fill=\"none\" stroke=\"black\" d=\"M130.13,-59.75C140.47,-57.48 150.85,-55.2 160.18,-53.15\"/>\n",
       "<polygon fill=\"black\" stroke=\"black\" points=\"161.2,-56.51 170.21,-50.94 159.69,-49.67 161.2,-56.51\"/>\n",
       "</g>\n",
       "<!-- 140609849474688 -->\n",
       "<g id=\"node5\" class=\"node\">\n",
       "<title>140609849474688</title>\n",
       "<polygon fill=\"none\" stroke=\"black\" points=\"0,-0.5 0,-36.5 133,-36.5 133,-0.5 0,-0.5\"/>\n",
       "<text text-anchor=\"middle\" x=\"13\" y=\"-14.8\" font-family=\"Times,serif\" font-size=\"14.00\">b</text>\n",
       "<polyline fill=\"none\" stroke=\"black\" points=\"26,-0.5 26,-36.5 \"/>\n",
       "<text text-anchor=\"middle\" x=\"79.5\" y=\"-14.8\" font-family=\"Times,serif\" font-size=\"14.00\">data &#45;3.0000</text>\n",
       "</g>\n",
       "<!-- 140609849474688&#45;&gt;140609849462832* -->\n",
       "<g id=\"edge6\" class=\"edge\">\n",
       "<title>140609849474688&#45;&gt;140609849462832*</title>\n",
       "<path fill=\"none\" stroke=\"black\" d=\"M133.12,-32.4C142.49,-34.38 151.8,-36.35 160.25,-38.14\"/>\n",
       "<polygon fill=\"black\" stroke=\"black\" points=\"159.57,-41.58 170.08,-40.22 161.02,-34.73 159.57,-41.58\"/>\n",
       "</g>\n",
       "<!-- 140609849463264 -->\n",
       "<g id=\"node6\" class=\"node\">\n",
       "<title>140609849463264</title>\n",
       "<polygon fill=\"none\" stroke=\"black\" points=\"520,-54.5 520,-90.5 647,-90.5 647,-54.5 520,-54.5\"/>\n",
       "<text text-anchor=\"middle\" x=\"532.5\" y=\"-68.8\" font-family=\"Times,serif\" font-size=\"14.00\">e</text>\n",
       "<polyline fill=\"none\" stroke=\"black\" points=\"545,-54.5 545,-90.5 \"/>\n",
       "<text text-anchor=\"middle\" x=\"596\" y=\"-68.8\" font-family=\"Times,serif\" font-size=\"14.00\">data 4.0000</text>\n",
       "</g>\n",
       "<!-- 140609849463264+&#45;&gt;140609849463264 -->\n",
       "<g id=\"edge2\" class=\"edge\">\n",
       "<title>140609849463264+&#45;&gt;140609849463264</title>\n",
       "<path fill=\"none\" stroke=\"black\" d=\"M484.1,-72.5C491.71,-72.5 500.44,-72.5 509.47,-72.5\"/>\n",
       "<polygon fill=\"black\" stroke=\"black\" points=\"509.76,-76 519.76,-72.5 509.76,-69 509.76,-76\"/>\n",
       "</g>\n",
       "</g>\n",
       "</svg>\n"
      ],
      "text/plain": [
       "<graphviz.graphs.Digraph at 0x7fe2482115d0>"
      ]
     },
     "execution_count": 15,
     "metadata": {},
     "output_type": "execute_result"
    }
   ],
   "source": [
    "a = Valor(2, rotulo=\"a\")\n",
    "b = Valor(-3, rotulo=\"b\")\n",
    "c = Valor(10, rotulo=\"c\")\n",
    "\n",
    "d = a * b\n",
    "e = d + c\n",
    "\n",
    "d.rotulo = \"d\"\n",
    "e.rotulo = \"e\"\n",
    "\n",
    "plota_grafo(e)"
   ]
  },
  {
   "attachments": {},
   "cell_type": "markdown",
   "metadata": {},
   "source": [
    "### Refazendo o grafo que fizemos na aula anterior\n",
    "\n"
   ]
  },
  {
   "attachments": {},
   "cell_type": "markdown",
   "metadata": {},
   "source": [
    "Na aula anterior nós fizemos um grafo computacional para aprender como funciona o backpropagation. Vamos refazer ele aqui!\n",
    "\n"
   ]
  },
  {
   "cell_type": "code",
   "execution_count": 16,
   "metadata": {},
   "outputs": [
    {
     "data": {
      "image/svg+xml": [
       "<?xml version=\"1.0\" encoding=\"UTF-8\" standalone=\"no\"?>\n",
       "<!DOCTYPE svg PUBLIC \"-//W3C//DTD SVG 1.1//EN\"\n",
       " \"http://www.w3.org/Graphics/SVG/1.1/DTD/svg11.dtd\">\n",
       "<!-- Generated by graphviz version 2.43.0 (0)\n",
       " -->\n",
       "<!-- Title: %3 Pages: 1 -->\n",
       "<svg width=\"1259pt\" height=\"211pt\"\n",
       " viewBox=\"0.00 0.00 1259.00 211.00\" xmlns=\"http://www.w3.org/2000/svg\" xmlns:xlink=\"http://www.w3.org/1999/xlink\">\n",
       "<g id=\"graph0\" class=\"graph\" transform=\"scale(1 1) rotate(0) translate(4 207)\">\n",
       "<title>%3</title>\n",
       "<polygon fill=\"white\" stroke=\"transparent\" points=\"-4,4 -4,-207 1255,-207 1255,4 -4,4\"/>\n",
       "<!-- 140609849463312 -->\n",
       "<g id=\"node1\" class=\"node\">\n",
       "<title>140609849463312</title>\n",
       "<polygon fill=\"none\" stroke=\"black\" points=\"2,-166.5 2,-202.5 147,-202.5 147,-166.5 2,-166.5\"/>\n",
       "<text text-anchor=\"middle\" x=\"19\" y=\"-180.8\" font-family=\"Times,serif\" font-size=\"14.00\">x2</text>\n",
       "<polyline fill=\"none\" stroke=\"black\" points=\"36,-166.5 36,-202.5 \"/>\n",
       "<text text-anchor=\"middle\" x=\"91.5\" y=\"-180.8\" font-family=\"Times,serif\" font-size=\"14.00\">data 24.0000</text>\n",
       "</g>\n",
       "<!-- 140609849468832* -->\n",
       "<g id=\"node13\" class=\"node\">\n",
       "<title>140609849468832*</title>\n",
       "<ellipse fill=\"none\" stroke=\"black\" cx=\"212\" cy=\"-129.5\" rx=\"27\" ry=\"18\"/>\n",
       "<text text-anchor=\"middle\" x=\"212\" y=\"-125.8\" font-family=\"Times,serif\" font-size=\"14.00\">*</text>\n",
       "</g>\n",
       "<!-- 140609849463312&#45;&gt;140609849468832* -->\n",
       "<g id=\"edge13\" class=\"edge\">\n",
       "<title>140609849463312&#45;&gt;140609849468832*</title>\n",
       "<path fill=\"none\" stroke=\"black\" d=\"M126.29,-166.38C133.94,-163.5 141.7,-160.48 149,-157.5 159.36,-153.27 170.54,-148.33 180.51,-143.79\"/>\n",
       "<polygon fill=\"black\" stroke=\"black\" points=\"182.02,-146.96 189.65,-139.6 179.1,-140.59 182.02,-146.96\"/>\n",
       "</g>\n",
       "<!-- 140609849465376 -->\n",
       "<g id=\"node2\" class=\"node\">\n",
       "<title>140609849465376</title>\n",
       "<polygon fill=\"none\" stroke=\"black\" points=\"826,-55.5 826,-91.5 971,-91.5 971,-55.5 826,-55.5\"/>\n",
       "<text text-anchor=\"middle\" x=\"838.5\" y=\"-69.8\" font-family=\"Times,serif\" font-size=\"14.00\">k</text>\n",
       "<polyline fill=\"none\" stroke=\"black\" points=\"851,-55.5 851,-91.5 \"/>\n",
       "<text text-anchor=\"middle\" x=\"911\" y=\"-69.8\" font-family=\"Times,serif\" font-size=\"14.00\">data 727.0000</text>\n",
       "</g>\n",
       "<!-- 140609849464368* -->\n",
       "<g id=\"node5\" class=\"node\">\n",
       "<title>140609849464368*</title>\n",
       "<ellipse fill=\"none\" stroke=\"black\" cx=\"1034\" cy=\"-45.5\" rx=\"27\" ry=\"18\"/>\n",
       "<text text-anchor=\"middle\" x=\"1034\" y=\"-41.8\" font-family=\"Times,serif\" font-size=\"14.00\">*</text>\n",
       "</g>\n",
       "<!-- 140609849465376&#45;&gt;140609849464368* -->\n",
       "<g id=\"edge12\" class=\"edge\">\n",
       "<title>140609849465376&#45;&gt;140609849464368*</title>\n",
       "<path fill=\"none\" stroke=\"black\" d=\"M971.33,-58.43C980.62,-56.49 989.77,-54.57 998.07,-52.83\"/>\n",
       "<polygon fill=\"black\" stroke=\"black\" points=\"999,-56.21 1008.07,-50.73 997.56,-49.36 999,-56.21\"/>\n",
       "</g>\n",
       "<!-- 140609849465376+ -->\n",
       "<g id=\"node3\" class=\"node\">\n",
       "<title>140609849465376+</title>\n",
       "<ellipse fill=\"none\" stroke=\"black\" cx=\"763\" cy=\"-73.5\" rx=\"27\" ry=\"18\"/>\n",
       "<text text-anchor=\"middle\" x=\"763\" y=\"-69.8\" font-family=\"Times,serif\" font-size=\"14.00\">+</text>\n",
       "</g>\n",
       "<!-- 140609849465376+&#45;&gt;140609849465376 -->\n",
       "<g id=\"edge1\" class=\"edge\">\n",
       "<title>140609849465376+&#45;&gt;140609849465376</title>\n",
       "<path fill=\"none\" stroke=\"black\" d=\"M790.06,-73.5C797.69,-73.5 806.47,-73.5 815.66,-73.5\"/>\n",
       "<polygon fill=\"black\" stroke=\"black\" points=\"815.75,-77 825.75,-73.5 815.75,-70 815.75,-77\"/>\n",
       "</g>\n",
       "<!-- 140609849464368 -->\n",
       "<g id=\"node4\" class=\"node\">\n",
       "<title>140609849464368</title>\n",
       "<polygon fill=\"none\" stroke=\"black\" points=\"1097,-27.5 1097,-63.5 1251,-63.5 1251,-27.5 1097,-27.5\"/>\n",
       "<text text-anchor=\"middle\" x=\"1109.5\" y=\"-41.8\" font-family=\"Times,serif\" font-size=\"14.00\">y</text>\n",
       "<polyline fill=\"none\" stroke=\"black\" points=\"1122,-27.5 1122,-63.5 \"/>\n",
       "<text text-anchor=\"middle\" x=\"1186.5\" y=\"-41.8\" font-family=\"Times,serif\" font-size=\"14.00\">data 1454.0000</text>\n",
       "</g>\n",
       "<!-- 140609849464368*&#45;&gt;140609849464368 -->\n",
       "<g id=\"edge2\" class=\"edge\">\n",
       "<title>140609849464368*&#45;&gt;140609849464368</title>\n",
       "<path fill=\"none\" stroke=\"black\" d=\"M1061.28,-45.5C1068.86,-45.5 1077.58,-45.5 1086.72,-45.5\"/>\n",
       "<polygon fill=\"black\" stroke=\"black\" points=\"1086.79,-49 1096.79,-45.5 1086.79,-42 1086.79,-49\"/>\n",
       "</g>\n",
       "<!-- 140609849474160 -->\n",
       "<g id=\"node6\" class=\"node\">\n",
       "<title>140609849474160</title>\n",
       "<polygon fill=\"none\" stroke=\"black\" points=\"2,-56.5 2,-92.5 147,-92.5 147,-56.5 2,-56.5\"/>\n",
       "<text text-anchor=\"middle\" x=\"19\" y=\"-70.8\" font-family=\"Times,serif\" font-size=\"14.00\">x1</text>\n",
       "<polyline fill=\"none\" stroke=\"black\" points=\"36,-56.5 36,-92.5 \"/>\n",
       "<text text-anchor=\"middle\" x=\"91.5\" y=\"-70.8\" font-family=\"Times,serif\" font-size=\"14.00\">data 60.0000</text>\n",
       "</g>\n",
       "<!-- 140609849466528* -->\n",
       "<g id=\"node9\" class=\"node\">\n",
       "<title>140609849466528*</title>\n",
       "<ellipse fill=\"none\" stroke=\"black\" cx=\"212\" cy=\"-74.5\" rx=\"27\" ry=\"18\"/>\n",
       "<text text-anchor=\"middle\" x=\"212\" y=\"-70.8\" font-family=\"Times,serif\" font-size=\"14.00\">*</text>\n",
       "</g>\n",
       "<!-- 140609849474160&#45;&gt;140609849466528* -->\n",
       "<g id=\"edge7\" class=\"edge\">\n",
       "<title>140609849474160&#45;&gt;140609849466528*</title>\n",
       "<path fill=\"none\" stroke=\"black\" d=\"M147.22,-74.5C156.68,-74.5 166.04,-74.5 174.55,-74.5\"/>\n",
       "<polygon fill=\"black\" stroke=\"black\" points=\"174.83,-78 184.83,-74.5 174.83,-71 174.83,-78\"/>\n",
       "</g>\n",
       "<!-- 140609849468016 -->\n",
       "<g id=\"node7\" class=\"node\">\n",
       "<title>140609849468016</title>\n",
       "<polygon fill=\"none\" stroke=\"black\" points=\"4.5,-111.5 4.5,-147.5 144.5,-147.5 144.5,-111.5 4.5,-111.5\"/>\n",
       "<text text-anchor=\"middle\" x=\"23.5\" y=\"-125.8\" font-family=\"Times,serif\" font-size=\"14.00\">w2</text>\n",
       "<polyline fill=\"none\" stroke=\"black\" points=\"42.5,-111.5 42.5,-147.5 \"/>\n",
       "<text text-anchor=\"middle\" x=\"93.5\" y=\"-125.8\" font-family=\"Times,serif\" font-size=\"14.00\">data 5.0000</text>\n",
       "</g>\n",
       "<!-- 140609849468016&#45;&gt;140609849468832* -->\n",
       "<g id=\"edge10\" class=\"edge\">\n",
       "<title>140609849468016&#45;&gt;140609849468832*</title>\n",
       "<path fill=\"none\" stroke=\"black\" d=\"M144.84,-129.5C155.25,-129.5 165.6,-129.5 174.93,-129.5\"/>\n",
       "<polygon fill=\"black\" stroke=\"black\" points=\"174.96,-133 184.96,-129.5 174.96,-126 174.96,-133\"/>\n",
       "</g>\n",
       "<!-- 140609849466528 -->\n",
       "<g id=\"node8\" class=\"node\">\n",
       "<title>140609849466528</title>\n",
       "<polygon fill=\"none\" stroke=\"black\" points=\"275,-56.5 275,-92.5 428,-92.5 428,-56.5 275,-56.5\"/>\n",
       "<text text-anchor=\"middle\" x=\"291.5\" y=\"-70.8\" font-family=\"Times,serif\" font-size=\"14.00\">s1</text>\n",
       "<polyline fill=\"none\" stroke=\"black\" points=\"308,-56.5 308,-92.5 \"/>\n",
       "<text text-anchor=\"middle\" x=\"368\" y=\"-70.8\" font-family=\"Times,serif\" font-size=\"14.00\">data 600.0000</text>\n",
       "</g>\n",
       "<!-- 140609849473968+ -->\n",
       "<g id=\"node15\" class=\"node\">\n",
       "<title>140609849473968+</title>\n",
       "<ellipse fill=\"none\" stroke=\"black\" cx=\"491\" cy=\"-101.5\" rx=\"27\" ry=\"18\"/>\n",
       "<text text-anchor=\"middle\" x=\"491\" y=\"-97.8\" font-family=\"Times,serif\" font-size=\"14.00\">+</text>\n",
       "</g>\n",
       "<!-- 140609849466528&#45;&gt;140609849473968+ -->\n",
       "<g id=\"edge9\" class=\"edge\">\n",
       "<title>140609849466528&#45;&gt;140609849473968+</title>\n",
       "<path fill=\"none\" stroke=\"black\" d=\"M428.09,-89.34C437.39,-91.17 446.52,-92.96 454.8,-94.59\"/>\n",
       "<polygon fill=\"black\" stroke=\"black\" points=\"454.28,-98.05 464.77,-96.55 455.63,-91.18 454.28,-98.05\"/>\n",
       "</g>\n",
       "<!-- 140609849466528*&#45;&gt;140609849466528 -->\n",
       "<g id=\"edge3\" class=\"edge\">\n",
       "<title>140609849466528*&#45;&gt;140609849466528</title>\n",
       "<path fill=\"none\" stroke=\"black\" d=\"M239.19,-74.5C246.8,-74.5 255.55,-74.5 264.74,-74.5\"/>\n",
       "<polygon fill=\"black\" stroke=\"black\" points=\"264.85,-78 274.85,-74.5 264.85,-71 264.85,-78\"/>\n",
       "</g>\n",
       "<!-- 140609849466048 -->\n",
       "<g id=\"node10\" class=\"node\">\n",
       "<title>140609849466048</title>\n",
       "<polygon fill=\"none\" stroke=\"black\" points=\"828.5,-0.5 828.5,-36.5 968.5,-36.5 968.5,-0.5 828.5,-0.5\"/>\n",
       "<text text-anchor=\"middle\" x=\"847.5\" y=\"-14.8\" font-family=\"Times,serif\" font-size=\"14.00\">w3</text>\n",
       "<polyline fill=\"none\" stroke=\"black\" points=\"866.5,-0.5 866.5,-36.5 \"/>\n",
       "<text text-anchor=\"middle\" x=\"917.5\" y=\"-14.8\" font-family=\"Times,serif\" font-size=\"14.00\">data 2.0000</text>\n",
       "</g>\n",
       "<!-- 140609849466048&#45;&gt;140609849464368* -->\n",
       "<g id=\"edge11\" class=\"edge\">\n",
       "<title>140609849466048&#45;&gt;140609849464368*</title>\n",
       "<path fill=\"none\" stroke=\"black\" d=\"M968.6,-32.47C978.86,-34.55 989.05,-36.61 998.19,-38.46\"/>\n",
       "<polygon fill=\"black\" stroke=\"black\" points=\"997.52,-41.89 1008.01,-40.45 998.91,-35.03 997.52,-41.89\"/>\n",
       "</g>\n",
       "<!-- 140609849463072 -->\n",
       "<g id=\"node11\" class=\"node\">\n",
       "<title>140609849463072</title>\n",
       "<polygon fill=\"none\" stroke=\"black\" points=\"0,-1.5 0,-37.5 149,-37.5 149,-1.5 0,-1.5\"/>\n",
       "<text text-anchor=\"middle\" x=\"19\" y=\"-15.8\" font-family=\"Times,serif\" font-size=\"14.00\">w1</text>\n",
       "<polyline fill=\"none\" stroke=\"black\" points=\"38,-1.5 38,-37.5 \"/>\n",
       "<text text-anchor=\"middle\" x=\"93.5\" y=\"-15.8\" font-family=\"Times,serif\" font-size=\"14.00\">data 10.0000</text>\n",
       "</g>\n",
       "<!-- 140609849463072&#45;&gt;140609849466528* -->\n",
       "<g id=\"edge6\" class=\"edge\">\n",
       "<title>140609849463072&#45;&gt;140609849466528*</title>\n",
       "<path fill=\"none\" stroke=\"black\" d=\"M123.86,-37.55C132.27,-40.8 140.91,-44.2 149,-47.5 159.11,-51.62 170.06,-56.32 179.9,-60.62\"/>\n",
       "<polygon fill=\"black\" stroke=\"black\" points=\"178.74,-63.93 189.3,-64.75 181.56,-57.52 178.74,-63.93\"/>\n",
       "</g>\n",
       "<!-- 140609849468832 -->\n",
       "<g id=\"node12\" class=\"node\">\n",
       "<title>140609849468832</title>\n",
       "<polygon fill=\"none\" stroke=\"black\" points=\"275,-111.5 275,-147.5 428,-147.5 428,-111.5 275,-111.5\"/>\n",
       "<text text-anchor=\"middle\" x=\"291.5\" y=\"-125.8\" font-family=\"Times,serif\" font-size=\"14.00\">s2</text>\n",
       "<polyline fill=\"none\" stroke=\"black\" points=\"308,-111.5 308,-147.5 \"/>\n",
       "<text text-anchor=\"middle\" x=\"368\" y=\"-125.8\" font-family=\"Times,serif\" font-size=\"14.00\">data 120.0000</text>\n",
       "</g>\n",
       "<!-- 140609849468832&#45;&gt;140609849473968+ -->\n",
       "<g id=\"edge14\" class=\"edge\">\n",
       "<title>140609849468832&#45;&gt;140609849473968+</title>\n",
       "<path fill=\"none\" stroke=\"black\" d=\"M428.09,-114.11C437.48,-112.2 446.7,-110.32 455.03,-108.62\"/>\n",
       "<polygon fill=\"black\" stroke=\"black\" points=\"455.97,-112 465.07,-106.58 454.57,-105.14 455.97,-112\"/>\n",
       "</g>\n",
       "<!-- 140609849468832*&#45;&gt;140609849468832 -->\n",
       "<g id=\"edge4\" class=\"edge\">\n",
       "<title>140609849468832*&#45;&gt;140609849468832</title>\n",
       "<path fill=\"none\" stroke=\"black\" d=\"M239.19,-129.5C246.8,-129.5 255.55,-129.5 264.74,-129.5\"/>\n",
       "<polygon fill=\"black\" stroke=\"black\" points=\"264.85,-133 274.85,-129.5 264.85,-126 264.85,-133\"/>\n",
       "</g>\n",
       "<!-- 140609849473968 -->\n",
       "<g id=\"node14\" class=\"node\">\n",
       "<title>140609849473968</title>\n",
       "<polygon fill=\"none\" stroke=\"black\" points=\"554,-83.5 554,-119.5 700,-119.5 700,-83.5 554,-83.5\"/>\n",
       "<text text-anchor=\"middle\" x=\"567\" y=\"-97.8\" font-family=\"Times,serif\" font-size=\"14.00\">n</text>\n",
       "<polyline fill=\"none\" stroke=\"black\" points=\"580,-83.5 580,-119.5 \"/>\n",
       "<text text-anchor=\"middle\" x=\"640\" y=\"-97.8\" font-family=\"Times,serif\" font-size=\"14.00\">data 720.0000</text>\n",
       "</g>\n",
       "<!-- 140609849473968&#45;&gt;140609849465376+ -->\n",
       "<g id=\"edge8\" class=\"edge\">\n",
       "<title>140609849473968&#45;&gt;140609849465376+</title>\n",
       "<path fill=\"none\" stroke=\"black\" d=\"M700.1,-86.43C709.42,-84.49 718.61,-82.57 726.94,-80.83\"/>\n",
       "<polygon fill=\"black\" stroke=\"black\" points=\"727.9,-84.2 736.97,-78.73 726.47,-77.35 727.9,-84.2\"/>\n",
       "</g>\n",
       "<!-- 140609849473968+&#45;&gt;140609849473968 -->\n",
       "<g id=\"edge5\" class=\"edge\">\n",
       "<title>140609849473968+&#45;&gt;140609849473968</title>\n",
       "<path fill=\"none\" stroke=\"black\" d=\"M518.15,-101.5C525.82,-101.5 534.63,-101.5 543.85,-101.5\"/>\n",
       "<polygon fill=\"black\" stroke=\"black\" points=\"543.98,-105 553.98,-101.5 543.98,-98 543.98,-105\"/>\n",
       "</g>\n",
       "<!-- 140609849474016 -->\n",
       "<g id=\"node16\" class=\"node\">\n",
       "<title>140609849474016</title>\n",
       "<polygon fill=\"none\" stroke=\"black\" points=\"563,-28.5 563,-64.5 691,-64.5 691,-28.5 563,-28.5\"/>\n",
       "<text text-anchor=\"middle\" x=\"576\" y=\"-42.8\" font-family=\"Times,serif\" font-size=\"14.00\">b</text>\n",
       "<polyline fill=\"none\" stroke=\"black\" points=\"589,-28.5 589,-64.5 \"/>\n",
       "<text text-anchor=\"middle\" x=\"640\" y=\"-42.8\" font-family=\"Times,serif\" font-size=\"14.00\">data 7.0000</text>\n",
       "</g>\n",
       "<!-- 140609849474016&#45;&gt;140609849465376+ -->\n",
       "<g id=\"edge15\" class=\"edge\">\n",
       "<title>140609849474016&#45;&gt;140609849465376+</title>\n",
       "<path fill=\"none\" stroke=\"black\" d=\"M691.08,-59.21C703.42,-61.7 715.95,-64.22 726.96,-66.44\"/>\n",
       "<polygon fill=\"black\" stroke=\"black\" points=\"726.52,-69.92 737.01,-68.47 727.9,-63.06 726.52,-69.92\"/>\n",
       "</g>\n",
       "</g>\n",
       "</svg>\n"
      ],
      "text/plain": [
       "<graphviz.graphs.Digraph at 0x7fe248212f50>"
      ]
     },
     "execution_count": 16,
     "metadata": {},
     "output_type": "execute_result"
    }
   ],
   "source": [
    "x1 = Valor(60, rotulo=\"x1\")\n",
    "x2 = Valor(24, rotulo=\"x2\")\n",
    "\n",
    "w1 = Valor(10, rotulo=\"w1\")\n",
    "w2 = Valor(5, rotulo=\"w2\")\n",
    "w3 = Valor(2, rotulo=\"w3\")\n",
    "\n",
    "b = Valor(7, rotulo=\"b\")\n",
    "\n",
    "s1 = x1*w1\n",
    "s2 = x2*w2\n",
    "s1.rotulo = \"s1\"\n",
    "s2.rotulo = \"s2\"\n",
    "\n",
    "n = s1+s2\n",
    "n.rotulo = \"n\"\n",
    "\n",
    "k = n+b\n",
    "k.rotulo = \"k\"\n",
    "\n",
    "y = k*w3\n",
    "y.rotulo = \"y\"\n",
    "\n",
    "plota_grafo(y)"
   ]
  },
  {
   "attachments": {},
   "cell_type": "markdown",
   "metadata": {},
   "source": [
    "## Conclusão\n",
    "\n",
    "Nesse experimento exploramos com um pouco mais de profundidade as classes e seus possíveis métodos \\_\\_dunder\\_\\_  como `__add__` e `__mul__`, assim como outros atributos! Também aprendemos a utilizar a biblioteca `Graphviz` para plotar grafos direcionais que representam a nossa classe Valor; levando em conta o progenitor e operador-mãe de cada elemento e plotando o gráfico utilizado anteriormente para a explicação inicial sobre Redes Neurais Artificiais.\n",
    "\n"
   ]
  },
  {
   "attachments": {},
   "cell_type": "markdown",
   "metadata": {},
   "source": [
    "## Playground\n",
    "\n"
   ]
  },
  {
   "cell_type": "code",
   "execution_count": null,
   "metadata": {},
   "outputs": [],
   "source": []
  }
 ],
 "metadata": {
  "interpreter": {
   "hash": "b3e6b8674b6565fbc2ba6932dd725c7d9cea502db282270049ae80a8cf38102d"
  },
  "kernelspec": {
   "display_name": "Python 3.9.7 64-bit ('ilumpy': venv)",
   "name": "python3"
  },
  "language_info": {
   "codemirror_mode": {
    "name": "ipython",
    "version": 3
   },
   "file_extension": ".py",
   "mimetype": "text/x-python",
   "name": "python",
   "nbconvert_exporter": "python",
   "pygments_lexer": "ipython3",
   "version": "3.10.6"
  },
  "org": null
 },
 "nbformat": 4,
 "nbformat_minor": 4
}
