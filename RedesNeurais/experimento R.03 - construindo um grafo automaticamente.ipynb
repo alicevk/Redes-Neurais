{
 "cells": [
  {
   "cell_type": "markdown",
   "source": [
    "Construindo um grafo automaticamente\n",
    "====================================\n",
    "\n"
   ],
   "metadata": {}
  },
  {
   "cell_type": "markdown",
   "source": [
    "## Introdução\n",
    "\n"
   ],
   "metadata": {}
  },
  {
   "cell_type": "markdown",
   "source": [
    "Neste notebook nós vamos dar o primeiro passo para construir nossa rede neural artificial. Neste primeiro passo, nós vamos criar uma classe que gera automaticamente o nosso `grafo computacional`. O grafo computacional é o grafo que representa todas as operações matemáticas que ocorreram ao se computar um certo valor $y$. O grafo computacional é um passo necessário pois será baseado nele que iremos computar os gradientes locais necessários para realizar o `backpropagation`.\n",
    "\n"
   ],
   "metadata": {}
  },
  {
   "cell_type": "markdown",
   "source": [
    "## Importações\n",
    "\n"
   ],
   "metadata": {}
  },
  {
   "cell_type": "code",
   "execution_count": 1,
   "source": [
    "from funcoes import plota_grafo"
   ],
   "outputs": [],
   "metadata": {}
  },
  {
   "cell_type": "markdown",
   "source": [
    "## Código e discussão\n",
    "\n"
   ],
   "metadata": {}
  },
  {
   "cell_type": "markdown",
   "source": [
    "### Primeiros passos\n",
    "\n"
   ],
   "metadata": {}
  },
  {
   "cell_type": "markdown",
   "source": [
    "A base de tudo será uma classe chamada `Valor`. Vamos começar pelo básico!\n",
    "\n"
   ],
   "metadata": {}
  },
  {
   "cell_type": "code",
   "execution_count": 2,
   "source": [
    "class Valor:\r\n",
    "    def __init__(self, data):\r\n",
    "        self.data = data\r\n",
    "\r\n",
    "    def __repr__(self):\r\n",
    "        return f\"Valor(data={self.data})\""
   ],
   "outputs": [],
   "metadata": {}
  },
  {
   "cell_type": "markdown",
   "source": [
    "Vamos testar nossa classe!\n",
    "\n"
   ],
   "metadata": {}
  },
  {
   "cell_type": "code",
   "execution_count": 3,
   "source": [
    "x1 = Valor(60)\r\n",
    "print(x1)\r\n",
    "print(x1.data)"
   ],
   "outputs": [
    {
     "output_type": "stream",
     "name": "stdout",
     "text": [
      "Valor(data=60)\n",
      "60\n"
     ]
    }
   ],
   "metadata": {}
  },
  {
   "cell_type": "markdown",
   "source": [
    "### Os dunders `__add__` e `__mul__`\n",
    "\n"
   ],
   "metadata": {}
  },
  {
   "cell_type": "markdown",
   "source": [
    "Observe que não conseguimos adicionar nem multiplicar objetos criados com a classe `Valor`.\n",
    "\n"
   ],
   "metadata": {}
  },
  {
   "cell_type": "code",
   "execution_count": 4,
   "source": [
    "a = Valor(10)\r\n",
    "b = Valor(5)"
   ],
   "outputs": [],
   "metadata": {}
  },
  {
   "cell_type": "code",
   "execution_count": 5,
   "source": [
    "print(a + b)"
   ],
   "outputs": [
    {
     "output_type": "error",
     "ename": "TypeError",
     "evalue": "unsupported operand type(s) for +: 'Valor' and 'Valor'",
     "traceback": [
      "\u001b[1;31m---------------------------------------------------------------------------\u001b[0m",
      "\u001b[1;31mTypeError\u001b[0m                                 Traceback (most recent call last)",
      "\u001b[1;32mC:\\Users\\ALICE2~1\\AppData\\Local\\Temp/ipykernel_18208/3864629426.py\u001b[0m in \u001b[0;36m<module>\u001b[1;34m\u001b[0m\n\u001b[1;32m----> 1\u001b[1;33m \u001b[0mprint\u001b[0m\u001b[1;33m(\u001b[0m\u001b[0ma\u001b[0m \u001b[1;33m+\u001b[0m \u001b[0mb\u001b[0m\u001b[1;33m)\u001b[0m\u001b[1;33m\u001b[0m\u001b[1;33m\u001b[0m\u001b[0m\n\u001b[0m",
      "\u001b[1;31mTypeError\u001b[0m: unsupported operand type(s) for +: 'Valor' and 'Valor'"
     ]
    }
   ],
   "metadata": {}
  },
  {
   "cell_type": "code",
   "execution_count": 6,
   "source": [
    "print(a * b)"
   ],
   "outputs": [
    {
     "output_type": "error",
     "ename": "TypeError",
     "evalue": "unsupported operand type(s) for *: 'Valor' and 'Valor'",
     "traceback": [
      "\u001b[1;31m---------------------------------------------------------------------------\u001b[0m",
      "\u001b[1;31mTypeError\u001b[0m                                 Traceback (most recent call last)",
      "\u001b[1;32mC:\\Users\\ALICE2~1\\AppData\\Local\\Temp/ipykernel_18208/2640154986.py\u001b[0m in \u001b[0;36m<module>\u001b[1;34m\u001b[0m\n\u001b[1;32m----> 1\u001b[1;33m \u001b[0mprint\u001b[0m\u001b[1;33m(\u001b[0m\u001b[0ma\u001b[0m \u001b[1;33m*\u001b[0m \u001b[0mb\u001b[0m\u001b[1;33m)\u001b[0m\u001b[1;33m\u001b[0m\u001b[1;33m\u001b[0m\u001b[0m\n\u001b[0m",
      "\u001b[1;31mTypeError\u001b[0m: unsupported operand type(s) for *: 'Valor' and 'Valor'"
     ]
    }
   ],
   "metadata": {}
  },
  {
   "cell_type": "markdown",
   "source": [
    "Ué&#x2026; porque não conseguimos? Não conseguimos pois o Python (ainda) não é vidente. Ele lá vai saber como adicionar ou multiplicar algo que você criou? Pra você parece óbvio que valores podem ser adicionados ou multiplicados, mas para o Python ele nem sabe o que significa a palavra `Valor`&#x2026;\n",
    "\n",
    "Como sempre, temos que contar para o programa o que queremos que aconteça quando usarmos os operadores `+` e `*`. Quem faz isso são os dunders `__add__` e `__mul__`.\n",
    "\n"
   ],
   "metadata": {}
  },
  {
   "cell_type": "code",
   "execution_count": 7,
   "source": [
    "class Valor:\r\n",
    "    def __init__(self, data):\r\n",
    "        self.data = data\r\n",
    "\r\n",
    "    def __repr__(self):\r\n",
    "        return f\"Valor(data={self.data})\"\r\n",
    "\r\n",
    "    def __add__(self, outro_valor):\r\n",
    "        saida = Valor(self.data + outro_valor.data)\r\n",
    "        return saida\r\n",
    "\r\n",
    "    def __mul__(self, outro_valor):\r\n",
    "        saida = Valor(self.data * outro_valor.data)\r\n",
    "        return saida"
   ],
   "outputs": [],
   "metadata": {}
  },
  {
   "cell_type": "markdown",
   "source": [
    "Vamos testar!\n",
    "\n"
   ],
   "metadata": {}
  },
  {
   "cell_type": "code",
   "execution_count": 8,
   "source": [
    "a = Valor(10)\r\n",
    "b = Valor(5)\r\n",
    "\r\n",
    "print(a+b)\r\n",
    "\r\n",
    "print(a*b)"
   ],
   "outputs": [
    {
     "output_type": "stream",
     "name": "stdout",
     "text": [
      "Valor(data=15)\n",
      "Valor(data=50)\n"
     ]
    }
   ],
   "metadata": {}
  },
  {
   "cell_type": "markdown",
   "source": [
    "### Registrando os progenitores\n",
    "\n"
   ],
   "metadata": {}
  },
  {
   "cell_type": "markdown",
   "source": [
    "Nosso objetivo é construir um grafo computacional. Em um grafo computacional, um certo vértice pode ter um ou mais vértices progenitores (são seus pais/mães). Nós não podemos perder essa informação quando formos construir um grafo, então precisamos incluir essa informação na nossa classe.\n",
    "\n"
   ],
   "metadata": {}
  },
  {
   "cell_type": "code",
   "execution_count": 9,
   "source": [
    "class Valor:\r\n",
    "    def __init__(self, data, progenitor=()):\r\n",
    "        self.data = data\r\n",
    "        self.progenitor = progenitor\r\n",
    "\r\n",
    "    def __repr__(self):\r\n",
    "        return f\"Valor(data={self.data})\"\r\n",
    "\r\n",
    "    def __add__(self, outro_valor):\r\n",
    "        data = self.data + outro_valor.data\r\n",
    "        progenitor = (self, outro_valor)\r\n",
    "        saida = Valor(data, progenitor)\r\n",
    "        return saida\r\n",
    "\r\n",
    "    def __mul__(self, outro_valor):\r\n",
    "        data = self.data * outro_valor.data\r\n",
    "        progenitor = (self, outro_valor)\r\n",
    "        saida = Valor(data, progenitor)\r\n",
    "        return saida"
   ],
   "outputs": [],
   "metadata": {}
  },
  {
   "cell_type": "markdown",
   "source": [
    "Vamos testar!\r\n",
    "\r\n"
   ],
   "metadata": {}
  },
  {
   "cell_type": "code",
   "execution_count": 11,
   "source": [
    "a = Valor(10)\r\n",
    "b = Valor(5)\r\n",
    "print(a.progenitor)\r\n",
    "\r\n",
    "c = a+b\r\n",
    "print(c)\r\n",
    "print(c.progenitor)"
   ],
   "outputs": [
    {
     "output_type": "stream",
     "name": "stdout",
     "text": [
      "()\n",
      "Valor(data=15)\n",
      "(Valor(data=10), Valor(data=5))\n"
     ]
    }
   ],
   "metadata": {}
  },
  {
   "cell_type": "markdown",
   "source": [
    "### Registrando o operador mãe\n",
    "\n"
   ],
   "metadata": {}
  },
  {
   "cell_type": "markdown",
   "source": [
    "Em um grafo computacional, um vértice pode ter um operador mãe. O operador mãe é o operador que foi usado para gerar o vértice.\n",
    "\n"
   ],
   "metadata": {}
  },
  {
   "cell_type": "code",
   "execution_count": 12,
   "source": [
    "class Valor:\r\n",
    "    def __init__(self, data, progenitor=(), operador_mae=\"\"):\r\n",
    "        self.data = data\r\n",
    "        self.progenitor = progenitor\r\n",
    "        self.operador_mae = operador_mae\r\n",
    "\r\n",
    "    def __repr__(self):\r\n",
    "        return f\"Valor(data={self.data})\"\r\n",
    "\r\n",
    "    def __add__(self, outro_valor):\r\n",
    "        data = self.data + outro_valor.data\r\n",
    "        progenitor = (self, outro_valor)\r\n",
    "        operador_mae = \"+\"\r\n",
    "        saida = Valor(data, progenitor, operador_mae)\r\n",
    "        return saida\r\n",
    "\r\n",
    "    def __mul__(self, outro_valor):\r\n",
    "        data = self.data * outro_valor.data\r\n",
    "        progenitor = (self, outro_valor)\r\n",
    "        operador_mae = \"*\"\r\n",
    "        saida = Valor(data, progenitor, operador_mae)\r\n",
    "        return saida"
   ],
   "outputs": [],
   "metadata": {}
  },
  {
   "cell_type": "markdown",
   "source": [
    "Vamos testar!\n",
    "\n"
   ],
   "metadata": {}
  },
  {
   "cell_type": "code",
   "execution_count": null,
   "source": [],
   "outputs": [],
   "metadata": {}
  },
  {
   "cell_type": "markdown",
   "source": [
    "### Plotando o primeiro grafo\n",
    "\n"
   ],
   "metadata": {}
  },
  {
   "cell_type": "markdown",
   "source": [
    "Vamos plotar nosso primeiro grafo!\n",
    "\n"
   ],
   "metadata": {}
  },
  {
   "cell_type": "code",
   "execution_count": 16,
   "source": [
    "a = Valor(2)\r\n",
    "b = Valor(-3)\r\n",
    "c = Valor(10)\r\n",
    "\r\n",
    "d = a * b\r\n",
    "e = d + c\r\n",
    "\r\n",
    "plota_grafo(e)\r\n",
    "\r\n",
    "# aeeeeeee"
   ],
   "outputs": [
    {
     "output_type": "execute_result",
     "data": {
      "image/svg+xml": "<?xml version=\"1.0\" encoding=\"UTF-8\" standalone=\"no\"?>\n<!DOCTYPE svg PUBLIC \"-//W3C//DTD SVG 1.1//EN\"\n \"http://www.w3.org/Graphics/SVG/1.1/DTD/svg11.dtd\">\n<!-- Generated by graphviz version 8.0.3 (20230416.2022)\n -->\n<!-- Pages: 1 -->\n<svg width=\"515pt\" height=\"127pt\"\n viewBox=\"0.00 0.00 515.00 127.00\" xmlns=\"http://www.w3.org/2000/svg\" xmlns:xlink=\"http://www.w3.org/1999/xlink\">\n<g id=\"graph0\" class=\"graph\" transform=\"scale(1 1) rotate(0) translate(4 123)\">\n<polygon fill=\"white\" stroke=\"none\" points=\"-4,4 -4,-123 511,-123 511,4 -4,4\"/>\n<!-- 1915335472656 -->\n<g id=\"node1\" class=\"node\">\n<title>1915335472656</title>\n<polygon fill=\"none\" stroke=\"black\" points=\"212,-82.5 212,-118.5 300,-118.5 300,-82.5 212,-82.5\"/>\n<text text-anchor=\"middle\" x=\"256\" y=\"-96.8\" font-family=\"Times New Roman,serif\" font-size=\"14.00\">data 10.0000</text>\n</g>\n<!-- 1915335471744+ -->\n<g id=\"node3\" class=\"node\">\n<title>1915335471744+</title>\n<ellipse fill=\"none\" stroke=\"black\" cx=\"363\" cy=\"-72.5\" rx=\"27\" ry=\"18\"/>\n<text text-anchor=\"middle\" x=\"363\" y=\"-68.8\" font-family=\"Times New Roman,serif\" font-size=\"14.00\">+</text>\n</g>\n<!-- 1915335472656&#45;&gt;1915335471744+ -->\n<g id=\"edge6\" class=\"edge\">\n<title>1915335472656&#45;&gt;1915335471744+</title>\n<path fill=\"none\" stroke=\"black\" d=\"M299.71,-89.11C308.73,-86.71 318.15,-84.19 326.86,-81.87\"/>\n<polygon fill=\"black\" stroke=\"black\" points=\"327.65,-85.01 336.42,-79.06 325.85,-78.25 327.65,-85.01\"/>\n</g>\n<!-- 1915335471744 -->\n<g id=\"node2\" class=\"node\">\n<title>1915335471744</title>\n<polygon fill=\"none\" stroke=\"black\" points=\"426,-54.5 426,-90.5 507,-90.5 507,-54.5 426,-54.5\"/>\n<text text-anchor=\"middle\" x=\"466.5\" y=\"-68.8\" font-family=\"Times New Roman,serif\" font-size=\"14.00\">data 4.0000</text>\n</g>\n<!-- 1915335471744+&#45;&gt;1915335471744 -->\n<g id=\"edge1\" class=\"edge\">\n<title>1915335471744+&#45;&gt;1915335471744</title>\n<path fill=\"none\" stroke=\"black\" d=\"M390.4,-72.5C398.08,-72.5 406.74,-72.5 415.38,-72.5\"/>\n<polygon fill=\"black\" stroke=\"black\" points=\"415.22,-76 425.22,-72.5 415.22,-69 415.22,-76\"/>\n</g>\n<!-- 1915335473424 -->\n<g id=\"node4\" class=\"node\">\n<title>1915335473424</title>\n<polygon fill=\"none\" stroke=\"black\" points=\"0,-55.5 0,-91.5 86,-91.5 86,-55.5 0,-55.5\"/>\n<text text-anchor=\"middle\" x=\"43\" y=\"-69.8\" font-family=\"Times New Roman,serif\" font-size=\"14.00\">data &#45;3.0000</text>\n</g>\n<!-- 1915335475008* -->\n<g id=\"node6\" class=\"node\">\n<title>1915335475008*</title>\n<ellipse fill=\"none\" stroke=\"black\" cx=\"149\" cy=\"-45.5\" rx=\"27\" ry=\"18\"/>\n<text text-anchor=\"middle\" x=\"149\" y=\"-41.8\" font-family=\"Times New Roman,serif\" font-size=\"14.00\">*</text>\n</g>\n<!-- 1915335473424&#45;&gt;1915335475008* -->\n<g id=\"edge3\" class=\"edge\">\n<title>1915335473424&#45;&gt;1915335475008*</title>\n<path fill=\"none\" stroke=\"black\" d=\"M85.7,-62.27C94.68,-59.85 104.09,-57.32 112.79,-54.98\"/>\n<polygon fill=\"black\" stroke=\"black\" points=\"113.61,-58.11 122.36,-52.14 111.79,-51.36 113.61,-58.11\"/>\n</g>\n<!-- 1915335475008 -->\n<g id=\"node5\" class=\"node\">\n<title>1915335475008</title>\n<polygon fill=\"none\" stroke=\"black\" points=\"213,-27.5 213,-63.5 299,-63.5 299,-27.5 213,-27.5\"/>\n<text text-anchor=\"middle\" x=\"256\" y=\"-41.8\" font-family=\"Times New Roman,serif\" font-size=\"14.00\">data &#45;6.0000</text>\n</g>\n<!-- 1915335475008&#45;&gt;1915335471744+ -->\n<g id=\"edge5\" class=\"edge\">\n<title>1915335475008&#45;&gt;1915335471744+</title>\n<path fill=\"none\" stroke=\"black\" d=\"M298.8,-56.25C308.07,-58.63 317.81,-61.14 326.78,-63.44\"/>\n<polygon fill=\"black\" stroke=\"black\" points=\"325.72,-67.04 336.27,-66.14 327.46,-60.26 325.72,-67.04\"/>\n</g>\n<!-- 1915335475008*&#45;&gt;1915335475008 -->\n<g id=\"edge2\" class=\"edge\">\n<title>1915335475008*&#45;&gt;1915335475008</title>\n<path fill=\"none\" stroke=\"black\" d=\"M176.5,-45.5C184.44,-45.5 193.45,-45.5 202.47,-45.5\"/>\n<polygon fill=\"black\" stroke=\"black\" points=\"202.39,-49 212.39,-45.5 202.39,-42 202.39,-49\"/>\n</g>\n<!-- 1915335472560 -->\n<g id=\"node7\" class=\"node\">\n<title>1915335472560</title>\n<polygon fill=\"none\" stroke=\"black\" points=\"2.5,-0.5 2.5,-36.5 83.5,-36.5 83.5,-0.5 2.5,-0.5\"/>\n<text text-anchor=\"middle\" x=\"43\" y=\"-14.8\" font-family=\"Times New Roman,serif\" font-size=\"14.00\">data 2.0000</text>\n</g>\n<!-- 1915335472560&#45;&gt;1915335475008* -->\n<g id=\"edge4\" class=\"edge\">\n<title>1915335472560&#45;&gt;1915335475008*</title>\n<path fill=\"none\" stroke=\"black\" d=\"M83.32,-28.71C92.99,-31.22 103.29,-33.89 112.76,-36.35\"/>\n<polygon fill=\"black\" stroke=\"black\" points=\"111.85,-39.99 122.4,-39.11 113.61,-33.21 111.85,-39.99\"/>\n</g>\n</g>\n</svg>\n",
      "text/plain": [
       "<graphviz.graphs.Digraph at 0x1bdf2e3f460>"
      ]
     },
     "metadata": {},
     "execution_count": 16
    }
   ],
   "metadata": {}
  },
  {
   "cell_type": "markdown",
   "source": [
    "### Registrando o rótulo\n",
    "\n"
   ],
   "metadata": {}
  },
  {
   "cell_type": "markdown",
   "source": [
    "Nosso grafo seria mais legível se tivéssemos rótulos indicando o que é cada vértice. Vamos incluir essa informação na nossa classe.\n",
    "\n"
   ],
   "metadata": {}
  },
  {
   "cell_type": "code",
   "execution_count": 21,
   "source": [
    "class Valor:\r\n",
    "    def __init__(self, data, progenitor=(), operador_mae=\"\", rotulo=\"\"):\r\n",
    "        self.data = data\r\n",
    "        self.progenitor = progenitor\r\n",
    "        self.operador_mae = operador_mae\r\n",
    "        self.rotulo = rotulo\r\n",
    "\r\n",
    "    def __repr__(self):\r\n",
    "        return f\"Valor(data={self.data})\"\r\n",
    "\r\n",
    "    def __add__(self, outro_valor):\r\n",
    "        data = self.data + outro_valor.data\r\n",
    "        progenitor = (self, outro_valor)\r\n",
    "        operador_mae = \"+\"\r\n",
    "        saida = Valor(data, progenitor, operador_mae)\r\n",
    "        return saida\r\n",
    "\r\n",
    "    def __mul__(self, outro_valor):\r\n",
    "        data = self.data * outro_valor.data\r\n",
    "        progenitor = (self, outro_valor)\r\n",
    "        operador_mae = \"*\"\r\n",
    "        saida = Valor(data, progenitor, operador_mae)\r\n",
    "        return saida"
   ],
   "outputs": [],
   "metadata": {}
  },
  {
   "cell_type": "markdown",
   "source": [
    "Vamos testar!\n",
    "\n"
   ],
   "metadata": {}
  },
  {
   "cell_type": "code",
   "execution_count": 24,
   "source": [
    "a = Valor(2, rotulo=\"a\")\r\n",
    "b = Valor(-3, rotulo=\"b\")\r\n",
    "c = Valor(10, rotulo=\"c\")\r\n",
    "\r\n",
    "d = a * b\r\n",
    "e = d + c\r\n",
    "\r\n",
    "d.rotulo = \"d\"\r\n",
    "e.rotulo = \"e\"\r\n",
    "\r\n",
    "plota_grafo(e)"
   ],
   "outputs": [
    {
     "output_type": "execute_result",
     "data": {
      "image/svg+xml": "<?xml version=\"1.0\" encoding=\"UTF-8\" standalone=\"no\"?>\n<!DOCTYPE svg PUBLIC \"-//W3C//DTD SVG 1.1//EN\"\n \"http://www.w3.org/Graphics/SVG/1.1/DTD/svg11.dtd\">\n<!-- Generated by graphviz version 8.0.3 (20230416.2022)\n -->\n<!-- Pages: 1 -->\n<svg width=\"585pt\" height=\"127pt\"\n viewBox=\"0.00 0.00 585.00 127.00\" xmlns=\"http://www.w3.org/2000/svg\" xmlns:xlink=\"http://www.w3.org/1999/xlink\">\n<g id=\"graph0\" class=\"graph\" transform=\"scale(1 1) rotate(0) translate(4 123)\">\n<polygon fill=\"white\" stroke=\"none\" points=\"-4,4 -4,-123 581,-123 581,4 -4,4\"/>\n<!-- 1915335562288 -->\n<g id=\"node1\" class=\"node\">\n<title>1915335562288</title>\n<polygon fill=\"none\" stroke=\"black\" points=\"236.5,-27.5 236.5,-63.5 346.5,-63.5 346.5,-27.5 236.5,-27.5\"/>\n<text text-anchor=\"middle\" x=\"248.5\" y=\"-41.8\" font-family=\"Times New Roman,serif\" font-size=\"14.00\">d</text>\n<polyline fill=\"none\" stroke=\"black\" points=\"260.5,-27.5 260.5,-63.5\"/>\n<text text-anchor=\"middle\" x=\"303.5\" y=\"-41.8\" font-family=\"Times New Roman,serif\" font-size=\"14.00\">data &#45;6.0000</text>\n</g>\n<!-- 1915305532768+ -->\n<g id=\"node5\" class=\"node\">\n<title>1915305532768+</title>\n<ellipse fill=\"none\" stroke=\"black\" cx=\"410\" cy=\"-72.5\" rx=\"27\" ry=\"18\"/>\n<text text-anchor=\"middle\" x=\"410\" y=\"-68.8\" font-family=\"Times New Roman,serif\" font-size=\"14.00\">+</text>\n</g>\n<!-- 1915335562288&#45;&gt;1915305532768+ -->\n<g id=\"edge4\" class=\"edge\">\n<title>1915335562288&#45;&gt;1915305532768+</title>\n<path fill=\"none\" stroke=\"black\" d=\"M346.32,-57.97C355.62,-60.13 365.08,-62.32 373.73,-64.33\"/>\n<polygon fill=\"black\" stroke=\"black\" points=\"372.66,-67.9 383.19,-66.75 374.24,-61.08 372.66,-67.9\"/>\n</g>\n<!-- 1915335562288* -->\n<g id=\"node2\" class=\"node\">\n<title>1915335562288*</title>\n<ellipse fill=\"none\" stroke=\"black\" cx=\"173\" cy=\"-45.5\" rx=\"27\" ry=\"18\"/>\n<text text-anchor=\"middle\" x=\"173\" y=\"-41.8\" font-family=\"Times New Roman,serif\" font-size=\"14.00\">*</text>\n</g>\n<!-- 1915335562288*&#45;&gt;1915335562288 -->\n<g id=\"edge1\" class=\"edge\">\n<title>1915335562288*&#45;&gt;1915335562288</title>\n<path fill=\"none\" stroke=\"black\" d=\"M200.44,-45.5C208.07,-45.5 216.76,-45.5 225.66,-45.5\"/>\n<polygon fill=\"black\" stroke=\"black\" points=\"225.56,-49 235.56,-45.5 225.56,-42 225.56,-49\"/>\n</g>\n<!-- 1915335563344 -->\n<g id=\"node3\" class=\"node\">\n<title>1915335563344</title>\n<polygon fill=\"none\" stroke=\"black\" points=\"3,-55.5 3,-91.5 107,-91.5 107,-55.5 3,-55.5\"/>\n<text text-anchor=\"middle\" x=\"14.5\" y=\"-69.8\" font-family=\"Times New Roman,serif\" font-size=\"14.00\">a</text>\n<polyline fill=\"none\" stroke=\"black\" points=\"26,-55.5 26,-91.5\"/>\n<text text-anchor=\"middle\" x=\"66.5\" y=\"-69.8\" font-family=\"Times New Roman,serif\" font-size=\"14.00\">data 2.0000</text>\n</g>\n<!-- 1915335563344&#45;&gt;1915335562288* -->\n<g id=\"edge5\" class=\"edge\">\n<title>1915335563344&#45;&gt;1915335562288*</title>\n<path fill=\"none\" stroke=\"black\" d=\"M106.88,-61.22C116.94,-58.79 127.3,-56.29 136.7,-54.02\"/>\n<polygon fill=\"black\" stroke=\"black\" points=\"137.34,-57.23 146.24,-51.48 135.7,-50.42 137.34,-57.23\"/>\n</g>\n<!-- 1915305532768 -->\n<g id=\"node4\" class=\"node\">\n<title>1915305532768</title>\n<polygon fill=\"none\" stroke=\"black\" points=\"473,-54.5 473,-90.5 577,-90.5 577,-54.5 473,-54.5\"/>\n<text text-anchor=\"middle\" x=\"484.5\" y=\"-68.8\" font-family=\"Times New Roman,serif\" font-size=\"14.00\">e</text>\n<polyline fill=\"none\" stroke=\"black\" points=\"496,-54.5 496,-90.5\"/>\n<text text-anchor=\"middle\" x=\"536.5\" y=\"-68.8\" font-family=\"Times New Roman,serif\" font-size=\"14.00\">data 4.0000</text>\n</g>\n<!-- 1915305532768+&#45;&gt;1915305532768 -->\n<g id=\"edge2\" class=\"edge\">\n<title>1915305532768+&#45;&gt;1915305532768</title>\n<path fill=\"none\" stroke=\"black\" d=\"M437.49,-72.5C445.1,-72.5 453.73,-72.5 462.52,-72.5\"/>\n<polygon fill=\"black\" stroke=\"black\" points=\"462.26,-76 472.26,-72.5 462.26,-69 462.26,-76\"/>\n</g>\n<!-- 1915335563152 -->\n<g id=\"node6\" class=\"node\">\n<title>1915335563152</title>\n<polygon fill=\"none\" stroke=\"black\" points=\"0,-0.5 0,-36.5 110,-36.5 110,-0.5 0,-0.5\"/>\n<text text-anchor=\"middle\" x=\"12\" y=\"-14.8\" font-family=\"Times New Roman,serif\" font-size=\"14.00\">b</text>\n<polyline fill=\"none\" stroke=\"black\" points=\"24,-0.5 24,-36.5\"/>\n<text text-anchor=\"middle\" x=\"67\" y=\"-14.8\" font-family=\"Times New Roman,serif\" font-size=\"14.00\">data &#45;3.0000</text>\n</g>\n<!-- 1915335563152&#45;&gt;1915335562288* -->\n<g id=\"edge3\" class=\"edge\">\n<title>1915335563152&#45;&gt;1915335562288*</title>\n<path fill=\"none\" stroke=\"black\" d=\"M109.92,-31.05C118.98,-33.16 128.16,-35.3 136.59,-37.26\"/>\n<polygon fill=\"black\" stroke=\"black\" points=\"135.63,-40.86 146.16,-39.72 137.21,-34.04 135.63,-40.86\"/>\n</g>\n<!-- 1915335564736 -->\n<g id=\"node7\" class=\"node\">\n<title>1915335564736</title>\n<polygon fill=\"none\" stroke=\"black\" points=\"236,-82.5 236,-118.5 347,-118.5 347,-82.5 236,-82.5\"/>\n<text text-anchor=\"middle\" x=\"247.5\" y=\"-96.8\" font-family=\"Times New Roman,serif\" font-size=\"14.00\">c</text>\n<polyline fill=\"none\" stroke=\"black\" points=\"259,-82.5 259,-118.5\"/>\n<text text-anchor=\"middle\" x=\"303\" y=\"-96.8\" font-family=\"Times New Roman,serif\" font-size=\"14.00\">data 10.0000</text>\n</g>\n<!-- 1915335564736&#45;&gt;1915305532768+ -->\n<g id=\"edge6\" class=\"edge\">\n<title>1915335564736&#45;&gt;1915305532768+</title>\n<path fill=\"none\" stroke=\"black\" d=\"M347,-87.4C356.06,-85.22 365.24,-83.02 373.66,-80.99\"/>\n<polygon fill=\"black\" stroke=\"black\" points=\"374.31,-84.2 383.22,-78.46 372.67,-77.39 374.31,-84.2\"/>\n</g>\n</g>\n</svg>\n",
      "text/plain": [
       "<graphviz.graphs.Digraph at 0x1bdf11b1af0>"
      ]
     },
     "metadata": {},
     "execution_count": 24
    }
   ],
   "metadata": {}
  },
  {
   "cell_type": "markdown",
   "source": [
    "### Refazendo o grafo que fizemos na aula anterior\n",
    "\n"
   ],
   "metadata": {}
  },
  {
   "cell_type": "markdown",
   "source": [
    "Na aula anterior nós fizemos um grafo computacional para aprender como funciona o backpropagation. Vamos refazer ele aqui!\n",
    "\n"
   ],
   "metadata": {}
  },
  {
   "cell_type": "code",
   "execution_count": 25,
   "source": [
    "x1 = Valor(60, rotulo=\"x1\")\r\n",
    "x2 = Valor(24, rotulo=\"x2\")\r\n",
    "\r\n",
    "w1 = Valor(10, rotulo=\"w1\")\r\n",
    "w2 = Valor(5, rotulo=\"w2\")\r\n",
    "w3 = Valor(2, rotulo=\"w3\")\r\n",
    "\r\n",
    "b = Valor(7, rotulo=\"b\")\r\n",
    "\r\n",
    "s1 = x1*w1\r\n",
    "s2 = x2*w2\r\n",
    "s1.rotulo = \"s1\"\r\n",
    "s2.rotulo = \"s2\"\r\n",
    "\r\n",
    "n = s1+s2\r\n",
    "n.rotulo = \"n\"\r\n",
    "\r\n",
    "k = n+b\r\n",
    "k.rotulo = \"k\"\r\n",
    "\r\n",
    "y = k*w3\r\n",
    "y.rotulo = \"y\"\r\n",
    "\r\n",
    "plota_grafo(y)"
   ],
   "outputs": [
    {
     "output_type": "execute_result",
     "data": {
      "image/svg+xml": "<?xml version=\"1.0\" encoding=\"UTF-8\" standalone=\"no\"?>\n<!DOCTYPE svg PUBLIC \"-//W3C//DTD SVG 1.1//EN\"\n \"http://www.w3.org/Graphics/SVG/1.1/DTD/svg11.dtd\">\n<!-- Generated by graphviz version 8.0.3 (20230416.2022)\n -->\n<!-- Pages: 1 -->\n<svg width=\"1117pt\" height=\"210pt\"\n viewBox=\"0.00 0.00 1117.00 210.00\" xmlns=\"http://www.w3.org/2000/svg\" xmlns:xlink=\"http://www.w3.org/1999/xlink\">\n<g id=\"graph0\" class=\"graph\" transform=\"scale(1 1) rotate(0) translate(4 206)\">\n<polygon fill=\"white\" stroke=\"none\" points=\"-4,4 -4,-206 1113,-206 1113,4 -4,4\"/>\n<!-- 1915335473808 -->\n<g id=\"node1\" class=\"node\">\n<title>1915335473808</title>\n<polygon fill=\"none\" stroke=\"black\" points=\"741,-54.5 741,-90.5 859,-90.5 859,-54.5 741,-54.5\"/>\n<text text-anchor=\"middle\" x=\"752.5\" y=\"-68.8\" font-family=\"Times New Roman,serif\" font-size=\"14.00\">k</text>\n<polyline fill=\"none\" stroke=\"black\" points=\"764,-54.5 764,-90.5\"/>\n<text text-anchor=\"middle\" x=\"811.5\" y=\"-68.8\" font-family=\"Times New Roman,serif\" font-size=\"14.00\">data 727.0000</text>\n</g>\n<!-- 1915335474432* -->\n<g id=\"node5\" class=\"node\">\n<title>1915335474432*</title>\n<ellipse fill=\"none\" stroke=\"black\" cx=\"922\" cy=\"-99.5\" rx=\"27\" ry=\"18\"/>\n<text text-anchor=\"middle\" x=\"922\" y=\"-95.8\" font-family=\"Times New Roman,serif\" font-size=\"14.00\">*</text>\n</g>\n<!-- 1915335473808&#45;&gt;1915335474432* -->\n<g id=\"edge13\" class=\"edge\">\n<title>1915335473808&#45;&gt;1915335474432*</title>\n<path fill=\"none\" stroke=\"black\" d=\"M858.89,-85.53C867.98,-87.57 877.12,-89.63 885.5,-91.51\"/>\n<polygon fill=\"black\" stroke=\"black\" points=\"884.48,-95.1 895.01,-93.88 886.02,-88.27 884.48,-95.1\"/>\n</g>\n<!-- 1915335473808+ -->\n<g id=\"node2\" class=\"node\">\n<title>1915335473808+</title>\n<ellipse fill=\"none\" stroke=\"black\" cx=\"678\" cy=\"-72.5\" rx=\"27\" ry=\"18\"/>\n<text text-anchor=\"middle\" x=\"678\" y=\"-68.8\" font-family=\"Times New Roman,serif\" font-size=\"14.00\">+</text>\n</g>\n<!-- 1915335473808+&#45;&gt;1915335473808 -->\n<g id=\"edge1\" class=\"edge\">\n<title>1915335473808+&#45;&gt;1915335473808</title>\n<path fill=\"none\" stroke=\"black\" d=\"M705.33,-72.5C712.89,-72.5 721.49,-72.5 730.36,-72.5\"/>\n<polygon fill=\"black\" stroke=\"black\" points=\"730.24,-76 740.24,-72.5 730.24,-69 730.24,-76\"/>\n</g>\n<!-- 1915335472368 -->\n<g id=\"node3\" class=\"node\">\n<title>1915335472368</title>\n<polygon fill=\"none\" stroke=\"black\" points=\"1.5,-165.5 1.5,-201.5 119.5,-201.5 119.5,-165.5 1.5,-165.5\"/>\n<text text-anchor=\"middle\" x=\"16.5\" y=\"-179.8\" font-family=\"Times New Roman,serif\" font-size=\"14.00\">x2</text>\n<polyline fill=\"none\" stroke=\"black\" points=\"31.5,-165.5 31.5,-201.5\"/>\n<text text-anchor=\"middle\" x=\"75.5\" y=\"-179.8\" font-family=\"Times New Roman,serif\" font-size=\"14.00\">data 24.0000</text>\n</g>\n<!-- 1915335472944* -->\n<g id=\"node8\" class=\"node\">\n<title>1915335472944*</title>\n<ellipse fill=\"none\" stroke=\"black\" cx=\"184\" cy=\"-128.5\" rx=\"27\" ry=\"18\"/>\n<text text-anchor=\"middle\" x=\"184\" y=\"-124.8\" font-family=\"Times New Roman,serif\" font-size=\"14.00\">*</text>\n</g>\n<!-- 1915335472368&#45;&gt;1915335472944* -->\n<g id=\"edge14\" class=\"edge\">\n<title>1915335472368&#45;&gt;1915335472944*</title>\n<path fill=\"none\" stroke=\"black\" d=\"M100.95,-165.64C117.32,-158.23 136.05,-149.75 151.48,-142.77\"/>\n<polygon fill=\"black\" stroke=\"black\" points=\"152.42,-145.73 160.09,-138.42 149.53,-139.36 152.42,-145.73\"/>\n</g>\n<!-- 1915335474432 -->\n<g id=\"node4\" class=\"node\">\n<title>1915335474432</title>\n<polygon fill=\"none\" stroke=\"black\" points=\"985,-81.5 985,-117.5 1109,-117.5 1109,-81.5 985,-81.5\"/>\n<text text-anchor=\"middle\" x=\"996.5\" y=\"-95.8\" font-family=\"Times New Roman,serif\" font-size=\"14.00\">y</text>\n<polyline fill=\"none\" stroke=\"black\" points=\"1008,-81.5 1008,-117.5\"/>\n<text text-anchor=\"middle\" x=\"1058.5\" y=\"-95.8\" font-family=\"Times New Roman,serif\" font-size=\"14.00\">data 1454.0000</text>\n</g>\n<!-- 1915335474432*&#45;&gt;1915335474432 -->\n<g id=\"edge2\" class=\"edge\">\n<title>1915335474432*&#45;&gt;1915335474432</title>\n<path fill=\"none\" stroke=\"black\" d=\"M949.39,-99.5C956.86,-99.5 965.38,-99.5 974.19,-99.5\"/>\n<polygon fill=\"black\" stroke=\"black\" points=\"974.03,-103 984.03,-99.5 974.03,-96 974.03,-103\"/>\n</g>\n<!-- 1915335473424 -->\n<g id=\"node6\" class=\"node\">\n<title>1915335473424</title>\n<polygon fill=\"none\" stroke=\"black\" points=\"0,-55.5 0,-91.5 121,-91.5 121,-55.5 0,-55.5\"/>\n<text text-anchor=\"middle\" x=\"16.5\" y=\"-69.8\" font-family=\"Times New Roman,serif\" font-size=\"14.00\">w1</text>\n<polyline fill=\"none\" stroke=\"black\" points=\"33,-55.5 33,-91.5\"/>\n<text text-anchor=\"middle\" x=\"77\" y=\"-69.8\" font-family=\"Times New Roman,serif\" font-size=\"14.00\">data 10.0000</text>\n</g>\n<!-- 1915335472032* -->\n<g id=\"node13\" class=\"node\">\n<title>1915335472032*</title>\n<ellipse fill=\"none\" stroke=\"black\" cx=\"184\" cy=\"-73.5\" rx=\"27\" ry=\"18\"/>\n<text text-anchor=\"middle\" x=\"184\" y=\"-69.8\" font-family=\"Times New Roman,serif\" font-size=\"14.00\">*</text>\n</g>\n<!-- 1915335473424&#45;&gt;1915335472032* -->\n<g id=\"edge6\" class=\"edge\">\n<title>1915335473424&#45;&gt;1915335472032*</title>\n<path fill=\"none\" stroke=\"black\" d=\"M120.83,-73.5C129.24,-73.5 137.7,-73.5 145.54,-73.5\"/>\n<polygon fill=\"black\" stroke=\"black\" points=\"145.52,-77 155.52,-73.5 145.52,-70 145.52,-77\"/>\n</g>\n<!-- 1915335472944 -->\n<g id=\"node7\" class=\"node\">\n<title>1915335472944</title>\n<polygon fill=\"none\" stroke=\"black\" points=\"247,-110.5 247,-146.5 371,-146.5 371,-110.5 247,-110.5\"/>\n<text text-anchor=\"middle\" x=\"261.5\" y=\"-124.8\" font-family=\"Times New Roman,serif\" font-size=\"14.00\">s2</text>\n<polyline fill=\"none\" stroke=\"black\" points=\"276,-110.5 276,-146.5\"/>\n<text text-anchor=\"middle\" x=\"323.5\" y=\"-124.8\" font-family=\"Times New Roman,serif\" font-size=\"14.00\">data 120.0000</text>\n</g>\n<!-- 1915335474576+ -->\n<g id=\"node11\" class=\"node\">\n<title>1915335474576+</title>\n<ellipse fill=\"none\" stroke=\"black\" cx=\"434\" cy=\"-100.5\" rx=\"27\" ry=\"18\"/>\n<text text-anchor=\"middle\" x=\"434\" y=\"-96.8\" font-family=\"Times New Roman,serif\" font-size=\"14.00\">+</text>\n</g>\n<!-- 1915335472944&#45;&gt;1915335474576+ -->\n<g id=\"edge15\" class=\"edge\">\n<title>1915335472944&#45;&gt;1915335474576+</title>\n<path fill=\"none\" stroke=\"black\" d=\"M370.78,-114.66C379.95,-112.58 389.15,-110.48 397.55,-108.57\"/>\n<polygon fill=\"black\" stroke=\"black\" points=\"398.09,-111.81 407.07,-106.18 396.54,-104.98 398.09,-111.81\"/>\n</g>\n<!-- 1915335472944*&#45;&gt;1915335472944 -->\n<g id=\"edge3\" class=\"edge\">\n<title>1915335472944*&#45;&gt;1915335472944</title>\n<path fill=\"none\" stroke=\"black\" d=\"M211.39,-128.5C218.86,-128.5 227.38,-128.5 236.19,-128.5\"/>\n<polygon fill=\"black\" stroke=\"black\" points=\"236.03,-132 246.03,-128.5 236.03,-125 236.03,-132\"/>\n</g>\n<!-- 1915335471408 -->\n<g id=\"node9\" class=\"node\">\n<title>1915335471408</title>\n<polygon fill=\"none\" stroke=\"black\" points=\"3.5,-110.5 3.5,-146.5 117.5,-146.5 117.5,-110.5 3.5,-110.5\"/>\n<text text-anchor=\"middle\" x=\"20\" y=\"-124.8\" font-family=\"Times New Roman,serif\" font-size=\"14.00\">w2</text>\n<polyline fill=\"none\" stroke=\"black\" points=\"36.5,-110.5 36.5,-146.5\"/>\n<text text-anchor=\"middle\" x=\"77\" y=\"-124.8\" font-family=\"Times New Roman,serif\" font-size=\"14.00\">data 5.0000</text>\n</g>\n<!-- 1915335471408&#45;&gt;1915335472944* -->\n<g id=\"edge9\" class=\"edge\">\n<title>1915335471408&#45;&gt;1915335472944*</title>\n<path fill=\"none\" stroke=\"black\" d=\"M117.27,-128.5C126.92,-128.5 136.74,-128.5 145.74,-128.5\"/>\n<polygon fill=\"black\" stroke=\"black\" points=\"145.64,-132 155.64,-128.5 145.64,-125 145.64,-132\"/>\n</g>\n<!-- 1915335474576 -->\n<g id=\"node10\" class=\"node\">\n<title>1915335474576</title>\n<polygon fill=\"none\" stroke=\"black\" points=\"497,-82.5 497,-118.5 615,-118.5 615,-82.5 497,-82.5\"/>\n<text text-anchor=\"middle\" x=\"508.5\" y=\"-96.8\" font-family=\"Times New Roman,serif\" font-size=\"14.00\">n</text>\n<polyline fill=\"none\" stroke=\"black\" points=\"520,-82.5 520,-118.5\"/>\n<text text-anchor=\"middle\" x=\"567.5\" y=\"-96.8\" font-family=\"Times New Roman,serif\" font-size=\"14.00\">data 720.0000</text>\n</g>\n<!-- 1915335474576&#45;&gt;1915335473808+ -->\n<g id=\"edge7\" class=\"edge\">\n<title>1915335474576&#45;&gt;1915335473808+</title>\n<path fill=\"none\" stroke=\"black\" d=\"M614.89,-86.99C623.98,-84.87 633.12,-82.74 641.5,-80.78\"/>\n<polygon fill=\"black\" stroke=\"black\" points=\"642.06,-84.01 651.01,-78.33 640.47,-77.2 642.06,-84.01\"/>\n</g>\n<!-- 1915335474576+&#45;&gt;1915335474576 -->\n<g id=\"edge4\" class=\"edge\">\n<title>1915335474576+&#45;&gt;1915335474576</title>\n<path fill=\"none\" stroke=\"black\" d=\"M461.33,-100.5C468.89,-100.5 477.49,-100.5 486.36,-100.5\"/>\n<polygon fill=\"black\" stroke=\"black\" points=\"486.24,-104 496.24,-100.5 486.24,-97 486.24,-104\"/>\n</g>\n<!-- 1915335472032 -->\n<g id=\"node12\" class=\"node\">\n<title>1915335472032</title>\n<polygon fill=\"none\" stroke=\"black\" points=\"247,-55.5 247,-91.5 371,-91.5 371,-55.5 247,-55.5\"/>\n<text text-anchor=\"middle\" x=\"261.5\" y=\"-69.8\" font-family=\"Times New Roman,serif\" font-size=\"14.00\">s1</text>\n<polyline fill=\"none\" stroke=\"black\" points=\"276,-55.5 276,-91.5\"/>\n<text text-anchor=\"middle\" x=\"323.5\" y=\"-69.8\" font-family=\"Times New Roman,serif\" font-size=\"14.00\">data 600.0000</text>\n</g>\n<!-- 1915335472032&#45;&gt;1915335474576+ -->\n<g id=\"edge12\" class=\"edge\">\n<title>1915335472032&#45;&gt;1915335474576+</title>\n<path fill=\"none\" stroke=\"black\" d=\"M370.78,-86.84C379.77,-88.81 388.78,-90.79 397.04,-92.61\"/>\n<polygon fill=\"black\" stroke=\"black\" points=\"396.25,-96.24 406.77,-94.96 397.75,-89.4 396.25,-96.24\"/>\n</g>\n<!-- 1915335472032*&#45;&gt;1915335472032 -->\n<g id=\"edge5\" class=\"edge\">\n<title>1915335472032*&#45;&gt;1915335472032</title>\n<path fill=\"none\" stroke=\"black\" d=\"M211.39,-73.5C218.86,-73.5 227.38,-73.5 236.19,-73.5\"/>\n<polygon fill=\"black\" stroke=\"black\" points=\"236.03,-77 246.03,-73.5 236.03,-70 236.03,-77\"/>\n</g>\n<!-- 1915335472560 -->\n<g id=\"node14\" class=\"node\">\n<title>1915335472560</title>\n<polygon fill=\"none\" stroke=\"black\" points=\"1.5,-0.5 1.5,-36.5 119.5,-36.5 119.5,-0.5 1.5,-0.5\"/>\n<text text-anchor=\"middle\" x=\"16.5\" y=\"-14.8\" font-family=\"Times New Roman,serif\" font-size=\"14.00\">x1</text>\n<polyline fill=\"none\" stroke=\"black\" points=\"31.5,-0.5 31.5,-36.5\"/>\n<text text-anchor=\"middle\" x=\"75.5\" y=\"-14.8\" font-family=\"Times New Roman,serif\" font-size=\"14.00\">data 60.0000</text>\n</g>\n<!-- 1915335472560&#45;&gt;1915335472032* -->\n<g id=\"edge8\" class=\"edge\">\n<title>1915335472560&#45;&gt;1915335472032*</title>\n<path fill=\"none\" stroke=\"black\" d=\"M100.95,-36.36C117.32,-43.77 136.05,-52.25 151.48,-59.23\"/>\n<polygon fill=\"black\" stroke=\"black\" points=\"149.53,-62.64 160.09,-63.58 152.42,-56.27 149.53,-62.64\"/>\n</g>\n<!-- 1915335475152 -->\n<g id=\"node15\" class=\"node\">\n<title>1915335475152</title>\n<polygon fill=\"none\" stroke=\"black\" points=\"503.5,-27.5 503.5,-63.5 608.5,-63.5 608.5,-27.5 503.5,-27.5\"/>\n<text text-anchor=\"middle\" x=\"515.5\" y=\"-41.8\" font-family=\"Times New Roman,serif\" font-size=\"14.00\">b</text>\n<polyline fill=\"none\" stroke=\"black\" points=\"527.5,-27.5 527.5,-63.5\"/>\n<text text-anchor=\"middle\" x=\"568\" y=\"-41.8\" font-family=\"Times New Roman,serif\" font-size=\"14.00\">data 7.0000</text>\n</g>\n<!-- 1915335475152&#45;&gt;1915335473808+ -->\n<g id=\"edge11\" class=\"edge\">\n<title>1915335475152&#45;&gt;1915335473808+</title>\n<path fill=\"none\" stroke=\"black\" d=\"M608.24,-57.03C619.37,-59.53 630.92,-62.13 641.3,-64.47\"/>\n<polygon fill=\"black\" stroke=\"black\" points=\"640.5,-68.1 651.03,-66.88 642.04,-61.27 640.5,-68.1\"/>\n</g>\n<!-- 1915335474672 -->\n<g id=\"node16\" class=\"node\">\n<title>1915335474672</title>\n<polygon fill=\"none\" stroke=\"black\" points=\"743,-109.5 743,-145.5 857,-145.5 857,-109.5 743,-109.5\"/>\n<text text-anchor=\"middle\" x=\"759.5\" y=\"-123.8\" font-family=\"Times New Roman,serif\" font-size=\"14.00\">w3</text>\n<polyline fill=\"none\" stroke=\"black\" points=\"776,-109.5 776,-145.5\"/>\n<text text-anchor=\"middle\" x=\"816.5\" y=\"-123.8\" font-family=\"Times New Roman,serif\" font-size=\"14.00\">data 2.0000</text>\n</g>\n<!-- 1915335474672&#45;&gt;1915335474432* -->\n<g id=\"edge10\" class=\"edge\">\n<title>1915335474672&#45;&gt;1915335474432*</title>\n<path fill=\"none\" stroke=\"black\" d=\"M856.78,-114.48C866.53,-112.21 876.43,-109.9 885.44,-107.8\"/>\n<polygon fill=\"black\" stroke=\"black\" points=\"885.97,-111.03 894.92,-105.35 884.38,-104.22 885.97,-111.03\"/>\n</g>\n</g>\n</svg>\n",
      "text/plain": [
       "<graphviz.graphs.Digraph at 0x1bdf2e3f640>"
      ]
     },
     "metadata": {},
     "execution_count": 25
    }
   ],
   "metadata": {}
  },
  {
   "cell_type": "markdown",
   "source": [
    "## Conclusão\n",
    "\n"
   ],
   "metadata": {}
  },
  {
   "cell_type": "markdown",
   "source": [
    "## Playground\n",
    "\n"
   ],
   "metadata": {}
  },
  {
   "cell_type": "code",
   "execution_count": null,
   "source": [],
   "outputs": [],
   "metadata": {}
  },
  {
   "cell_type": "code",
   "execution_count": null,
   "source": [],
   "outputs": [],
   "metadata": {}
  },
  {
   "cell_type": "code",
   "execution_count": null,
   "source": [],
   "outputs": [],
   "metadata": {}
  },
  {
   "cell_type": "code",
   "execution_count": null,
   "source": [],
   "outputs": [],
   "metadata": {}
  }
 ],
 "metadata": {
  "kernelspec": {
   "name": "python3",
   "display_name": "Python 3.9.7 64-bit ('ilumpy': venv)"
  },
  "language_info": {
   "codemirror_mode": {
    "name": "ipython",
    "version": 3
   },
   "file_extension": ".py",
   "mimetype": "text/x-python",
   "name": "python",
   "nbconvert_exporter": "python",
   "pygments_lexer": "ipython3",
   "version": "3.9.7"
  },
  "org": null,
  "interpreter": {
   "hash": "b3e6b8674b6565fbc2ba6932dd725c7d9cea502db282270049ae80a8cf38102d"
  }
 },
 "nbformat": 4,
 "nbformat_minor": 4
}