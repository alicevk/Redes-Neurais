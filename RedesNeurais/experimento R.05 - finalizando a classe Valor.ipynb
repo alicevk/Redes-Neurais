{
 "cells": [
  {
   "attachments": {},
   "cell_type": "markdown",
   "metadata": {},
   "source": [
    "Finalizando a classe Valor\n",
    "==========================\n",
    "\n"
   ]
  },
  {
   "attachments": {},
   "cell_type": "markdown",
   "metadata": {},
   "source": [
    "## Introdução\n",
    "\n"
   ]
  },
  {
   "attachments": {},
   "cell_type": "markdown",
   "metadata": {},
   "source": [
    "Chegou a hora de finalizar a classe `Valor`!\n",
    "\n"
   ]
  },
  {
   "attachments": {},
   "cell_type": "markdown",
   "metadata": {},
   "source": [
    "## Objetivo\n",
    "\n"
   ]
  },
  {
   "attachments": {},
   "cell_type": "markdown",
   "metadata": {},
   "source": [
    "O objetivo é fazer com que a classe `Valor` seja capaz de realizar algumas operações necessárias para que seja usada na nossa rede neural artificial.\n",
    "\n"
   ]
  },
  {
   "attachments": {},
   "cell_type": "markdown",
   "metadata": {},
   "source": [
    "## Importações\n",
    "\n"
   ]
  },
  {
   "cell_type": "code",
   "execution_count": 1,
   "metadata": {},
   "outputs": [],
   "source": [
    "import math\n",
    "from funcoes import plota_grafo"
   ]
  },
  {
   "attachments": {},
   "cell_type": "markdown",
   "metadata": {},
   "source": [
    "## Código e discussão\n",
    "\n"
   ]
  },
  {
   "attachments": {},
   "cell_type": "markdown",
   "metadata": {},
   "source": [
    "### Finalizando a classe `Valor`\n",
    "\n"
   ]
  },
  {
   "attachments": {},
   "cell_type": "markdown",
   "metadata": {},
   "source": [
    "Aqui está a classe `Valor` assim como feita na aula anterior. Vamos modificá-la para cumprir nossos objetivos (ver objetivos na próxima seção).\n",
    "\n"
   ]
  },
  {
   "cell_type": "code",
   "execution_count": 2,
   "metadata": {},
   "outputs": [],
   "source": [
    "class Valor:\n",
    "    def __init__(self, data, progenitor=(), operador_mae=\"\", rotulo=\"\"):\n",
    "        self.data = data\n",
    "        self.progenitor = progenitor\n",
    "        self.operador_mae = operador_mae\n",
    "        self.rotulo = rotulo\n",
    "        self.grad = 0\n",
    "\n",
    "    def __repr__(self):\n",
    "        return f\"Valor(data={self.data})\"\n",
    "\n",
    "    def __add__(self, outro_valor):\n",
    "        if not isinstance(outro_valor, Valor):\n",
    "            outro_valor = Valor(outro_valor)\n",
    "        data = self.data + outro_valor.data\n",
    "        progenitor = (self, outro_valor)\n",
    "        operador_mae = \"+\"\n",
    "        saida = Valor(data, progenitor, operador_mae)\n",
    "\n",
    "        def propagar_adicao():\n",
    "            self.grad += saida.grad * 1\n",
    "            outro_valor.grad += saida.grad * 1\n",
    "\n",
    "        saida.propagar = propagar_adicao\n",
    "\n",
    "        return saida\n",
    "    \n",
    "    def __radd__(self, outro_valor): # --> será chamado quando tivermos outro_valor + self\n",
    "        return self + outro_valor\n",
    "\n",
    "    def __mul__(self, outro_valor):\n",
    "        if not isinstance(outro_valor, Valor):\n",
    "            outro_valor = Valor(outro_valor)\n",
    "        data = self.data * outro_valor.data\n",
    "        progenitor = (self, outro_valor)\n",
    "        operador_mae = \"*\"\n",
    "        saida = Valor(data, progenitor, operador_mae)\n",
    "\n",
    "        def propagar_multiplicacao():\n",
    "            self.grad += saida.grad * outro_valor.data\n",
    "            outro_valor.grad += saida.grad * self.data\n",
    "\n",
    "        saida.propagar = propagar_multiplicacao\n",
    "\n",
    "        return saida\n",
    "    \n",
    "    def __rmul__(self, outro_valor): # --> será chamado quando tivermos outro valor * self\n",
    "        return self * outro_valor\n",
    "    \n",
    "    def __truediv__(self, outro_valor): # --> será chamado quando tivermos self / outro_valor\n",
    "        return self * outro_valor ** (-1)\n",
    "    \n",
    "    def __pow__(self, expoente):\n",
    "        \n",
    "        assert isinstance(expoente, (int, float))\n",
    "        \n",
    "        data = self.data ** expoente\n",
    "        progenitor = (self, )\n",
    "        operador_mae = f\"**{expoente}\"\n",
    "        saida = Valor(data, progenitor, operador_mae)\n",
    "\n",
    "        def propagar_exponenciacao():\n",
    "            self.grad += saida.grad * expoente * (self.data ** (expoente - 1))\n",
    "\n",
    "        saida.propagar = propagar_exponenciacao\n",
    "\n",
    "        return saida\n",
    "    \n",
    "    def __neg__(self):\n",
    "        return self * (-1)\n",
    "    \n",
    "    def __sub__(self, outro_valor):\n",
    "        return self + (-outro_valor)\n",
    "    \n",
    "    def __rsub__(self, outro_valor):\n",
    "        return self * (-1) + outro_valor\n",
    "    \n",
    "    def exp(self):\n",
    "        data = math.exp(self.data)\n",
    "        progenitor = (self, )\n",
    "        operador_mae = \"exp\"\n",
    "        saida = Valor(data, progenitor, operador_mae)\n",
    "\n",
    "        def propagar_exp():\n",
    "            self.grad += saida.grad * data\n",
    "\n",
    "        saida.propagar = propagar_exp\n",
    "\n",
    "        return saida\n",
    "    \n",
    "    def sig(self):\n",
    "        return self.exp() / (self.exp() + 1)\n",
    "    \n",
    "    def propagar(self):\n",
    "        pass\n",
    "\n",
    "    def propagar_tudo(self):\n",
    "        ordem_topologica = []\n",
    "        visitados = set()\n",
    "\n",
    "        def constroi_ordem_topologica(v):\n",
    "            if v not in visitados:\n",
    "                visitados.add(v)\n",
    "                for progenitor in v.progenitor:\n",
    "                    constroi_ordem_topologica(progenitor)\n",
    "                ordem_topologica.append(v)\n",
    "\n",
    "        constroi_ordem_topologica(self)\n",
    "\n",
    "        self.grad = 1  # o gradiente do vértice folha deve ser 1\n",
    "\n",
    "        for v in reversed(ordem_topologica):\n",
    "            v.propagar()"
   ]
  },
  {
   "attachments": {},
   "cell_type": "markdown",
   "metadata": {},
   "source": [
    "### Objetivos a serem cumpridos\n",
    "\n"
   ]
  },
  {
   "attachments": {},
   "cell_type": "markdown",
   "metadata": {},
   "source": [
    "Quero poder acidionar uma instância de `Valor` com uma constante qualquer.\n",
    "\n"
   ]
  },
  {
   "cell_type": "code",
   "execution_count": 3,
   "metadata": {},
   "outputs": [
    {
     "name": "stdout",
     "output_type": "stream",
     "text": [
      "Valor(data=11)\n"
     ]
    }
   ],
   "source": [
    "a = Valor(10, rotulo=\"a\")\n",
    "b = a + 1\n",
    "print(b)"
   ]
  },
  {
   "attachments": {},
   "cell_type": "markdown",
   "metadata": {},
   "source": [
    "Quero poder multiplicar uma instância de `Valor` com uma constante qualquer.\n",
    "\n"
   ]
  },
  {
   "cell_type": "code",
   "execution_count": 4,
   "metadata": {},
   "outputs": [
    {
     "name": "stdout",
     "output_type": "stream",
     "text": [
      "Valor(data=100)\n"
     ]
    }
   ],
   "source": [
    "a = Valor(10, rotulo=\"a\")\n",
    "b = a * 10\n",
    "print(b)"
   ]
  },
  {
   "attachments": {},
   "cell_type": "markdown",
   "metadata": {},
   "source": [
    "Quero poder acidionar uma instância de `Valor` com uma constante qualquer, mas na ordem oposta.\n",
    "\n"
   ]
  },
  {
   "cell_type": "code",
   "execution_count": 5,
   "metadata": {},
   "outputs": [
    {
     "name": "stdout",
     "output_type": "stream",
     "text": [
      "Valor(data=11)\n"
     ]
    }
   ],
   "source": [
    "a = Valor(10, rotulo=\"a\")\n",
    "b = 1 + a\n",
    "print(b)"
   ]
  },
  {
   "attachments": {},
   "cell_type": "markdown",
   "metadata": {},
   "source": [
    "Quero poder multiplicar uma instância de `Valor` com uma constante qualquer, mas na ordem oposta.\n",
    "\n"
   ]
  },
  {
   "cell_type": "code",
   "execution_count": 6,
   "metadata": {},
   "outputs": [
    {
     "name": "stdout",
     "output_type": "stream",
     "text": [
      "Valor(data=100)\n"
     ]
    }
   ],
   "source": [
    "a = Valor(10, rotulo=\"a\")\n",
    "b = 10 * a\n",
    "print(b)"
   ]
  },
  {
   "attachments": {},
   "cell_type": "markdown",
   "metadata": {},
   "source": [
    "Quero poder aplicar a função exponencial ($e^x$) em uma instância de `Valor`, computando corretamente o gradiente local desta operação.\n",
    "\n"
   ]
  },
  {
   "cell_type": "code",
   "execution_count": 7,
   "metadata": {},
   "outputs": [
    {
     "name": "stdout",
     "output_type": "stream",
     "text": [
      "Valor(data=2.718281828459045)\n"
     ]
    }
   ],
   "source": [
    "a = Valor(1, rotulo=\"a\")\n",
    "b = a.exp()\n",
    "print(b)"
   ]
  },
  {
   "attachments": {},
   "cell_type": "markdown",
   "metadata": {},
   "source": [
    "Quero poder elevar uma instância de `Valor` a um número real qualquer. **Nota**: não vai funcionar se fizer um `Valor` elevado a outro `Valor` pois vamos propagar os gradientes apenas considerando que estamos elevando a uma constante qualquer.\n",
    "\n"
   ]
  },
  {
   "cell_type": "code",
   "execution_count": 8,
   "metadata": {},
   "outputs": [
    {
     "name": "stdout",
     "output_type": "stream",
     "text": [
      "Valor(data=100)\n"
     ]
    }
   ],
   "source": [
    "a = Valor(10, rotulo=\"a\")\n",
    "b = a**2\n",
    "print(b)"
   ]
  },
  {
   "attachments": {},
   "cell_type": "markdown",
   "metadata": {},
   "source": [
    "Quero poder dividir uma instância de `Valor` por outra instância de `Valor`.\n",
    "\n"
   ]
  },
  {
   "cell_type": "code",
   "execution_count": 9,
   "metadata": {},
   "outputs": [
    {
     "name": "stdout",
     "output_type": "stream",
     "text": [
      "Valor(data=0.5)\n"
     ]
    }
   ],
   "source": [
    "a = Valor(1, rotulo=\"a\")\n",
    "b = Valor(2, rotulo=\"b\")\n",
    "c = a / b\n",
    "print(c)"
   ]
  },
  {
   "attachments": {},
   "cell_type": "markdown",
   "metadata": {},
   "source": [
    "Quero poder computar o negativo de uma instância de `Valor`.\n",
    "\n"
   ]
  },
  {
   "cell_type": "code",
   "execution_count": 10,
   "metadata": {},
   "outputs": [
    {
     "name": "stdout",
     "output_type": "stream",
     "text": [
      "Valor(data=-1)\n"
     ]
    }
   ],
   "source": [
    "a = Valor(1, rotulo=\"a\")\n",
    "b = -a\n",
    "print(b)"
   ]
  },
  {
   "attachments": {},
   "cell_type": "markdown",
   "metadata": {},
   "source": [
    "Quero poder subtrair uma instância de `Valor` por outra instância de `Valor`.\n",
    "\n"
   ]
  },
  {
   "cell_type": "code",
   "execution_count": 11,
   "metadata": {},
   "outputs": [
    {
     "name": "stdout",
     "output_type": "stream",
     "text": [
      "Valor(data=7)\n"
     ]
    }
   ],
   "source": [
    "a = Valor(10, rotulo=\"a\")\n",
    "b = Valor(3, rotulo=\"b\")\n",
    "c = a - b\n",
    "print(c)"
   ]
  },
  {
   "attachments": {},
   "cell_type": "markdown",
   "metadata": {},
   "source": [
    "E, finalmente, quero poder aplicar a função sigmoide (também conhecida como logística) a uma instância de `Valor`. A função sigmoide é a seguinte:\n",
    "\n",
    "$$\n",
    "S(x) = \\frac{e^x}{e^x + 1}\n",
    "$$\n",
    "\n"
   ]
  },
  {
   "cell_type": "code",
   "execution_count": 13,
   "metadata": {},
   "outputs": [
    {
     "name": "stdout",
     "output_type": "stream",
     "text": [
      "Valor(data=0.7310585786300048)\n"
     ]
    },
    {
     "data": {
      "image/svg+xml": [
       "<?xml version=\"1.0\" encoding=\"UTF-8\" standalone=\"no\"?>\n",
       "<!DOCTYPE svg PUBLIC \"-//W3C//DTD SVG 1.1//EN\"\n",
       " \"http://www.w3.org/Graphics/SVG/1.1/DTD/svg11.dtd\">\n",
       "<!-- Generated by graphviz version 2.43.0 (0)\n",
       " -->\n",
       "<!-- Title: %3 Pages: 1 -->\n",
       "<svg width=\"1836pt\" height=\"147pt\"\n",
       " viewBox=\"0.00 0.00 1835.79 147.00\" xmlns=\"http://www.w3.org/2000/svg\" xmlns:xlink=\"http://www.w3.org/1999/xlink\">\n",
       "<g id=\"graph0\" class=\"graph\" transform=\"scale(1 1) rotate(0) translate(4 143)\">\n",
       "<title>%3</title>\n",
       "<polygon fill=\"white\" stroke=\"transparent\" points=\"-4,4 -4,-143 1831.79,-143 1831.79,4 -4,4\"/>\n",
       "<!-- 139788774514720 -->\n",
       "<g id=\"node1\" class=\"node\">\n",
       "<title>139788774514720</title>\n",
       "<polygon fill=\"none\" stroke=\"black\" points=\"1600.79,-27.5 1600.79,-63.5 1827.79,-63.5 1827.79,-27.5 1600.79,-27.5\"/>\n",
       "<text text-anchor=\"middle\" x=\"1611.29\" y=\"-41.8\" font-family=\"Times,serif\" font-size=\"14.00\"> </text>\n",
       "<polyline fill=\"none\" stroke=\"black\" points=\"1621.79,-27.5 1621.79,-63.5 \"/>\n",
       "<text text-anchor=\"middle\" x=\"1672.79\" y=\"-41.8\" font-family=\"Times,serif\" font-size=\"14.00\">data 0.7311</text>\n",
       "<polyline fill=\"none\" stroke=\"black\" points=\"1723.79,-27.5 1723.79,-63.5 \"/>\n",
       "<text text-anchor=\"middle\" x=\"1775.79\" y=\"-41.8\" font-family=\"Times,serif\" font-size=\"14.00\">grad 1.0000</text>\n",
       "</g>\n",
       "<!-- 139788774514720* -->\n",
       "<g id=\"node2\" class=\"node\">\n",
       "<title>139788774514720*</title>\n",
       "<ellipse fill=\"none\" stroke=\"black\" cx=\"1537.79\" cy=\"-45.5\" rx=\"27\" ry=\"18\"/>\n",
       "<text text-anchor=\"middle\" x=\"1537.79\" y=\"-41.8\" font-family=\"Times,serif\" font-size=\"14.00\">*</text>\n",
       "</g>\n",
       "<!-- 139788774514720*&#45;&gt;139788774514720 -->\n",
       "<g id=\"edge1\" class=\"edge\">\n",
       "<title>139788774514720*&#45;&gt;139788774514720</title>\n",
       "<path fill=\"none\" stroke=\"black\" d=\"M1564.91,-45.5C1572.46,-45.5 1581.24,-45.5 1590.69,-45.5\"/>\n",
       "<polygon fill=\"black\" stroke=\"black\" points=\"1590.74,-49 1600.74,-45.5 1590.74,-42 1590.74,-49\"/>\n",
       "</g>\n",
       "<!-- 139788774516256 -->\n",
       "<g id=\"node3\" class=\"node\">\n",
       "<title>139788774516256</title>\n",
       "<polygon fill=\"none\" stroke=\"black\" points=\"357.6,-47.5 357.6,-83.5 588.6,-83.5 588.6,-47.5 357.6,-47.5\"/>\n",
       "<text text-anchor=\"middle\" x=\"368.1\" y=\"-61.8\" font-family=\"Times,serif\" font-size=\"14.00\"> </text>\n",
       "<polyline fill=\"none\" stroke=\"black\" points=\"378.6,-47.5 378.6,-83.5 \"/>\n",
       "<text text-anchor=\"middle\" x=\"429.6\" y=\"-61.8\" font-family=\"Times,serif\" font-size=\"14.00\">data 1.0000</text>\n",
       "<polyline fill=\"none\" stroke=\"black\" points=\"480.6,-47.5 480.6,-83.5 \"/>\n",
       "<text text-anchor=\"middle\" x=\"534.6\" y=\"-61.8\" font-family=\"Times,serif\" font-size=\"14.00\">grad &#45;0.1966</text>\n",
       "</g>\n",
       "<!-- 139788774514864+ -->\n",
       "<g id=\"node7\" class=\"node\">\n",
       "<title>139788774514864+</title>\n",
       "<ellipse fill=\"none\" stroke=\"black\" cx=\"738.1\" cy=\"-73.5\" rx=\"27\" ry=\"18\"/>\n",
       "<text text-anchor=\"middle\" x=\"738.1\" y=\"-69.8\" font-family=\"Times,serif\" font-size=\"14.00\">+</text>\n",
       "</g>\n",
       "<!-- 139788774516256&#45;&gt;139788774514864+ -->\n",
       "<g id=\"edge12\" class=\"edge\">\n",
       "<title>139788774516256&#45;&gt;139788774514864+</title>\n",
       "<path fill=\"none\" stroke=\"black\" d=\"M588.69,-68.99C629.12,-70.22 671.73,-71.51 700.87,-72.4\"/>\n",
       "<polygon fill=\"black\" stroke=\"black\" points=\"700.86,-75.9 710.96,-72.71 701.07,-68.9 700.86,-75.9\"/>\n",
       "</g>\n",
       "<!-- 139788774513136 -->\n",
       "<g id=\"node4\" class=\"node\">\n",
       "<title>139788774513136</title>\n",
       "<polygon fill=\"none\" stroke=\"black\" points=\"357.6,-102.5 357.6,-138.5 588.6,-138.5 588.6,-102.5 357.6,-102.5\"/>\n",
       "<text text-anchor=\"middle\" x=\"368.1\" y=\"-116.8\" font-family=\"Times,serif\" font-size=\"14.00\"> </text>\n",
       "<polyline fill=\"none\" stroke=\"black\" points=\"378.6,-102.5 378.6,-138.5 \"/>\n",
       "<text text-anchor=\"middle\" x=\"429.6\" y=\"-116.8\" font-family=\"Times,serif\" font-size=\"14.00\">data 2.7183</text>\n",
       "<polyline fill=\"none\" stroke=\"black\" points=\"480.6,-102.5 480.6,-138.5 \"/>\n",
       "<text text-anchor=\"middle\" x=\"534.6\" y=\"-116.8\" font-family=\"Times,serif\" font-size=\"14.00\">grad &#45;0.1966</text>\n",
       "</g>\n",
       "<!-- 139788774513136&#45;&gt;139788774514864+ -->\n",
       "<g id=\"edge8\" class=\"edge\">\n",
       "<title>139788774513136&#45;&gt;139788774514864+</title>\n",
       "<path fill=\"none\" stroke=\"black\" d=\"M575.03,-102.46C619.73,-94.47 669.42,-85.59 701.85,-79.8\"/>\n",
       "<polygon fill=\"black\" stroke=\"black\" points=\"702.52,-83.24 711.74,-78.03 701.28,-76.34 702.52,-83.24\"/>\n",
       "</g>\n",
       "<!-- 139788774513136exp -->\n",
       "<g id=\"node5\" class=\"node\">\n",
       "<title>139788774513136exp</title>\n",
       "<ellipse fill=\"none\" stroke=\"black\" cx=\"294.3\" cy=\"-108.5\" rx=\"27.1\" ry=\"18\"/>\n",
       "<text text-anchor=\"middle\" x=\"294.3\" y=\"-104.8\" font-family=\"Times,serif\" font-size=\"14.00\">exp</text>\n",
       "</g>\n",
       "<!-- 139788774513136exp&#45;&gt;139788774513136 -->\n",
       "<g id=\"edge2\" class=\"edge\">\n",
       "<title>139788774513136exp&#45;&gt;139788774513136</title>\n",
       "<path fill=\"none\" stroke=\"black\" d=\"M321.77,-110.3C329.19,-110.8 337.79,-111.38 347.05,-112.01\"/>\n",
       "<polygon fill=\"black\" stroke=\"black\" points=\"347.1,-115.52 357.31,-112.71 347.57,-108.54 347.1,-115.52\"/>\n",
       "</g>\n",
       "<!-- 139788774514864 -->\n",
       "<g id=\"node6\" class=\"node\">\n",
       "<title>139788774514864</title>\n",
       "<polygon fill=\"none\" stroke=\"black\" points=\"887.6,-54.5 887.6,-90.5 1118.6,-90.5 1118.6,-54.5 887.6,-54.5\"/>\n",
       "<text text-anchor=\"middle\" x=\"898.1\" y=\"-68.8\" font-family=\"Times,serif\" font-size=\"14.00\"> </text>\n",
       "<polyline fill=\"none\" stroke=\"black\" points=\"908.6,-54.5 908.6,-90.5 \"/>\n",
       "<text text-anchor=\"middle\" x=\"959.6\" y=\"-68.8\" font-family=\"Times,serif\" font-size=\"14.00\">data 3.7183</text>\n",
       "<polyline fill=\"none\" stroke=\"black\" points=\"1010.6,-54.5 1010.6,-90.5 \"/>\n",
       "<text text-anchor=\"middle\" x=\"1064.6\" y=\"-68.8\" font-family=\"Times,serif\" font-size=\"14.00\">grad &#45;0.1966</text>\n",
       "</g>\n",
       "<!-- 139788774513616**&#45;1 -->\n",
       "<g id=\"node12\" class=\"node\">\n",
       "<title>139788774513616**&#45;1</title>\n",
       "<ellipse fill=\"none\" stroke=\"black\" cx=\"1183.19\" cy=\"-70.5\" rx=\"28.7\" ry=\"18\"/>\n",
       "<text text-anchor=\"middle\" x=\"1183.19\" y=\"-66.8\" font-family=\"Times,serif\" font-size=\"14.00\">**&#45;1</text>\n",
       "</g>\n",
       "<!-- 139788774514864&#45;&gt;139788774513616**&#45;1 -->\n",
       "<g id=\"edge9\" class=\"edge\">\n",
       "<title>139788774514864&#45;&gt;139788774513616**&#45;1</title>\n",
       "<path fill=\"none\" stroke=\"black\" d=\"M1118.65,-71.21C1127.75,-71.11 1136.46,-71.01 1144.36,-70.92\"/>\n",
       "<polygon fill=\"black\" stroke=\"black\" points=\"1144.62,-74.42 1154.58,-70.81 1144.54,-67.42 1144.62,-74.42\"/>\n",
       "</g>\n",
       "<!-- 139788774514864+&#45;&gt;139788774514864 -->\n",
       "<g id=\"edge3\" class=\"edge\">\n",
       "<title>139788774514864+&#45;&gt;139788774514864</title>\n",
       "<path fill=\"none\" stroke=\"black\" d=\"M765.27,-73.4C791.86,-73.3 835.01,-73.14 877.25,-72.97\"/>\n",
       "<polygon fill=\"black\" stroke=\"black\" points=\"877.39,-76.47 887.38,-72.94 877.37,-69.47 877.39,-76.47\"/>\n",
       "</g>\n",
       "<!-- 139788774511552 -->\n",
       "<g id=\"node8\" class=\"node\">\n",
       "<title>139788774511552</title>\n",
       "<polygon fill=\"none\" stroke=\"black\" points=\"0,-51.5 0,-87.5 231,-87.5 231,-51.5 0,-51.5\"/>\n",
       "<text text-anchor=\"middle\" x=\"12.5\" y=\"-65.8\" font-family=\"Times,serif\" font-size=\"14.00\">a</text>\n",
       "<polyline fill=\"none\" stroke=\"black\" points=\"25,-51.5 25,-87.5 \"/>\n",
       "<text text-anchor=\"middle\" x=\"76\" y=\"-65.8\" font-family=\"Times,serif\" font-size=\"14.00\">data 1.0000</text>\n",
       "<polyline fill=\"none\" stroke=\"black\" points=\"127,-51.5 127,-87.5 \"/>\n",
       "<text text-anchor=\"middle\" x=\"179\" y=\"-65.8\" font-family=\"Times,serif\" font-size=\"14.00\">grad 0.1966</text>\n",
       "</g>\n",
       "<!-- 139788774511552&#45;&gt;139788774513136exp -->\n",
       "<g id=\"edge11\" class=\"edge\">\n",
       "<title>139788774511552&#45;&gt;139788774513136exp</title>\n",
       "<path fill=\"none\" stroke=\"black\" d=\"M198.17,-87.52C219.15,-92.14 240.64,-96.88 257.87,-100.69\"/>\n",
       "<polygon fill=\"black\" stroke=\"black\" points=\"257.49,-104.18 268.01,-102.92 259,-97.35 257.49,-104.18\"/>\n",
       "</g>\n",
       "<!-- 139788774516688exp -->\n",
       "<g id=\"node10\" class=\"node\">\n",
       "<title>139788774516688exp</title>\n",
       "<ellipse fill=\"none\" stroke=\"black\" cx=\"294.3\" cy=\"-42.5\" rx=\"27.1\" ry=\"18\"/>\n",
       "<text text-anchor=\"middle\" x=\"294.3\" y=\"-38.8\" font-family=\"Times,serif\" font-size=\"14.00\">exp</text>\n",
       "</g>\n",
       "<!-- 139788774511552&#45;&gt;139788774516688exp -->\n",
       "<g id=\"edge10\" class=\"edge\">\n",
       "<title>139788774511552&#45;&gt;139788774516688exp</title>\n",
       "<path fill=\"none\" stroke=\"black\" d=\"M231.46,-51.94C240.73,-50.53 249.56,-49.18 257.5,-47.97\"/>\n",
       "<polygon fill=\"black\" stroke=\"black\" points=\"258.04,-51.43 267.39,-46.46 256.98,-44.51 258.04,-51.43\"/>\n",
       "</g>\n",
       "<!-- 139788774516688 -->\n",
       "<g id=\"node9\" class=\"node\">\n",
       "<title>139788774516688</title>\n",
       "<polygon fill=\"none\" stroke=\"black\" points=\"624.6,-0.5 624.6,-36.5 851.6,-36.5 851.6,-0.5 624.6,-0.5\"/>\n",
       "<text text-anchor=\"middle\" x=\"635.1\" y=\"-14.8\" font-family=\"Times,serif\" font-size=\"14.00\"> </text>\n",
       "<polyline fill=\"none\" stroke=\"black\" points=\"645.6,-0.5 645.6,-36.5 \"/>\n",
       "<text text-anchor=\"middle\" x=\"696.6\" y=\"-14.8\" font-family=\"Times,serif\" font-size=\"14.00\">data 2.7183</text>\n",
       "<polyline fill=\"none\" stroke=\"black\" points=\"747.6,-0.5 747.6,-36.5 \"/>\n",
       "<text text-anchor=\"middle\" x=\"799.6\" y=\"-14.8\" font-family=\"Times,serif\" font-size=\"14.00\">grad 0.2689</text>\n",
       "</g>\n",
       "<!-- 139788774516688&#45;&gt;139788774514720* -->\n",
       "<g id=\"edge6\" class=\"edge\">\n",
       "<title>139788774516688&#45;&gt;139788774514720*</title>\n",
       "<path fill=\"none\" stroke=\"black\" d=\"M851.69,-22.31C1034.34,-28.49 1386.24,-40.4 1500.21,-44.26\"/>\n",
       "<polygon fill=\"black\" stroke=\"black\" points=\"1500.37,-47.77 1510.48,-44.61 1500.6,-40.77 1500.37,-47.77\"/>\n",
       "</g>\n",
       "<!-- 139788774516688exp&#45;&gt;139788774516688 -->\n",
       "<g id=\"edge4\" class=\"edge\">\n",
       "<title>139788774516688exp&#45;&gt;139788774516688</title>\n",
       "<path fill=\"none\" stroke=\"black\" d=\"M321.67,-40.74C332.76,-40.02 345.8,-39.19 357.6,-38.5 443.3,-33.49 539.94,-28.41 614.24,-24.62\"/>\n",
       "<polygon fill=\"black\" stroke=\"black\" points=\"614.76,-28.09 624.57,-24.09 614.41,-21.1 614.76,-28.09\"/>\n",
       "</g>\n",
       "<!-- 139788774513616 -->\n",
       "<g id=\"node11\" class=\"node\">\n",
       "<title>139788774513616</title>\n",
       "<polygon fill=\"none\" stroke=\"black\" points=\"1247.79,-52.5 1247.79,-88.5 1474.79,-88.5 1474.79,-52.5 1247.79,-52.5\"/>\n",
       "<text text-anchor=\"middle\" x=\"1258.29\" y=\"-66.8\" font-family=\"Times,serif\" font-size=\"14.00\"> </text>\n",
       "<polyline fill=\"none\" stroke=\"black\" points=\"1268.79,-52.5 1268.79,-88.5 \"/>\n",
       "<text text-anchor=\"middle\" x=\"1319.79\" y=\"-66.8\" font-family=\"Times,serif\" font-size=\"14.00\">data 0.2689</text>\n",
       "<polyline fill=\"none\" stroke=\"black\" points=\"1370.79,-52.5 1370.79,-88.5 \"/>\n",
       "<text text-anchor=\"middle\" x=\"1422.79\" y=\"-66.8\" font-family=\"Times,serif\" font-size=\"14.00\">grad 2.7183</text>\n",
       "</g>\n",
       "<!-- 139788774513616&#45;&gt;139788774514720* -->\n",
       "<g id=\"edge7\" class=\"edge\">\n",
       "<title>139788774513616&#45;&gt;139788774514720*</title>\n",
       "<path fill=\"none\" stroke=\"black\" d=\"M1475.27,-54.31C1484.56,-52.98 1493.43,-51.71 1501.39,-50.57\"/>\n",
       "<polygon fill=\"black\" stroke=\"black\" points=\"1501.89,-54.04 1511.3,-49.15 1500.9,-47.11 1501.89,-54.04\"/>\n",
       "</g>\n",
       "<!-- 139788774513616**&#45;1&#45;&gt;139788774513616 -->\n",
       "<g id=\"edge5\" class=\"edge\">\n",
       "<title>139788774513616**&#45;1&#45;&gt;139788774513616</title>\n",
       "<path fill=\"none\" stroke=\"black\" d=\"M1212.1,-70.5C1219.57,-70.5 1228.16,-70.5 1237.35,-70.5\"/>\n",
       "<polygon fill=\"black\" stroke=\"black\" points=\"1237.54,-74 1247.54,-70.5 1237.54,-67 1237.54,-74\"/>\n",
       "</g>\n",
       "</g>\n",
       "</svg>\n"
      ],
      "text/plain": [
       "<graphviz.graphs.Digraph at 0x7f231c3f9d80>"
      ]
     },
     "execution_count": 13,
     "metadata": {},
     "output_type": "execute_result"
    }
   ],
   "source": [
    "a = Valor(1, rotulo=\"a\")\n",
    "b = a.sig()\n",
    "print(b)\n",
    "b.propagar_tudo()\n",
    "plota_grafo(b)\n"
   ]
  },
  {
   "attachments": {},
   "cell_type": "markdown",
   "metadata": {},
   "source": [
    "## Conclusão\n",
    "\n",
    "Neste notebook, realizamos modificações na classe `Valor` para atender aos objetivos definidos. A classe foi atualizada para adicionar uma instância de `Valor` com uma constante qualquer, multiplicar uma instância de `Valor` por uma constante, adicionar uma instância de `Valor` com uma constante na ordem oposta, multiplicar uma instância de `Valor` por uma constante na ordem oposta, aplicar a função exponencial $e^x$ a uma instância de `Valor`, elevar uma instância de `Valor` a um número real qualquer, dividir uma instância de `Valor` por outra, computar o negativo de uma instância de `Valor` e subtrair uma instância de `Valor` por outra. Além disso, implementamos a <span style=color:red;font-size:150%>função sigmoide</span> $\\sigma$ (ou logística) em uma instância de `Valor`.\n",
    "\n",
    "Essas modificações na classe ampliaram muito sua funcionalidade, permitindo operações matemáticas mais complexas e adequadas ao processamento de Redes Neurais. Com essas adições, agora temos uma base sólida para realizar cálculos mais avançados em nossa rede neural e ainda computar corretamente o gradiente local de cada operação! A <span style=color:red;font-size:150%>função sigmoide</span> será futuramente utilizada como a **função de ativação** da nossa Rede!\n",
    "\n",
    "As novas funcionalidades implementadas nos permitem construir redes neurais mais poderosas e eficientes; a capacidade de aplicar funções como exponenciais, sigmoide e realizar operações aritméticas fundamentais expande nossas possibilidades de modelagem e análise de dados.\n",
    "\n",
    "Em resumo, as modificações realizadas na classe `Valor` neste notebook forneceram uma base sólida para o processamento e o cálculo do gradiente local em operações mais avançadas em redes neurais. Essas atualizações capacitam nossa rede neural a lidar com uma gama mais ampla de tarefas e a explorar recursos matemáticos essenciais para o aprendizado de máquina! :)"
   ]
  },
  {
   "attachments": {},
   "cell_type": "markdown",
   "metadata": {},
   "source": [
    "## Playground\n",
    "\n"
   ]
  },
  {
   "cell_type": "code",
   "execution_count": null,
   "metadata": {},
   "outputs": [],
   "source": []
  }
 ],
 "metadata": {
  "kernelspec": {
   "display_name": "Python 3",
   "language": "python",
   "name": "python3"
  },
  "language_info": {
   "codemirror_mode": {
    "name": "ipython",
    "version": 3
   },
   "file_extension": ".py",
   "mimetype": "text/x-python",
   "name": "python",
   "nbconvert_exporter": "python",
   "pygments_lexer": "ipython3",
   "version": "3.10.6"
  },
  "org": null
 },
 "nbformat": 4,
 "nbformat_minor": 4
}
