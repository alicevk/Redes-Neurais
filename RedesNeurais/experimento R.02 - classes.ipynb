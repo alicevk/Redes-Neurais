{
 "cells": [
  {
   "cell_type": "markdown",
   "source": [
    "Introdução à Classes\n",
    "====================\n",
    "\n"
   ],
   "metadata": {}
  },
  {
   "cell_type": "markdown",
   "source": [
    "## Introdução\n",
    "\n"
   ],
   "metadata": {}
  },
  {
   "cell_type": "markdown",
   "source": [
    "Quando queremos organizar objetos em uma certa ordem bem definida, usamos `listas`.\n",
    "\n",
    "Quando queremos relacionar dois objetos entre si, usamos `dicionários`.\n",
    "\n",
    "Quando queremos agrupar objetos únicos sem repetição e sem ordem bem definida, usamos `conjuntos`.\n",
    "\n",
    "Quando queremos executar uma sequência bem definida de ações, usamos `funções`.\n",
    "\n",
    "O que nós usamos quando queremos criar uma estrutura complexa de informações e ações onde apenas listas, dicionários, conjuntos e funções não são suficientes? Neste caso, usamos `classes`!\n",
    "\n"
   ],
   "metadata": {}
  },
  {
   "cell_type": "markdown",
   "source": [
    "## Código e discussão\n",
    "\n"
   ],
   "metadata": {}
  },
  {
   "cell_type": "markdown",
   "source": [
    "### A classe mais simples do mundo\n",
    "\n"
   ],
   "metadata": {}
  },
  {
   "cell_type": "markdown",
   "source": [
    "A classe mais simples do mundo é simplesmente um amontoado de informação. Classes devem ser nomeadas sempre com a primeira letra em maiúsculo.\n",
    "\n"
   ],
   "metadata": {}
  },
  {
   "cell_type": "code",
   "execution_count": 1,
   "source": [
    "class Dados:\r\n",
    "    dado1 = 10\r\n",
    "    dado2 = [1, 2, 3]\r\n",
    "    dado3 = 0.908\r\n",
    "    dado4 = {\"a\": 1, \"b\": 2}"
   ],
   "outputs": [],
   "metadata": {}
  },
  {
   "cell_type": "markdown",
   "source": [
    "Para criar um objeto baseado na sua classe, basta chamá-la com o parênteses, da mesma forma que fazemos com funções.\n",
    "\n"
   ],
   "metadata": {}
  },
  {
   "cell_type": "code",
   "execution_count": 2,
   "source": [
    "objeto = Dados()"
   ],
   "outputs": [],
   "metadata": {}
  },
  {
   "cell_type": "markdown",
   "source": [
    "Agora podemos acessar os objetos da classe. Para isso usamos o ponto final.\n",
    "\n"
   ],
   "metadata": {}
  },
  {
   "cell_type": "code",
   "execution_count": 3,
   "source": [
    "print(objeto.dado1)"
   ],
   "outputs": [
    {
     "output_type": "stream",
     "name": "stdout",
     "text": [
      "10\n"
     ]
    }
   ],
   "metadata": {}
  },
  {
   "cell_type": "markdown",
   "source": [
    "Se você se perguntou &ldquo;uai, mas por que usar uma classe sendo que um dicionário faria efetivamente a mesma coisa?&rdquo;, então você está no caminho certo. Apenas armazenar dados em uma classe desta forma não representa uma vantagem objetiva em relação à usar um dicionário. Vamos seguir em frente!\n",
    "\n"
   ],
   "metadata": {}
  },
  {
   "cell_type": "markdown",
   "source": [
    "### Classes podem fazer algo ao serem criadas\n",
    "\n"
   ],
   "metadata": {}
  },
  {
   "cell_type": "markdown",
   "source": [
    "Quando nós criamos uma classe, nós dizemos que criamos uma instância desta classe. Uma instância de uma classe representa um objeto que tem as propriedades da classe.\n",
    "\n",
    "Ao instanciar uma classe, você pode executar uma tarefa. Para isso, defina o método `__init__` usando necessariamente o `self` como primeiro argumento.\n",
    "\n"
   ],
   "metadata": {}
  },
  {
   "cell_type": "code",
   "execution_count": 4,
   "source": [
    "class Material:\r\n",
    "    def __init__(self, modulo_elastico):\r\n",
    "        self.modulo_elastico = modulo_elastico"
   ],
   "outputs": [],
   "metadata": {}
  },
  {
   "cell_type": "markdown",
   "source": [
    "Agora podemos criar um objeto da classe `Material` com um certo valor de módulo elástico.\n",
    "\n"
   ],
   "metadata": {}
  },
  {
   "cell_type": "code",
   "execution_count": 5,
   "source": [
    "modulo_elastico_do_meu_material = 100\r\n",
    "meu_material = Material(modulo_elastico_do_meu_material)\r\n",
    "\r\n",
    "print(meu_material)\r\n",
    "print(meu_material.modulo_elastico)"
   ],
   "outputs": [
    {
     "output_type": "stream",
     "name": "stdout",
     "text": [
      "<__main__.Material object at 0x000001472D658F10>\n",
      "100\n"
     ]
    }
   ],
   "metadata": {}
  },
  {
   "cell_type": "markdown",
   "source": [
    "### Os métodos `dunder`\n",
    "\n"
   ],
   "metadata": {}
  },
  {
   "cell_type": "markdown",
   "source": [
    "Observe que acima usamos um método chamado `__init__` com prefixo de dois sublinhados e sufixo de dois sublinhados. Esses métodos com essa notação são especiais e são chamados de `dunder` (vem de *double underscore*, ou duplo sublinhado em português). Existem diversos métodos dunder!\n",
    "\n",
    "Os métodos dunder controlam certos comportamentos da nossa classe. Por exemplo, observe que quando damos `print` em um objeto instanciado de uma classe ele mostra um texto padrão do tipo `<__main__.Material object at 0x7f0d2b57f9a0>`. Quem controla o texto que é exibido é o método dunder `__repr__`. Vamos ver um exemplo.\n",
    "\n"
   ],
   "metadata": {}
  },
  {
   "cell_type": "code",
   "execution_count": 6,
   "source": [
    "class Material:\r\n",
    "    def __init__(self, modulo_elastico):\r\n",
    "        self.modulo_elastico = modulo_elastico\r\n",
    "\r\n",
    "    def __repr__(self):\r\n",
    "        return f\"Material com módulo elástico de {self.modulo_elastico} GPa.\"\r\n",
    "\r\n",
    "modulo_elastico_do_meu_material = 100\r\n",
    "meu_material = Material(modulo_elastico_do_meu_material)\r\n",
    "\r\n",
    "print(meu_material)"
   ],
   "outputs": [
    {
     "output_type": "stream",
     "name": "stdout",
     "text": [
      "Material com módulo elástico de 100 GPa.\n"
     ]
    }
   ],
   "metadata": {}
  },
  {
   "cell_type": "markdown",
   "source": [
    "### Os métodos que não são `dunder`\n",
    "\n"
   ],
   "metadata": {}
  },
  {
   "cell_type": "markdown",
   "source": [
    "Classes podem ter métodos que não são especiais. Vamos tentar implementar um método que usa a lei de Hook para calcular a tensão aplicada no material ($\\sigma$) dada uma deformação ($\\varepsilon$).\n",
    "\n",
    "$$\n",
    "\\sigma = E \\varepsilon\n",
    "$$\n",
    "\n"
   ],
   "metadata": {}
  },
  {
   "cell_type": "code",
   "execution_count": 8,
   "source": [
    "class Material:\r\n",
    "    def __init__(self, modulo_elastico):\r\n",
    "        self.modulo_elastico = modulo_elastico\r\n",
    "        self.nome = \"Exemplo\"\r\n",
    "\r\n",
    "    def __repr__(self):\r\n",
    "        return f\"Material {self.nome} com módulo elástico de {self.modulo_elastico} GPa.\"\r\n",
    "\r\n",
    "    def tensao(self, deformacao):\r\n",
    "        valor_tensao = self.modulo_elastico * deformacao\r\n",
    "        return valor_tensao\r\n",
    "\r\n",
    "modulo_elastico_do_meu_material = 100\r\n",
    "meu_material = Material(modulo_elastico_do_meu_material)\r\n",
    "\r\n",
    "deformacao = 2\r\n",
    "\r\n",
    "tensao = meu_material.tensao(deformacao)\r\n",
    "print(meu_material)\r\n",
    "print(tensao)\r\n",
    "print(meu_material.nome)"
   ],
   "outputs": [
    {
     "output_type": "stream",
     "name": "stdout",
     "text": [
      "Material Exemplo com módulo elástico de 100 GPa.\n",
      "200\n",
      "Exemplo\n"
     ]
    }
   ],
   "metadata": {}
  },
  {
   "cell_type": "markdown",
   "source": [
    "### Alterando o estado da nossa classe\n",
    "\n"
   ],
   "metadata": {}
  },
  {
   "cell_type": "markdown",
   "source": [
    "Classes são estruturas de dados onde nos preocupamos com o seu estado. No exemplo acima, nosso material tem uma propriedade chamada de `modulo_elastico`. Digamos que nós podemos aumentar o módulo elástico do nosso material realizando um tratamento térmico. Cada vez que realizamos o tratamento térmico o módulo elástico aumenta em 10%, porém o material só aguenta no máximo 5 tratamentos térmicos. Alterar uma propriedade da nossa classe é alterar seu estado. Podemos adicionar esse processo de tratamento térmico na nossa classe.\n",
    "\n"
   ],
   "metadata": {}
  },
  {
   "cell_type": "code",
   "execution_count": 9,
   "source": [
    "class Material:\r\n",
    "    def __init__(self, modulo_elastico):\r\n",
    "        self.modulo_elastico = modulo_elastico\r\n",
    "        self.num_tratamentos = 0\r\n",
    "\r\n",
    "    def __repr__(self):\r\n",
    "        return f\"Material com módulo elástico de {self.modulo_elastico} GPa.\"\r\n",
    "\r\n",
    "    def tratamento_termico(self):\r\n",
    "        if self.num_tratamentos < 5:\r\n",
    "            self.modulo_elastico = self.modulo_elastico * 1.1\r\n",
    "            self.num_tratamentos = self.num_tratamentos + 1\r\n",
    "\r\n",
    "modulo_elastico_do_meu_material = 100\r\n",
    "meu_material = Material(modulo_elastico_do_meu_material)\r\n",
    "\r\n",
    "print(meu_material)\r\n",
    "\r\n",
    "meu_material.tratamento_termico()\r\n",
    "print(meu_material)\r\n",
    "\r\n",
    "meu_material.tratamento_termico()\r\n",
    "print(meu_material)\r\n",
    "\r\n",
    "meu_material.tratamento_termico()\r\n",
    "print(meu_material)\r\n",
    "\r\n",
    "meu_material.tratamento_termico()\r\n",
    "print(meu_material)\r\n",
    "\r\n",
    "meu_material.tratamento_termico()\r\n",
    "print(meu_material)\r\n",
    "\r\n",
    "meu_material.tratamento_termico()\r\n",
    "print(meu_material)\r\n",
    "\r\n",
    "meu_material.tratamento_termico()\r\n",
    "print(meu_material)"
   ],
   "outputs": [
    {
     "output_type": "stream",
     "name": "stdout",
     "text": [
      "Material com módulo elástico de 100 GPa.\n",
      "Material com módulo elástico de 110.00000000000001 GPa.\n",
      "Material com módulo elástico de 121.00000000000003 GPa.\n",
      "Material com módulo elástico de 133.10000000000005 GPa.\n",
      "Material com módulo elástico de 146.41000000000008 GPa.\n",
      "Material com módulo elástico de 161.0510000000001 GPa.\n",
      "Material com módulo elástico de 161.0510000000001 GPa.\n",
      "Material com módulo elástico de 161.0510000000001 GPa.\n"
     ]
    }
   ],
   "metadata": {}
  },
  {
   "cell_type": "markdown",
   "source": [
    "### Alterando o estado da nossa classe fora dela\n",
    "\n"
   ],
   "metadata": {}
  },
  {
   "cell_type": "markdown",
   "source": [
    "Em certos casos nós precisamos alterar alguma propriedade da nossa classe fora dela (isto é, fora das linhas de código que foram usadas para definir a classe). Podemos, por exemplo, alterar o módulo elástico do nosso material &ldquo;na mão&rdquo;.\n",
    "\n"
   ],
   "metadata": {}
  },
  {
   "cell_type": "code",
   "execution_count": 10,
   "source": [
    "class Material:\r\n",
    "    def __init__(self, modulo_elastico):\r\n",
    "        self.modulo_elastico = modulo_elastico\r\n",
    "        self.num_tratamentos = 0\r\n",
    "\r\n",
    "    def __repr__(self):\r\n",
    "        return f\"Material com módulo elástico de {self.modulo_elastico} GPa.\"\r\n",
    "\r\n",
    "modulo_elastico_do_meu_material = 100\r\n",
    "meu_material = Material(modulo_elastico_do_meu_material)\r\n",
    "print(meu_material)\r\n",
    "\r\n",
    "# alterando a propriedade \"na mão\"\r\n",
    "meu_material.modulo_elastico = 200\r\n",
    "print(meu_material)"
   ],
   "outputs": [
    {
     "output_type": "stream",
     "name": "stdout",
     "text": [
      "Material com módulo elástico de 100 GPa.\n",
      "Material com módulo elástico de 200 GPa.\n"
     ]
    }
   ],
   "metadata": {}
  },
  {
   "cell_type": "markdown",
   "source": [
    "Pense muito bem antes de sair alterando propriedades de classes &ldquo;na mão&rdquo;. Não é uma ação proibida, mas também não é algo que fazemos a todo momento sem justificativa.\n",
    "\n"
   ],
   "metadata": {}
  },
  {
   "cell_type": "markdown",
   "source": [
    "### Testando suas habilidades\n",
    "\n"
   ],
   "metadata": {}
  },
  {
   "cell_type": "markdown",
   "source": [
    "Para testar suas habilidades, modifique a classe `Material` adicionando um novo argumento no método `__init__`, usando ele para criar uma nova propriedade e criando um novo método que altera o estado desta classe.\n",
    "\n"
   ],
   "metadata": {}
  },
  {
   "cell_type": "code",
   "execution_count": null,
   "source": [],
   "outputs": [],
   "metadata": {}
  },
  {
   "cell_type": "markdown",
   "source": [
    "## Conclusão\n",
    "\n"
   ],
   "metadata": {}
  },
  {
   "cell_type": "markdown",
   "source": [
    "## Playground\n",
    "\n"
   ],
   "metadata": {}
  },
  {
   "cell_type": "code",
   "execution_count": null,
   "source": [],
   "outputs": [],
   "metadata": {}
  }
 ],
 "metadata": {
  "kernelspec": {
   "name": "python3",
   "display_name": "Python 3.9.7 64-bit ('ilumpy': venv)"
  },
  "language_info": {
   "codemirror_mode": {
    "name": "ipython",
    "version": 3
   },
   "file_extension": ".py",
   "mimetype": "text/x-python",
   "name": "python",
   "nbconvert_exporter": "python",
   "pygments_lexer": "ipython3",
   "version": "3.9.7"
  },
  "org": null,
  "interpreter": {
   "hash": "b3e6b8674b6565fbc2ba6932dd725c7d9cea502db282270049ae80a8cf38102d"
  }
 },
 "nbformat": 4,
 "nbformat_minor": 4
}